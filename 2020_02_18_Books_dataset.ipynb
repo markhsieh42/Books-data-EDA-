{
  "nbformat": 4,
  "nbformat_minor": 0,
  "metadata": {
    "kernelspec": {
      "display_name": "jupyter",
      "language": "python",
      "name": "jupyter"
    },
    "language_info": {
      "codemirror_mode": {
        "name": "ipython",
        "version": 3
      },
      "file_extension": ".py",
      "mimetype": "text/x-python",
      "name": "python",
      "nbconvert_exporter": "python",
      "pygments_lexer": "ipython3",
      "version": "3.7.0"
    },
    "colab": {
      "name": "2020_02_18_Books_dataset_first_sent_edits_joe.ipynb",
      "provenance": [],
      "collapsed_sections": [
        "XmgngL7oUYPD",
        "bTE3gFgqUYPV",
        "10NESPpGUYPY",
        "TELk2hKiX4xC",
        "5bE03ytRUYPz",
        "uoXj0CKWUYQB",
        "XXgJsfuLUYQD",
        "m9p_EKIsUYQS",
        "vy2CHoZfUYQX",
        "Ke0N32CyUYQa",
        "o7vuD_L3UYQy",
        "BxPUGZMJUYRP",
        "qhUHk7JpUYR2",
        "m2I1wu8OUYSH"
      ]
    }
  },
  "cells": [
    {
      "cell_type": "markdown",
      "metadata": {
        "id": "XmgngL7oUYPD",
        "colab_type": "text"
      },
      "source": [
        "# read the data, take a glimpse of it"
      ]
    },
    {
      "cell_type": "code",
      "metadata": {
        "id": "pSaChKF6UYPE",
        "colab_type": "code",
        "colab": {}
      },
      "source": [
        "import numpy as np\n",
        "import pandas as pd\n",
        "import matplotlib.pyplot as plt\n",
        "import seaborn as sns\n",
        "import sklearn as sk"
      ],
      "execution_count": 0,
      "outputs": []
    },
    {
      "cell_type": "code",
      "metadata": {
        "id": "7X1UW_WfUYPI",
        "colab_type": "code",
        "colab": {}
      },
      "source": [
        "%matplotlib inline"
      ],
      "execution_count": 0,
      "outputs": []
    },
    {
      "cell_type": "code",
      "metadata": {
        "id": "_Zv8osRYUYPL",
        "colab_type": "code",
        "colab": {},
        "outputId": "59e1f486-5b6c-45a0-b22a-d0fdf35f1a66"
      },
      "source": [
        "books = pd.read_csv(\"books.csv\", error_bad_lines=False)"
      ],
      "execution_count": 0,
      "outputs": [
        {
          "output_type": "stream",
          "text": [
            "b'Skipping line 4012: expected 10 fields, saw 11\\nSkipping line 5688: expected 10 fields, saw 11\\nSkipping line 7056: expected 10 fields, saw 11\\nSkipping line 10601: expected 10 fields, saw 11\\nSkipping line 10668: expected 10 fields, saw 11\\n'\n"
          ],
          "name": "stderr"
        }
      ]
    },
    {
      "cell_type": "code",
      "metadata": {
        "id": "s981NwBQUYPP",
        "colab_type": "code",
        "colab": {}
      },
      "source": [
        "def givemefive(x):\n",
        "    if isinstance(x, pd.DataFrame):\n",
        "        print(x.shape)\n",
        "        print(x.info())\n",
        "        return x.head()\n",
        "    else:\n",
        "        print(\"x is not a fcking DataFrame\")\n",
        "\n",
        "# define function practise"
      ],
      "execution_count": 0,
      "outputs": []
    },
    {
      "cell_type": "code",
      "metadata": {
        "id": "VmjUyVbuUYPS",
        "colab_type": "code",
        "colab": {},
        "outputId": "45347fac-2c54-4d14-e2ca-b34f71b15053"
      },
      "source": [
        "givemefive(books)"
      ],
      "execution_count": 0,
      "outputs": [
        {
          "output_type": "stream",
          "text": [
            "(13714, 10)\n",
            "<class 'pandas.core.frame.DataFrame'>\n",
            "RangeIndex: 13714 entries, 0 to 13713\n",
            "Data columns (total 10 columns):\n",
            "bookID                13714 non-null int64\n",
            "title                 13714 non-null object\n",
            "authors               13714 non-null object\n",
            "average_rating        13714 non-null float64\n",
            "isbn                  13714 non-null object\n",
            "isbn13                13714 non-null int64\n",
            "language_code         13714 non-null object\n",
            "# num_pages           13714 non-null int64\n",
            "ratings_count         13714 non-null int64\n",
            "text_reviews_count    13714 non-null int64\n",
            "dtypes: float64(1), int64(5), object(4)\n",
            "memory usage: 1.0+ MB\n",
            "None\n"
          ],
          "name": "stdout"
        },
        {
          "output_type": "execute_result",
          "data": {
            "text/html": [
              "<div>\n",
              "<style scoped>\n",
              "    .dataframe tbody tr th:only-of-type {\n",
              "        vertical-align: middle;\n",
              "    }\n",
              "\n",
              "    .dataframe tbody tr th {\n",
              "        vertical-align: top;\n",
              "    }\n",
              "\n",
              "    .dataframe thead th {\n",
              "        text-align: right;\n",
              "    }\n",
              "</style>\n",
              "<table border=\"1\" class=\"dataframe\">\n",
              "  <thead>\n",
              "    <tr style=\"text-align: right;\">\n",
              "      <th></th>\n",
              "      <th>bookID</th>\n",
              "      <th>title</th>\n",
              "      <th>authors</th>\n",
              "      <th>average_rating</th>\n",
              "      <th>isbn</th>\n",
              "      <th>isbn13</th>\n",
              "      <th>language_code</th>\n",
              "      <th># num_pages</th>\n",
              "      <th>ratings_count</th>\n",
              "      <th>text_reviews_count</th>\n",
              "    </tr>\n",
              "  </thead>\n",
              "  <tbody>\n",
              "    <tr>\n",
              "      <th>0</th>\n",
              "      <td>1</td>\n",
              "      <td>Harry Potter and the Half-Blood Prince (Harry ...</td>\n",
              "      <td>J.K. Rowling-Mary GrandPré</td>\n",
              "      <td>4.56</td>\n",
              "      <td>0439785960</td>\n",
              "      <td>9780439785969</td>\n",
              "      <td>eng</td>\n",
              "      <td>652</td>\n",
              "      <td>1944099</td>\n",
              "      <td>26249</td>\n",
              "    </tr>\n",
              "    <tr>\n",
              "      <th>1</th>\n",
              "      <td>2</td>\n",
              "      <td>Harry Potter and the Order of the Phoenix (Har...</td>\n",
              "      <td>J.K. Rowling-Mary GrandPré</td>\n",
              "      <td>4.49</td>\n",
              "      <td>0439358078</td>\n",
              "      <td>9780439358071</td>\n",
              "      <td>eng</td>\n",
              "      <td>870</td>\n",
              "      <td>1996446</td>\n",
              "      <td>27613</td>\n",
              "    </tr>\n",
              "    <tr>\n",
              "      <th>2</th>\n",
              "      <td>3</td>\n",
              "      <td>Harry Potter and the Sorcerer's Stone (Harry P...</td>\n",
              "      <td>J.K. Rowling-Mary GrandPré</td>\n",
              "      <td>4.47</td>\n",
              "      <td>0439554934</td>\n",
              "      <td>9780439554930</td>\n",
              "      <td>eng</td>\n",
              "      <td>320</td>\n",
              "      <td>5629932</td>\n",
              "      <td>70390</td>\n",
              "    </tr>\n",
              "    <tr>\n",
              "      <th>3</th>\n",
              "      <td>4</td>\n",
              "      <td>Harry Potter and the Chamber of Secrets (Harry...</td>\n",
              "      <td>J.K. Rowling</td>\n",
              "      <td>4.41</td>\n",
              "      <td>0439554896</td>\n",
              "      <td>9780439554893</td>\n",
              "      <td>eng</td>\n",
              "      <td>352</td>\n",
              "      <td>6267</td>\n",
              "      <td>272</td>\n",
              "    </tr>\n",
              "    <tr>\n",
              "      <th>4</th>\n",
              "      <td>5</td>\n",
              "      <td>Harry Potter and the Prisoner of Azkaban (Harr...</td>\n",
              "      <td>J.K. Rowling-Mary GrandPré</td>\n",
              "      <td>4.55</td>\n",
              "      <td>043965548X</td>\n",
              "      <td>9780439655484</td>\n",
              "      <td>eng</td>\n",
              "      <td>435</td>\n",
              "      <td>2149872</td>\n",
              "      <td>33964</td>\n",
              "    </tr>\n",
              "  </tbody>\n",
              "</table>\n",
              "</div>"
            ],
            "text/plain": [
              "   bookID                                              title  \\\n",
              "0       1  Harry Potter and the Half-Blood Prince (Harry ...   \n",
              "1       2  Harry Potter and the Order of the Phoenix (Har...   \n",
              "2       3  Harry Potter and the Sorcerer's Stone (Harry P...   \n",
              "3       4  Harry Potter and the Chamber of Secrets (Harry...   \n",
              "4       5  Harry Potter and the Prisoner of Azkaban (Harr...   \n",
              "\n",
              "                      authors  average_rating        isbn         isbn13  \\\n",
              "0  J.K. Rowling-Mary GrandPré            4.56  0439785960  9780439785969   \n",
              "1  J.K. Rowling-Mary GrandPré            4.49  0439358078  9780439358071   \n",
              "2  J.K. Rowling-Mary GrandPré            4.47  0439554934  9780439554930   \n",
              "3                J.K. Rowling            4.41  0439554896  9780439554893   \n",
              "4  J.K. Rowling-Mary GrandPré            4.55  043965548X  9780439655484   \n",
              "\n",
              "  language_code  # num_pages  ratings_count  text_reviews_count  \n",
              "0           eng          652        1944099               26249  \n",
              "1           eng          870        1996446               27613  \n",
              "2           eng          320        5629932               70390  \n",
              "3           eng          352           6267                 272  \n",
              "4           eng          435        2149872               33964  "
            ]
          },
          "metadata": {
            "tags": []
          },
          "execution_count": 6
        }
      ]
    },
    {
      "cell_type": "markdown",
      "metadata": {
        "id": "bTE3gFgqUYPV",
        "colab_type": "text"
      },
      "source": [
        "# Get rid of duplicate columns"
      ]
    },
    {
      "cell_type": "code",
      "metadata": {
        "id": "5y7T7OryUYPV",
        "colab_type": "code",
        "colab": {}
      },
      "source": [
        "books.drop(['bookID'],axis= 1,inplace = True)\n",
        "books.rename(columns = {'# num_pages':'num_pages'}, inplace = True)\n",
        "\n",
        "books.drop(columns = 'isbn13', inplace = True)\n",
        "books.set_index('isbn', inplace = True)"
      ],
      "execution_count": 0,
      "outputs": []
    },
    {
      "cell_type": "markdown",
      "metadata": {
        "id": "10NESPpGUYPY",
        "colab_type": "text"
      },
      "source": [
        "# EDA -- number of books vs auther"
      ]
    },
    {
      "cell_type": "code",
      "metadata": {
        "id": "VKe4XtP0UYPZ",
        "colab_type": "code",
        "colab": {}
      },
      "source": [
        "df = books"
      ],
      "execution_count": 0,
      "outputs": []
    },
    {
      "cell_type": "code",
      "metadata": {
        "id": "HbP_hY12UYPc",
        "colab_type": "code",
        "colab": {},
        "outputId": "488c7457-a083-4d58-ad65-f6a518759995"
      },
      "source": [
        "books.loc[books['num_pages'].idxmax()] # get the biggest id that num_pages is the largest\n",
        "pd.DataFrame(books.groupby('language_code').size().sort_values(ascending = False)) # usage of size() "
      ],
      "execution_count": 0,
      "outputs": [
        {
          "output_type": "execute_result",
          "data": {
            "text/html": [
              "<div>\n",
              "<style scoped>\n",
              "    .dataframe tbody tr th:only-of-type {\n",
              "        vertical-align: middle;\n",
              "    }\n",
              "\n",
              "    .dataframe tbody tr th {\n",
              "        vertical-align: top;\n",
              "    }\n",
              "\n",
              "    .dataframe thead th {\n",
              "        text-align: right;\n",
              "    }\n",
              "</style>\n",
              "<table border=\"1\" class=\"dataframe\">\n",
              "  <thead>\n",
              "    <tr style=\"text-align: right;\">\n",
              "      <th></th>\n",
              "      <th>0</th>\n",
              "    </tr>\n",
              "    <tr>\n",
              "      <th>language_code</th>\n",
              "      <th></th>\n",
              "    </tr>\n",
              "  </thead>\n",
              "  <tbody>\n",
              "    <tr>\n",
              "      <th>eng</th>\n",
              "      <td>10594</td>\n",
              "    </tr>\n",
              "    <tr>\n",
              "      <th>en-US</th>\n",
              "      <td>1699</td>\n",
              "    </tr>\n",
              "    <tr>\n",
              "      <th>spa</th>\n",
              "      <td>419</td>\n",
              "    </tr>\n",
              "    <tr>\n",
              "      <th>en-GB</th>\n",
              "      <td>341</td>\n",
              "    </tr>\n",
              "    <tr>\n",
              "      <th>ger</th>\n",
              "      <td>238</td>\n",
              "    </tr>\n",
              "    <tr>\n",
              "      <th>fre</th>\n",
              "      <td>209</td>\n",
              "    </tr>\n",
              "    <tr>\n",
              "      <th>jpn</th>\n",
              "      <td>64</td>\n",
              "    </tr>\n",
              "    <tr>\n",
              "      <th>por</th>\n",
              "      <td>27</td>\n",
              "    </tr>\n",
              "    <tr>\n",
              "      <th>mul</th>\n",
              "      <td>21</td>\n",
              "    </tr>\n",
              "    <tr>\n",
              "      <th>ita</th>\n",
              "      <td>19</td>\n",
              "    </tr>\n",
              "    <tr>\n",
              "      <th>zho</th>\n",
              "      <td>16</td>\n",
              "    </tr>\n",
              "    <tr>\n",
              "      <th>grc</th>\n",
              "      <td>12</td>\n",
              "    </tr>\n",
              "    <tr>\n",
              "      <th>en-CA</th>\n",
              "      <td>9</td>\n",
              "    </tr>\n",
              "    <tr>\n",
              "      <th>nl</th>\n",
              "      <td>7</td>\n",
              "    </tr>\n",
              "    <tr>\n",
              "      <th>rus</th>\n",
              "      <td>7</td>\n",
              "    </tr>\n",
              "    <tr>\n",
              "      <th>swe</th>\n",
              "      <td>6</td>\n",
              "    </tr>\n",
              "    <tr>\n",
              "      <th>glg</th>\n",
              "      <td>4</td>\n",
              "    </tr>\n",
              "    <tr>\n",
              "      <th>lat</th>\n",
              "      <td>3</td>\n",
              "    </tr>\n",
              "    <tr>\n",
              "      <th>cat</th>\n",
              "      <td>3</td>\n",
              "    </tr>\n",
              "    <tr>\n",
              "      <th>tur</th>\n",
              "      <td>3</td>\n",
              "    </tr>\n",
              "    <tr>\n",
              "      <th>enm</th>\n",
              "      <td>3</td>\n",
              "    </tr>\n",
              "    <tr>\n",
              "      <th>ara</th>\n",
              "      <td>2</td>\n",
              "    </tr>\n",
              "    <tr>\n",
              "      <th>dan</th>\n",
              "      <td>1</td>\n",
              "    </tr>\n",
              "    <tr>\n",
              "      <th>heb</th>\n",
              "      <td>1</td>\n",
              "    </tr>\n",
              "    <tr>\n",
              "      <th>gla</th>\n",
              "      <td>1</td>\n",
              "    </tr>\n",
              "    <tr>\n",
              "      <th>wel</th>\n",
              "      <td>1</td>\n",
              "    </tr>\n",
              "    <tr>\n",
              "      <th>msa</th>\n",
              "      <td>1</td>\n",
              "    </tr>\n",
              "    <tr>\n",
              "      <th>nor</th>\n",
              "      <td>1</td>\n",
              "    </tr>\n",
              "    <tr>\n",
              "      <th>srp</th>\n",
              "      <td>1</td>\n",
              "    </tr>\n",
              "    <tr>\n",
              "      <th>ale</th>\n",
              "      <td>1</td>\n",
              "    </tr>\n",
              "  </tbody>\n",
              "</table>\n",
              "</div>"
            ],
            "text/plain": [
              "                   0\n",
              "language_code       \n",
              "eng            10594\n",
              "en-US           1699\n",
              "spa              419\n",
              "en-GB            341\n",
              "ger              238\n",
              "fre              209\n",
              "jpn               64\n",
              "por               27\n",
              "mul               21\n",
              "ita               19\n",
              "zho               16\n",
              "grc               12\n",
              "en-CA              9\n",
              "nl                 7\n",
              "rus                7\n",
              "swe                6\n",
              "glg                4\n",
              "lat                3\n",
              "cat                3\n",
              "tur                3\n",
              "enm                3\n",
              "ara                2\n",
              "dan                1\n",
              "heb                1\n",
              "gla                1\n",
              "wel                1\n",
              "msa                1\n",
              "nor                1\n",
              "srp                1\n",
              "ale                1"
            ]
          },
          "metadata": {
            "tags": []
          },
          "execution_count": 13
        }
      ]
    },
    {
      "cell_type": "code",
      "metadata": {
        "id": "NfgZ9ITCUYPf",
        "colab_type": "code",
        "colab": {}
      },
      "source": [
        "books_per_author = books.drop_duplicates(subset=['title', 'authors']).groupby('authors').size().reset_index().sort_values(by=0, ascending=False)"
      ],
      "execution_count": 0,
      "outputs": []
    },
    {
      "cell_type": "code",
      "metadata": {
        "id": "-2K1np1hUYPh",
        "colab_type": "code",
        "colab": {}
      },
      "source": [
        "test = books_per_author.head(25)"
      ],
      "execution_count": 0,
      "outputs": []
    },
    {
      "cell_type": "code",
      "metadata": {
        "id": "jWLUwKMFUYPm",
        "colab_type": "code",
        "colab": {}
      },
      "source": [
        "sns.set_style('darkgrid')"
      ],
      "execution_count": 0,
      "outputs": []
    },
    {
      "cell_type": "code",
      "metadata": {
        "id": "yXFhUpaCUYPp",
        "colab_type": "code",
        "colab": {},
        "outputId": "e9223837-14e5-4773-d7b4-92280ddd31fc"
      },
      "source": [
        "_, ax = plt.subplots(figsize=(12, 8))\n",
        "chart = sns.barplot(x='authors', y=0, data=test, ax=ax, palette='Spectral')\n",
        "chart.set_xticklabels(chart.get_xticklabels(), rotation=45, horizontalalignment='right')\n",
        "chart.set_xlabel('Author', size=20)\n",
        "chart.set_ylabel('Books Written', size=20)\n",
        "chart.set_title('Books per Author', size=30)\n",
        "plt.show()"
      ],
      "execution_count": 0,
      "outputs": [
        {
          "output_type": "display_data",
          "data": {
            "image/png": "[encoded data removed]",
            "text/plain": [
              "<Figure size 864x576 with 1 Axes>"
            ]
          },
          "metadata": {
            "tags": []
          }
        }
      ]
    },
    {
      "cell_type": "code",
      "metadata": {
        "id": "oUkOLO9AUYPr",
        "colab_type": "code",
        "colab": {}
      },
      "source": [
        "books.rename(columns = {'# num_pages':'num_pages'}, inplace = True)"
      ],
      "execution_count": 0,
      "outputs": []
    },
    {
      "cell_type": "markdown",
      "metadata": {
        "id": "TELk2hKiX4xC",
        "colab_type": "text"
      },
      "source": [
        "# check missing values"
      ]
    },
    {
      "cell_type": "code",
      "metadata": {
        "id": "BiyQOe_UUYPu",
        "colab_type": "code",
        "colab": {},
        "outputId": "771328dd-363d-48f9-9000-b5c302100fe2"
      },
      "source": [
        "books.isna().sum() # check the missing value"
      ],
      "execution_count": 0,
      "outputs": [
        {
          "output_type": "execute_result",
          "data": {
            "text/plain": [
              "title                 0\n",
              "authors               0\n",
              "average_rating        0\n",
              "isbn                  0\n",
              "isbn13                0\n",
              "language_code         0\n",
              "num_pages             0\n",
              "ratings_count         0\n",
              "text_reviews_count    0\n",
              "dtype: int64"
            ]
          },
          "metadata": {
            "tags": []
          },
          "execution_count": 70
        }
      ]
    },
    {
      "cell_type": "code",
      "metadata": {
        "id": "aPIA6n5LUYPx",
        "colab_type": "code",
        "colab": {}
      },
      "source": [
        "temp = pd.DataFrame(books.groupby('language_code').agg({'num_pages': max}).sort_values(by = 'num_pages', ascending = False))"
      ],
      "execution_count": 0,
      "outputs": []
    },
    {
      "cell_type": "markdown",
      "metadata": {
        "id": "5bE03ytRUYPz",
        "colab_type": "text"
      },
      "source": [
        "# EDA -- number of books vs diff languages <1>"
      ]
    },
    {
      "cell_type": "code",
      "metadata": {
        "id": "UgGpQ25-UYPz",
        "colab_type": "code",
        "colab": {}
      },
      "source": [
        "temp['language'] = temp.index"
      ],
      "execution_count": 0,
      "outputs": []
    },
    {
      "cell_type": "code",
      "metadata": {
        "id": "ciYvH0KDUYP2",
        "colab_type": "code",
        "colab": {}
      },
      "source": [
        "temp.reset_index(drop=True, inplace=True)"
      ],
      "execution_count": 0,
      "outputs": []
    },
    {
      "cell_type": "code",
      "metadata": {
        "id": "zXMFbZ5bUYP5",
        "colab_type": "code",
        "colab": {},
        "outputId": "bc15017a-f41c-4e69-fa08-c410b4d59a5a"
      },
      "source": [
        "temp.plot(kind = 'bar',alpha=0.75, rot=75, logy=True) # this is convient, and looks good.\n",
        "    # this en-US looks suspecious, but leave it for now."
      ],
      "execution_count": 0,
      "outputs": [
        {
          "output_type": "execute_result",
          "data": {
            "text/plain": [
              "<matplotlib.axes._subplots.AxesSubplot at 0x1236b8e5860>"
            ]
          },
          "metadata": {
            "tags": []
          },
          "execution_count": 25
        },
        {
          "output_type": "display_data",
          "data": {
            "image/png": "[encoded data removed]",
            "text/plain": [
              "<Figure size 432x288 with 1 Axes>"
            ]
          },
          "metadata": {
            "tags": [],
            "needs_background": "light"
          }
        }
      ]
    },
    {
      "cell_type": "code",
      "metadata": {
        "id": "YZbobj23UYP7",
        "colab_type": "code",
        "colab": {}
      },
      "source": [
        "sns.set_style('dark')"
      ],
      "execution_count": 0,
      "outputs": []
    },
    {
      "cell_type": "code",
      "metadata": {
        "id": "BFoFQfa_UYP-",
        "colab_type": "code",
        "colab": {},
        "outputId": "4fc4e850-04c0-4084-8938-001acb7548c3"
      },
      "source": [
        "_, ax = plt.subplots(figsize=(12, 8))\n",
        "chart = sns.barplot(x='language', y='num_pages', data=temp, ax=ax, palette='Pastel2')\n",
        "sns.set(font_scale = 1)\n",
        "chart.set_xticklabels(chart.get_xticklabels(), rotation=45, horizontalalignment='right')\n",
        "chart.set_title('Pages per Language', size=30)\n",
        "chart.set_xlabel('Language', size=20)\n",
        "chart.set_ylabel('Num Pages', size=20)\n",
        "chart.set_yscale('log')\n",
        "plt.show()"
      ],
      "execution_count": 0,
      "outputs": [
        {
          "output_type": "display_data",
          "data": {
            "image/png": "[encoded data removed]",
            "text/plain": [
              "<Figure size 864x576 with 1 Axes>"
            ]
          },
          "metadata": {
            "tags": []
          }
        }
      ]
    },
    {
      "cell_type": "markdown",
      "metadata": {
        "id": "uoXj0CKWUYQB",
        "colab_type": "text"
      },
      "source": [
        "# EDA -- Different angle of number of books vs languages <2>"
      ]
    },
    {
      "cell_type": "code",
      "metadata": {
        "id": "hck1ND7zUYQB",
        "colab_type": "code",
        "colab": {},
        "outputId": "c5d26efa-e17e-4b0a-a188-650b36379b40"
      },
      "source": [
        "from matplotlib.ticker import NullFormatter  # useful for `logit` scale\n",
        "# define x and y\n",
        "x = temp.index\n",
        "y = temp.num_pages\n",
        "# plot with various axes scales\n",
        "plt.figure(figsize = (16,10))\n",
        "# linear\n",
        "plt.subplot(221)\n",
        "plt.plot(x, y)\n",
        "plt.yscale('linear')\n",
        "plt.xticks(rotation=90)\n",
        "plt.title('linear')\n",
        "plt.grid(True)\n",
        "\n",
        "# log\n",
        "plt.subplot(222)\n",
        "plt.plot(x, y)\n",
        "plt.yscale('log')\n",
        "plt.xticks(rotation=90)\n",
        "plt.title('log')\n",
        "plt.grid(True)\n",
        "\n",
        "# symmetric log\n",
        "plt.subplot(223)\n",
        "plt.plot(x, y - y.mean())\n",
        "plt.yscale('symlog', linthreshy=0.01)\n",
        "plt.xticks(rotation=90)\n",
        "plt.title('symlog')\n",
        "plt.grid(True)\n",
        "\n",
        "\n",
        "\n",
        "\n",
        "# Format the minor tick labels of the y-axis into empty strings with\n",
        "\n",
        "# `NullFormatter`, to avoid cumbering the axis with too many labels.\n",
        "plt.gca().yaxis.set_minor_formatter(NullFormatter())\n",
        "    # Get the current Axes instance on the current figure matching the given keyword args, or create one\n",
        "    # e.g.: plt.gca(projection='polar')\n",
        "    \n",
        "    # Adjust the subplot layout, because the logit one may take more space\n",
        "# than usual, due to y-tick labels like \"1 - 10^{-3}\"\n",
        "plt.subplots_adjust(top=0.92, bottom=0.08, left=0.10, right=0.95, hspace=0.25,\n",
        "                    wspace=0.35)\n",
        "plt.show()"
      ],
      "execution_count": 0,
      "outputs": [
        {
          "output_type": "display_data",
          "data": {
            "image/png": "[encoded data removed]",
            "text/plain": [
              "<Figure size 1152x720 with 3 Axes>"
            ]
          },
          "metadata": {
            "tags": [],
            "needs_background": "light"
          }
        }
      ]
    },
    {
      "cell_type": "markdown",
      "metadata": {
        "id": "XXgJsfuLUYQD",
        "colab_type": "text"
      },
      "source": [
        "# EDA -- aggragation (sum()) of rating counts "
      ]
    },
    {
      "cell_type": "code",
      "metadata": {
        "id": "DCFo9NIpUYQE",
        "colab_type": "code",
        "colab": {},
        "outputId": "27791060-cfd2-4ce9-921e-3c979353f6d5"
      },
      "source": [
        "# about isbn & isbn13 are they unique?\n",
        "books.isbn.nunique() == books.isbn13.nunique() # True, So, choose isbn as the index"
      ],
      "execution_count": 0,
      "outputs": [
        {
          "output_type": "execute_result",
          "data": {
            "text/plain": [
              "True"
            ]
          },
          "metadata": {
            "tags": []
          },
          "execution_count": 120
        }
      ]
    },
    {
      "cell_type": "code",
      "metadata": {
        "id": "mvoVtJyxUYQG",
        "colab_type": "code",
        "colab": {}
      },
      "source": [
        "df = books # you know"
      ],
      "execution_count": 0,
      "outputs": []
    },
    {
      "cell_type": "code",
      "metadata": {
        "id": "HKaewGAqUYQI",
        "colab_type": "code",
        "colab": {}
      },
      "source": [
        "# remove duplicate ID\n",
        "df.drop(columns = 'isbn13', inplace = True)\n",
        "df.set_index('isbn', inplace = True)"
      ],
      "execution_count": 0,
      "outputs": []
    },
    {
      "cell_type": "code",
      "metadata": {
        "id": "rO_u2VONUYQL",
        "colab_type": "code",
        "colab": {},
        "outputId": "41ec7181-e1e5-49f4-9a3a-1d5d5cc3234d"
      },
      "source": [
        "plt.figure(figsize = (20,11))\n",
        "# no y-scale\n",
        "plt.subplot(221)\n",
        "x = df.ratings_count\n",
        "sns.distplot(x, kde=False, rug=True)\n",
        "plt.title('non-scale')\n",
        "\n",
        "# y-scale\n",
        "plt.subplot(222)\n",
        "x = df.ratings_count\n",
        "sns.distplot(x, kde=False, rug=True)\n",
        "plt.yscale('log')\n",
        "plt.title('y-scale')"
      ],
      "execution_count": 0,
      "outputs": [
        {
          "output_type": "execute_result",
          "data": {
            "text/plain": [
              "Text(0.5, 1.0, 'y-scale')"
            ]
          },
          "metadata": {
            "tags": []
          },
          "execution_count": 49
        },
        {
          "output_type": "display_data",
          "data": {
            "image/png": "[encoded data removed]",
            "text/plain": [
              "<Figure size 1440x792 with 2 Axes>"
            ]
          },
          "metadata": {
            "tags": [],
            "needs_background": "light"
          }
        }
      ]
    },
    {
      "cell_type": "markdown",
      "metadata": {
        "id": "m9p_EKIsUYQS",
        "colab_type": "text"
      },
      "source": [
        "# EDA one: rating_count  VS authors"
      ]
    },
    {
      "cell_type": "code",
      "metadata": {
        "id": "UQUmN7QpUYQS",
        "colab_type": "code",
        "colab": {}
      },
      "source": [
        "temp1 = pd.DataFrame(books.groupby('authors')['ratings_count'].sum()).sort_values(by = 'ratings_count', ascending = False)\n",
        "temp2 = pd.DataFrame(books['authors'].value_counts()) # the Length:7600 equals -- books['authors'].nunique() --\n",
        "temp2.rename(columns = {'authors':'counts'}, inplace = True)\n",
        "temp = pd.concat([temp1, temp2], axis=1)\n",
        "temp['rate_eff'] = temp['ratings_count']/temp['counts']\n",
        "    # column concatenate using df.concate()\n",
        "    # row concatenate using df.append()\n",
        "    \n",
        "    # HERE, Next time concatenate by index would be better        #yoyoyo\n",
        "    # could I use .format() here?      #yoyoyo"
      ],
      "execution_count": 0,
      "outputs": []
    },
    {
      "cell_type": "code",
      "metadata": {
        "id": "MuI8jJkSUYQU",
        "colab_type": "code",
        "colab": {},
        "outputId": "b8cacff0-8223-4d6a-fb88-8bde3616216d"
      },
      "source": [
        "# now sort by rate_eff\n",
        "temp.sort_values(by = 'rate_eff', ascending = False)"
      ],
      "execution_count": 0,
      "outputs": [
        {
          "output_type": "execute_result",
          "data": {
            "text/html": [
              "<div>\n",
              "<style scoped>\n",
              "    .dataframe tbody tr th:only-of-type {\n",
              "        vertical-align: middle;\n",
              "    }\n",
              "\n",
              "    .dataframe tbody tr th {\n",
              "        vertical-align: top;\n",
              "    }\n",
              "\n",
              "    .dataframe thead th {\n",
              "        text-align: right;\n",
              "    }\n",
              "</style>\n",
              "<table border=\"1\" class=\"dataframe\">\n",
              "  <thead>\n",
              "    <tr style=\"text-align: right;\">\n",
              "      <th></th>\n",
              "      <th>ratings_count</th>\n",
              "      <th>counts</th>\n",
              "      <th>rate_eff</th>\n",
              "    </tr>\n",
              "  </thead>\n",
              "  <tbody>\n",
              "    <tr>\n",
              "      <th>Stephenie Meyer</th>\n",
              "      <td>4369733</td>\n",
              "      <td>2</td>\n",
              "      <td>2184866.500</td>\n",
              "    </tr>\n",
              "    <tr>\n",
              "      <th>J.K. Rowling-Mary GrandPré</th>\n",
              "      <td>13875449</td>\n",
              "      <td>8</td>\n",
              "      <td>1734431.125</td>\n",
              "    </tr>\n",
              "    <tr>\n",
              "      <th>Paulo Coelho-Alan R. Clarke-Özdemir İnce</th>\n",
              "      <td>1592632</td>\n",
              "      <td>1</td>\n",
              "      <td>1592632.000</td>\n",
              "    </tr>\n",
              "    <tr>\n",
              "      <th>Charlotte Brontë-Michael Mason-João Gaspar Rodrigues-Mécia</th>\n",
              "      <td>1328143</td>\n",
              "      <td>1</td>\n",
              "      <td>1328143.000</td>\n",
              "    </tr>\n",
              "    <tr>\n",
              "      <th>Sara Gruen</th>\n",
              "      <td>1198632</td>\n",
              "      <td>1</td>\n",
              "      <td>1198632.000</td>\n",
              "    </tr>\n",
              "    <tr>\n",
              "      <th>...</th>\n",
              "      <td>...</td>\n",
              "      <td>...</td>\n",
              "      <td>...</td>\n",
              "    </tr>\n",
              "    <tr>\n",
              "      <th>Andrew P. Trout</th>\n",
              "      <td>0</td>\n",
              "      <td>1</td>\n",
              "      <td>0.000</td>\n",
              "    </tr>\n",
              "    <tr>\n",
              "      <th>Dan Hitt-James Beckett III</th>\n",
              "      <td>0</td>\n",
              "      <td>1</td>\n",
              "      <td>0.000</td>\n",
              "    </tr>\n",
              "    <tr>\n",
              "      <th>Carol Marinelli</th>\n",
              "      <td>0</td>\n",
              "      <td>1</td>\n",
              "      <td>0.000</td>\n",
              "    </tr>\n",
              "    <tr>\n",
              "      <th>Jay Parini-August Wilson</th>\n",
              "      <td>0</td>\n",
              "      <td>1</td>\n",
              "      <td>0.000</td>\n",
              "    </tr>\n",
              "    <tr>\n",
              "      <th>Dobrica Erić</th>\n",
              "      <td>0</td>\n",
              "      <td>1</td>\n",
              "      <td>0.000</td>\n",
              "    </tr>\n",
              "  </tbody>\n",
              "</table>\n",
              "<p>7600 rows × 3 columns</p>\n",
              "</div>"
            ],
            "text/plain": [
              "                                                    ratings_count  counts  \\\n",
              "Stephenie Meyer                                           4369733       2   \n",
              "J.K. Rowling-Mary GrandPré                               13875449       8   \n",
              "Paulo Coelho-Alan R. Clarke-Özdemir İnce                  1592632       1   \n",
              "Charlotte Brontë-Michael Mason-João Gaspar Rod...        1328143       1   \n",
              "Sara Gruen                                                1198632       1   \n",
              "...                                                           ...     ...   \n",
              "Andrew P. Trout                                                 0       1   \n",
              "Dan Hitt-James Beckett III                                      0       1   \n",
              "Carol Marinelli                                                 0       1   \n",
              "Jay Parini-August Wilson                                        0       1   \n",
              "Dobrica Erić                                                    0       1   \n",
              "\n",
              "                                                       rate_eff  \n",
              "Stephenie Meyer                                     2184866.500  \n",
              "J.K. Rowling-Mary GrandPré                          1734431.125  \n",
              "Paulo Coelho-Alan R. Clarke-Özdemir İnce            1592632.000  \n",
              "Charlotte Brontë-Michael Mason-João Gaspar Rod...  1328143.000  \n",
              "Sara Gruen                                          1198632.000  \n",
              "...                                                         ...  \n",
              "Andrew P. Trout                                           0.000  \n",
              "Dan Hitt-James Beckett III                                0.000  \n",
              "Carol Marinelli                                           0.000  \n",
              "Jay Parini-August Wilson                                  0.000  \n",
              "Dobrica Erić                                              0.000  \n",
              "\n",
              "[7600 rows x 3 columns]"
            ]
          },
          "metadata": {
            "tags": []
          },
          "execution_count": 135
        }
      ]
    },
    {
      "cell_type": "markdown",
      "metadata": {
        "id": "vy2CHoZfUYQX",
        "colab_type": "text"
      },
      "source": [
        "# feature engineering -- create new column 'rate_eff' and Visualization: authors vs rate_eff"
      ]
    },
    {
      "cell_type": "code",
      "metadata": {
        "id": "6kUwR2yWUYQX",
        "colab_type": "code",
        "colab": {},
        "outputId": "15147e85-2a30-4f39-bec2-20bd6131ec0d"
      },
      "source": [
        "# temp_new.sort_values(by = 'rate_eff', ascending = False).plot.scatter(x = temp_new.index, y = 'rate_eff')\n",
        "# temp_new.reset_index().plot(kind='scatter', x='index', y='rate_eff') \n",
        "plt.figure(figsize=(8,5))\n",
        "temp['rate_eff'].plot(rot = 75) # a mediocre plot........ # yoyoyo"
      ],
      "execution_count": 0,
      "outputs": [
        {
          "output_type": "execute_result",
          "data": {
            "text/plain": [
              "<matplotlib.axes._subplots.AxesSubplot at 0x1237dd26400>"
            ]
          },
          "metadata": {
            "tags": []
          },
          "execution_count": 137
        },
        {
          "output_type": "display_data",
          "data": {
            "image/png": "[encoded data removed]",
            "text/plain": [
              "<Figure size 576x360 with 1 Axes>"
            ]
          },
          "metadata": {
            "tags": [],
            "needs_background": "light"
          }
        }
      ]
    },
    {
      "cell_type": "markdown",
      "metadata": {
        "id": "jfWLAiw5UYQa",
        "colab_type": "text"
      },
      "source": [
        ""
      ]
    },
    {
      "cell_type": "markdown",
      "metadata": {
        "id": "Ke0N32CyUYQa",
        "colab_type": "text"
      },
      "source": [
        "# EDA -- Duplication Records problems"
      ]
    },
    {
      "cell_type": "code",
      "metadata": {
        "id": "A0W-QXlDUYQb",
        "colab_type": "code",
        "colab": {}
      },
      "source": [
        "df = books # you know"
      ],
      "execution_count": 0,
      "outputs": []
    },
    {
      "cell_type": "code",
      "metadata": {
        "id": "RqpgQuUIUYQe",
        "colab_type": "code",
        "colab": {},
        "outputId": "e0ea9f96-d85b-4679-a0ec-61bd67cb53e8"
      },
      "source": [
        "df[df['authors'] == 'Stephenie Meyer'] # so, are they duplicates????   #yoyoyo"
      ],
      "execution_count": 0,
      "outputs": [
        {
          "output_type": "execute_result",
          "data": {
            "text/html": [
              "<div>\n",
              "<style scoped>\n",
              "    .dataframe tbody tr th:only-of-type {\n",
              "        vertical-align: middle;\n",
              "    }\n",
              "\n",
              "    .dataframe tbody tr th {\n",
              "        vertical-align: top;\n",
              "    }\n",
              "\n",
              "    .dataframe thead th {\n",
              "        text-align: right;\n",
              "    }\n",
              "</style>\n",
              "<table border=\"1\" class=\"dataframe\">\n",
              "  <thead>\n",
              "    <tr style=\"text-align: right;\">\n",
              "      <th></th>\n",
              "      <th>bookID</th>\n",
              "      <th>title</th>\n",
              "      <th>authors</th>\n",
              "      <th>average_rating</th>\n",
              "      <th>isbn</th>\n",
              "      <th>isbn13</th>\n",
              "      <th>language_code</th>\n",
              "      <th># num_pages</th>\n",
              "      <th>ratings_count</th>\n",
              "      <th>text_reviews_count</th>\n",
              "    </tr>\n",
              "  </thead>\n",
              "  <tbody>\n",
              "    <tr>\n",
              "      <th>3938</th>\n",
              "      <td>12024</td>\n",
              "      <td>Twilight (Twilight  #1)</td>\n",
              "      <td>Stephenie Meyer</td>\n",
              "      <td>3.59</td>\n",
              "      <td>031605898X</td>\n",
              "      <td>9780316058988</td>\n",
              "      <td>eng</td>\n",
              "      <td>544</td>\n",
              "      <td>2392</td>\n",
              "      <td>544</td>\n",
              "    </tr>\n",
              "    <tr>\n",
              "      <th>12243</th>\n",
              "      <td>41865</td>\n",
              "      <td>Twilight (Twilight  #1)</td>\n",
              "      <td>Stephenie Meyer</td>\n",
              "      <td>3.59</td>\n",
              "      <td>0316015849</td>\n",
              "      <td>9780316015844</td>\n",
              "      <td>eng</td>\n",
              "      <td>498</td>\n",
              "      <td>4367341</td>\n",
              "      <td>93619</td>\n",
              "    </tr>\n",
              "  </tbody>\n",
              "</table>\n",
              "</div>"
            ],
            "text/plain": [
              "       bookID                    title          authors  average_rating  \\\n",
              "3938    12024  Twilight (Twilight  #1)  Stephenie Meyer            3.59   \n",
              "12243   41865  Twilight (Twilight  #1)  Stephenie Meyer            3.59   \n",
              "\n",
              "             isbn         isbn13 language_code  # num_pages  ratings_count  \\\n",
              "3938   031605898X  9780316058988           eng          544           2392   \n",
              "12243  0316015849  9780316015844           eng          498        4367341   \n",
              "\n",
              "       text_reviews_count  \n",
              "3938                  544  \n",
              "12243               93619  "
            ]
          },
          "metadata": {
            "tags": []
          },
          "execution_count": 6
        }
      ]
    },
    {
      "cell_type": "code",
      "metadata": {
        "id": "ny2wXMuSUYQj",
        "colab_type": "code",
        "colab": {},
        "outputId": "07ff1d2f-508b-4e04-c3f1-0c414c4d6600"
      },
      "source": [
        "temp = df\n",
        "temp = temp.reset_index()\n",
        "temp.head()"
      ],
      "execution_count": 0,
      "outputs": [
        {
          "output_type": "execute_result",
          "data": {
            "text/html": [
              "<div>\n",
              "<style scoped>\n",
              "    .dataframe tbody tr th:only-of-type {\n",
              "        vertical-align: middle;\n",
              "    }\n",
              "\n",
              "    .dataframe tbody tr th {\n",
              "        vertical-align: top;\n",
              "    }\n",
              "\n",
              "    .dataframe thead th {\n",
              "        text-align: right;\n",
              "    }\n",
              "</style>\n",
              "<table border=\"1\" class=\"dataframe\">\n",
              "  <thead>\n",
              "    <tr style=\"text-align: right;\">\n",
              "      <th></th>\n",
              "      <th>index</th>\n",
              "      <th>bookID</th>\n",
              "      <th>title</th>\n",
              "      <th>authors</th>\n",
              "      <th>average_rating</th>\n",
              "      <th>isbn</th>\n",
              "      <th>isbn13</th>\n",
              "      <th>language_code</th>\n",
              "      <th># num_pages</th>\n",
              "      <th>ratings_count</th>\n",
              "      <th>text_reviews_count</th>\n",
              "    </tr>\n",
              "  </thead>\n",
              "  <tbody>\n",
              "    <tr>\n",
              "      <th>0</th>\n",
              "      <td>0</td>\n",
              "      <td>1</td>\n",
              "      <td>Harry Potter and the Half-Blood Prince (Harry ...</td>\n",
              "      <td>J.K. Rowling-Mary GrandPré</td>\n",
              "      <td>4.56</td>\n",
              "      <td>0439785960</td>\n",
              "      <td>9780439785969</td>\n",
              "      <td>eng</td>\n",
              "      <td>652</td>\n",
              "      <td>1944099</td>\n",
              "      <td>26249</td>\n",
              "    </tr>\n",
              "    <tr>\n",
              "      <th>1</th>\n",
              "      <td>1</td>\n",
              "      <td>2</td>\n",
              "      <td>Harry Potter and the Order of the Phoenix (Har...</td>\n",
              "      <td>J.K. Rowling-Mary GrandPré</td>\n",
              "      <td>4.49</td>\n",
              "      <td>0439358078</td>\n",
              "      <td>9780439358071</td>\n",
              "      <td>eng</td>\n",
              "      <td>870</td>\n",
              "      <td>1996446</td>\n",
              "      <td>27613</td>\n",
              "    </tr>\n",
              "    <tr>\n",
              "      <th>2</th>\n",
              "      <td>2</td>\n",
              "      <td>3</td>\n",
              "      <td>Harry Potter and the Sorcerer's Stone (Harry P...</td>\n",
              "      <td>J.K. Rowling-Mary GrandPré</td>\n",
              "      <td>4.47</td>\n",
              "      <td>0439554934</td>\n",
              "      <td>9780439554930</td>\n",
              "      <td>eng</td>\n",
              "      <td>320</td>\n",
              "      <td>5629932</td>\n",
              "      <td>70390</td>\n",
              "    </tr>\n",
              "    <tr>\n",
              "      <th>3</th>\n",
              "      <td>3</td>\n",
              "      <td>4</td>\n",
              "      <td>Harry Potter and the Chamber of Secrets (Harry...</td>\n",
              "      <td>J.K. Rowling</td>\n",
              "      <td>4.41</td>\n",
              "      <td>0439554896</td>\n",
              "      <td>9780439554893</td>\n",
              "      <td>eng</td>\n",
              "      <td>352</td>\n",
              "      <td>6267</td>\n",
              "      <td>272</td>\n",
              "    </tr>\n",
              "    <tr>\n",
              "      <th>4</th>\n",
              "      <td>4</td>\n",
              "      <td>5</td>\n",
              "      <td>Harry Potter and the Prisoner of Azkaban (Harr...</td>\n",
              "      <td>J.K. Rowling-Mary GrandPré</td>\n",
              "      <td>4.55</td>\n",
              "      <td>043965548X</td>\n",
              "      <td>9780439655484</td>\n",
              "      <td>eng</td>\n",
              "      <td>435</td>\n",
              "      <td>2149872</td>\n",
              "      <td>33964</td>\n",
              "    </tr>\n",
              "  </tbody>\n",
              "</table>\n",
              "</div>"
            ],
            "text/plain": [
              "   index  bookID                                              title  \\\n",
              "0      0       1  Harry Potter and the Half-Blood Prince (Harry ...   \n",
              "1      1       2  Harry Potter and the Order of the Phoenix (Har...   \n",
              "2      2       3  Harry Potter and the Sorcerer's Stone (Harry P...   \n",
              "3      3       4  Harry Potter and the Chamber of Secrets (Harry...   \n",
              "4      4       5  Harry Potter and the Prisoner of Azkaban (Harr...   \n",
              "\n",
              "                      authors  average_rating        isbn         isbn13  \\\n",
              "0  J.K. Rowling-Mary GrandPré            4.56  0439785960  9780439785969   \n",
              "1  J.K. Rowling-Mary GrandPré            4.49  0439358078  9780439358071   \n",
              "2  J.K. Rowling-Mary GrandPré            4.47  0439554934  9780439554930   \n",
              "3                J.K. Rowling            4.41  0439554896  9780439554893   \n",
              "4  J.K. Rowling-Mary GrandPré            4.55  043965548X  9780439655484   \n",
              "\n",
              "  language_code  # num_pages  ratings_count  text_reviews_count  \n",
              "0           eng          652        1944099               26249  \n",
              "1           eng          870        1996446               27613  \n",
              "2           eng          320        5629932               70390  \n",
              "3           eng          352           6267                 272  \n",
              "4           eng          435        2149872               33964  "
            ]
          },
          "metadata": {
            "tags": []
          },
          "execution_count": 7
        }
      ]
    },
    {
      "cell_type": "code",
      "metadata": {
        "id": "FMISuZpiUYQl",
        "colab_type": "code",
        "colab": {},
        "outputId": "6fb68297-a465-405a-f96d-881947d1ddd5"
      },
      "source": [
        "# let's find out how many duplicates are there?\n",
        "# Option One -- It is fucked\n",
        "a_list = temp['title']\n",
        "duplicates = []\n",
        "for item in a_list:\n",
        "    if a_list.count(item) > 1:\n",
        "        duplicates.append(item)"
      ],
      "execution_count": 0,
      "outputs": [
        {
          "output_type": "error",
          "ename": "KeyError",
          "evalue": "'Requested level (Harry Potter and the Half-Blood Prince (Harry Potter  #6)) does not match index name (None)'",
          "traceback": [
            "\u001b[1;31m---------------------------------------------------------------------------\u001b[0m",
            "\u001b[1;31mKeyError\u001b[0m                                  Traceback (most recent call last)",
            "\u001b[1;32m<ipython-input-9-03e1cb07c3a9>\u001b[0m in \u001b[0;36m<module>\u001b[1;34m\u001b[0m\n\u001b[0;32m      4\u001b[0m \u001b[0mduplicates\u001b[0m \u001b[1;33m=\u001b[0m \u001b[1;33m[\u001b[0m\u001b[1;33m]\u001b[0m\u001b[1;33m\u001b[0m\u001b[0m\n\u001b[0;32m      5\u001b[0m \u001b[1;32mfor\u001b[0m \u001b[0mitem\u001b[0m \u001b[1;32min\u001b[0m \u001b[0ma_list\u001b[0m\u001b[1;33m:\u001b[0m\u001b[1;33m\u001b[0m\u001b[0m\n\u001b[1;32m----> 6\u001b[1;33m     \u001b[1;32mif\u001b[0m \u001b[0ma_list\u001b[0m\u001b[1;33m.\u001b[0m\u001b[0mcount\u001b[0m\u001b[1;33m(\u001b[0m\u001b[0mitem\u001b[0m\u001b[1;33m)\u001b[0m \u001b[1;33m>\u001b[0m \u001b[1;36m1\u001b[0m\u001b[1;33m:\u001b[0m\u001b[1;33m\u001b[0m\u001b[0m\n\u001b[0m\u001b[0;32m      7\u001b[0m         \u001b[0mduplicates\u001b[0m\u001b[1;33m.\u001b[0m\u001b[0mappend\u001b[0m\u001b[1;33m(\u001b[0m\u001b[0mitem\u001b[0m\u001b[1;33m)\u001b[0m\u001b[1;33m\u001b[0m\u001b[0m\n",
            "\u001b[1;32m~\\.conda\\envs\\mark\\lib\\site-packages\\pandas\\core\\series.py\u001b[0m in \u001b[0;36mcount\u001b[1;34m(self, level)\u001b[0m\n\u001b[0;32m   1718\u001b[0m \u001b[1;33m\u001b[0m\u001b[0m\n\u001b[0;32m   1719\u001b[0m         \u001b[1;32mif\u001b[0m \u001b[0misinstance\u001b[0m\u001b[1;33m(\u001b[0m\u001b[0mlevel\u001b[0m\u001b[1;33m,\u001b[0m \u001b[0mstr\u001b[0m\u001b[1;33m)\u001b[0m\u001b[1;33m:\u001b[0m\u001b[1;33m\u001b[0m\u001b[0m\n\u001b[1;32m-> 1720\u001b[1;33m             \u001b[0mlevel\u001b[0m \u001b[1;33m=\u001b[0m \u001b[0mself\u001b[0m\u001b[1;33m.\u001b[0m\u001b[0mindex\u001b[0m\u001b[1;33m.\u001b[0m\u001b[0m_get_level_number\u001b[0m\u001b[1;33m(\u001b[0m\u001b[0mlevel\u001b[0m\u001b[1;33m)\u001b[0m\u001b[1;33m\u001b[0m\u001b[0m\n\u001b[0m\u001b[0;32m   1721\u001b[0m \u001b[1;33m\u001b[0m\u001b[0m\n\u001b[0;32m   1722\u001b[0m         \u001b[0mlev\u001b[0m \u001b[1;33m=\u001b[0m \u001b[0mself\u001b[0m\u001b[1;33m.\u001b[0m\u001b[0mindex\u001b[0m\u001b[1;33m.\u001b[0m\u001b[0mlevels\u001b[0m\u001b[1;33m[\u001b[0m\u001b[0mlevel\u001b[0m\u001b[1;33m]\u001b[0m\u001b[1;33m\u001b[0m\u001b[0m\n",
            "\u001b[1;32m~\\.conda\\envs\\mark\\lib\\site-packages\\pandas\\core\\indexes\\base.py\u001b[0m in \u001b[0;36m_get_level_number\u001b[1;34m(self, level)\u001b[0m\n\u001b[0;32m   1418\u001b[0m \u001b[1;33m\u001b[0m\u001b[0m\n\u001b[0;32m   1419\u001b[0m     \u001b[1;32mdef\u001b[0m \u001b[0m_get_level_number\u001b[0m\u001b[1;33m(\u001b[0m\u001b[0mself\u001b[0m\u001b[1;33m,\u001b[0m \u001b[0mlevel\u001b[0m\u001b[1;33m)\u001b[0m\u001b[1;33m:\u001b[0m\u001b[1;33m\u001b[0m\u001b[0m\n\u001b[1;32m-> 1420\u001b[1;33m         \u001b[0mself\u001b[0m\u001b[1;33m.\u001b[0m\u001b[0m_validate_index_level\u001b[0m\u001b[1;33m(\u001b[0m\u001b[0mlevel\u001b[0m\u001b[1;33m)\u001b[0m\u001b[1;33m\u001b[0m\u001b[0m\n\u001b[0m\u001b[0;32m   1421\u001b[0m         \u001b[1;32mreturn\u001b[0m \u001b[1;36m0\u001b[0m\u001b[1;33m\u001b[0m\u001b[0m\n\u001b[0;32m   1422\u001b[0m \u001b[1;33m\u001b[0m\u001b[0m\n",
            "\u001b[1;32m~\\.conda\\envs\\mark\\lib\\site-packages\\pandas\\core\\indexes\\base.py\u001b[0m in \u001b[0;36m_validate_index_level\u001b[1;34m(self, level)\u001b[0m\n\u001b[0;32m   1414\u001b[0m         \u001b[1;32melif\u001b[0m \u001b[0mlevel\u001b[0m \u001b[1;33m!=\u001b[0m \u001b[0mself\u001b[0m\u001b[1;33m.\u001b[0m\u001b[0mname\u001b[0m\u001b[1;33m:\u001b[0m\u001b[1;33m\u001b[0m\u001b[0m\n\u001b[0;32m   1415\u001b[0m             raise KeyError(\n\u001b[1;32m-> 1416\u001b[1;33m                 \u001b[1;34mf\"Requested level ({level}) does not match index name ({self.name})\"\u001b[0m\u001b[1;33m\u001b[0m\u001b[0m\n\u001b[0m\u001b[0;32m   1417\u001b[0m             )\n\u001b[0;32m   1418\u001b[0m \u001b[1;33m\u001b[0m\u001b[0m\n",
            "\u001b[1;31mKeyError\u001b[0m: 'Requested level (Harry Potter and the Half-Blood Prince (Harry Potter  #6)) does not match index name (None)'"
          ]
        }
      ]
    },
    {
      "cell_type": "code",
      "metadata": {
        "id": "kYq-XzUzUYQn",
        "colab_type": "code",
        "colab": {},
        "outputId": "272358d9-311e-4f92-874c-77e84e8dbfbe"
      },
      "source": [
        "# Option Two\n",
        "import collections\n",
        "print([item for item, count in collections.Counter(a_list).items() if count > 1])"
      ],
      "execution_count": 0,
      "outputs": [
        {
          "output_type": "stream",
          "text": [
            "['Harry Potter and the Half-Blood Prince (Harry Potter  #6)', \"Harry Potter and the Sorcerer's Stone (Harry Potter  #1)\", 'Harry Potter and the Chamber of Secrets (Harry Potter  #2)', 'Harry Potter and the Prisoner of Azkaban (Harry Potter  #3)', \"The Hitchhiker's Guide to the Galaxy (Hitchhiker's Guide to the Galaxy  #1)\", 'A Short History of Nearly Everything', \"Bill Bryson's African Diary\", 'The Lord of the Rings (The Lord of the Rings  #1-3)', 'The Fellowship of the Ring (The Lord of the Rings  #1)', 'The Changeling', 'The Known World', 'The Power of One (The Power of One  #1)', 'Anna Karenina', 'The Untouchable', 'Tropic of Cancer', 'The Portrait of a Lady', 'Treasure Island', 'Daniel Deronda', 'One Hundred Years of Solitude', 'Cien años de soledad', 'Jitterbug Perfume', 'Perfume: The Story of a Murderer', 'The Moon is a Harsh Mistress', 'To Sail Beyond the Sunset', 'The Phantom Tollbooth', 'Lincoln at Gettysburg: The Words That Remade America', 'Underworld', 'Libra', 'Mao II', 'Americana', 'Cosmopolis', 'V.', 'The Crying of Lot 49', \"Gravity's Rainbow\", 'Slow Learner: Early Stories', 'The Year of Magical Thinking', 'The White Album', 'The Locked Room (The New York Trilogy  #3)', 'The Music of Chance', 'Leviathan', 'The Coming Economic Collapse: How You Can Thrive When Oil Costs $200 a Barrel', 'Lord of the Flies', 'The Lovely Bones', 'Reefer Madness: Sex  Drugs  and Cheap Labor in the American Black Market', 'Zen and the Art of Motorcycle Maintenance: An Inquiry Into Values', 'War and Peace', 'Atlas Shrugged', 'The Fountainhead', 'Anthem', 'The Plot Against America', 'Collected Stories', 'Crónica de una muerte anunciada', 'Living to Tell the Tale', 'Memoria de mis putas tristes', 'London', 'Quicksilver (The Baroque Cycle  #1)', 'Zodiac', 'Snow Crash', 'The Alchemist', 'The Kite Runner', 'Pompeii', 'Of Mice and Men', 'The Westing Game', 'Memoirs of a Geisha', 'First Impressions', 'Angels & Demons (Robert Langdon  #1)', 'The Da Vinci Code (Robert Langdon  #2)', 'The Da Vinci Code', 'Deception Point', 'The Richest Man in Babylon', '1776', 'The Good Earth', 'Monkey Business', 'Freakonomics: A Rogue Economist Explores the Hidden Side of Everything', 'The Shadow of the Wind (The Cemetery of Forgotten Books  #1)', 'Shadows and Wind: A View of Modern Vietnam', 'Men Are from Mars  Women Are from Venus', \"The Clan of the Cave Bear (Earth's Children  #1)\", 'Phaedrus', 'The Histories', 'The Iliad', 'The Odyssey', 'The Complete Works', 'Hamlet', 'The Valkyries', 'The Fifth Mountain', 'Medea', 'The Oresteia', 'The Complete Plays', 'Lysistrata', 'The Curious Incident of the Dog in the Night-Time', \"A Midsummer Night's Dream\", 'Twelfth Night', 'Kitchen Confidential: Adventures in the Culinary Underbelly', 'Metamorphoses', 'Antigone', 'Them: Adventures with Extremists', 'Into the Wild', 'Wild Swans: Three Daughters of China', 'The Call of the Wild', 'The History of Sexuality  Volume 2: The Use of Pleasure', 'Pride and Prejudice', 'Under the Banner of Heaven: A Story of Violent Faith', 'Little Women', 'A Tale of Two Cities', 'Bleak House', 'The Big Sleep (Philip Marlowe  #1)', 'The Long Goodbye (Philip Marlowe  #6)', 'The Illustrated A Brief History of Time', 'The Hours', 'Blink: The Power of Thinking Without Thinking', 'The Complete Novels', 'The Jane Austen Book Club', \"Jane Austen's Letters\", 'Persuasion', 'The Old Man and the Sea', 'Madame Bovary', 'Middlesex', 'Team of Rivals: The Political Genius of Abraham Lincoln', 'John Adams', 'In Cold Blood', 'The House of Mirth', 'The Bone Collector (Lincoln Rhyme  #1)', 'Moby Dick', 'Moby-Dick', 'The Time Machine', 'Selected Stories', 'The Gospel According to Jesus Christ', 'Baltasar and Blimunda', 'The Cave', 'The Stone Raft', 'The History of the Siege of Lisbon', 'On the Road', 'The Tipping Point: How Little Things Can Make a Big Difference', 'Great Expectations', 'To Kill a Mockingbird', 'The Canterbury Tales', 'The Years of Rice and Salt', 'Microserfs', \"A People's History of the United States\", 'The Birth of Tragedy', 'Bridge to Terabithia', 'Girl with a Pearl Earring', 'The Worm Ouroboros', 'Robinson Crusoe', 'The Adventures of Huckleberry Finn', 'Adventures of Huckleberry Finn', 'The Secret Garden', 'A Little Princess', 'Alcoholics Anonymous', 'The Complete Stories', 'Conversations with Bernard Malamud (Literary Conversations)', 'Howards End', 'Drina Dances in Paris', 'Drina Dances in Italy', 'Drina Dances Again', 'La casa de los espíritus', 'The Thorn Birds', 'The Five People You Meet in Heaven', 'Nights in Rodanthe', 'Message in a Bottle', 'A Walk to Remember', 'Icy Sparks', 'Twelve Sharp (Stephanie Plum  #12)', 'Anne of Avonlea', 'The Adventures of Sherlock Holmes', 'The Complete Sherlock Holmes  Volume I', 'The Sea', 'Aspects of the Novel', 'Black Beauty', 'The Quiet American', 'The Autograph Man', 'White Teeth', 'Charlotte Sometimes', \"Moonraker's Bride\", 'Casino Royale (James Bond  #1)', 'The Dharma Bums', 'The Corrections', 'Cover Her Face (Adam Dalgliesh #1)', 'Don Quixote', 'A Brief History of Time', 'A History of God: The 4 000-Year Quest of Judaism  Christianity  and Islam', 'The Sun Also Rises', 'American Psycho', \"Man's Search for Meaning\", 'Holidays on Ice', 'Naked', 'Fever Pitch', 'About a Boy', 'Scar Tissue', 'Fahrenheit 451', 'The Grapes of Wrath', 'American Gods', 'East of Eden', 'Dry', 'Running with Scissors', 'A Prayer for Owen Meany', 'Everything Is Illuminated', 'A Moveable Feast', 'The Short Stories', 'Until I Find You', 'The Great Gatsby', 'The Beautiful and Damned', \"Midnight's Children\", 'The Satanic Verses', 'How to Stop Worrying and Start Living', 'The Drama of the Gifted Child: The Search for the True Self', 'Heart of Darkness', 'Three Men in a Boat: To Say Nothing of the Dog', 'Kafka on the Shore', 'The Brothers Karamazov', 'The Very Hungry Caterpillar', 'Breakfast of Champions', \"Kurt Vonnegut's Cat's Cradle (Modern Critical Interpretations)\", 'Welcome to the Monkey House', 'The Red Tent', 'Jackdaws', 'The Waste Lands (The Dark Tower  #3)', 'Wizard and Glass (The Dark Tower  #4)', 'The Gunslinger (The Dark Tower  #1)', \"The Handmaid's Tale\", 'The Catcher in the Rye', 'Brave New World', 'The Heart Is a Lonely Hunter', 'While I Was Gone', 'Open House', \"The Pilot's Wife\", 'Tara Road', 'Daughter of Fortune', 'A Fine Balance', 'White Oleander', 'Cry  the Beloved Country', 'Song of Solomon', 'The Bluest Eye', 'The Poisonwood Bible', 'The Picture of Dorian Gray', 'A Christmas Carol', 'Little Dorrit', 'A Painted House', 'Dragonfly in Amber (Outlander  #2)', \"'Salem's Lot\", \"El misterio de Salem's Lot\", 'Nineteen Eighty-Four', '1984', \"Surely You're Joking  Mr. Feynman!: Adventures of a Curious Character\", 'QED: The Strange Theory of Light and Matter', 'The Idiot', \"When Heaven and Earth Changed Places: A Vietnamese Woman's Journey from War to Peace\", 'Choke', 'Vanity Fair', 'V for Vendetta', 'Casino Royale', 'The Woman in White', 'The 9/11 Commission Report: Final Report of the National Commission on Terrorist Attacks Upon the United States', 'The Hobbit', 'Love', 'Narcissus and Goldmund', 'Siddhartha', 'The Moonstone', 'Beloved', 'Wuthering Heights', 'The Mistress of Husaby (Kristin Lavransdatter  #2)', 'The BFG', 'Never Let Me Go', 'Four to Score (Stephanie Plum  #4)', 'Hard Eight (Stephanie Plum  #8)', 'Two for the Dough (Stephanie Plum  #2)', \"A Supposedly Fun Thing I'll Never Do Again: Essays and Arguments\", 'Ivanhoe', 'Rob Roy', 'The Bell Jar', 'At Risk (Winston Garano  #1)', 'Trace (Kay Scarpetta  #13)', 'Lipstick Jungle', 'The Divine Comedy', 'Matilda', 'The Wonderful Story of Henry Sugar and Six More', 'James and the Giant Peach', 'Danny the Champion of the World', 'Fantastic Mr. Fox', 'Romeo & Juliet', 'Hot Six (Stephanie Plum  #6)', 'Atonement', 'Tuesdays with Morrie', \"My Sister's Keeper\", 'Like Water for Chocolate', 'Como agua para chocolate', 'Emma', \"In the Company of Cheerful Ladies (No. 1 Ladies' Detective Agency  #6)\", 'The Tale of Genji', 'Do Androids Dream of Electric Sheep?', 'The Count of Monte Cristo', 'Crime and Punishment', 'The Secret Life of Bees', \"Prodigal Son (Dean Koontz's Frankenstein  #1)\", 'The Silmarillion', 'The Tolkien Reader', 'Naked Lunch', 'The Glass Castle', 'Human Traces', 'The Beach House', 'Candide: or  Optimism', 'Even Cowgirls Get the Blues', 'A Portrait of the Artist as a Young Man', 'One Hundred Years Of Solitude', 'Lolita', 'Five Patients', 'Pygmalion', 'The Metamorphosis', 'The Metamorphosis and Other Stories', \"Gulliver's Travels\", 'Fear and Loathing in Las Vegas', 'Days Between Stations', \"Speaker for the Dead (Ender's Saga  #2)\", 'Cloudy with a Chance of Meatballs', 'Beauty', 'The Blue Sword', 'The Second Sex', 'Bonecrack', 'Fierce Invalids Home from Hot Climates', 'Lincoln', 'Desert Flower', 'A Clockwork Orange', 'Le Petit Prince', 'Macbeth', 'The War of the Worlds', 'The Invisible Man', 'The Hound of the Baskervilles (Sherlock Holmes  #5)', 'The Hound of the Baskervilles', 'The Historian', 'Zorro', 'The House of the Spirits', \"Hegel's Phenomenology of Spirit\", 'In Praise of Shadows', 'Sputnik Sweetheart', 'Galápagos', 'Timequake', 'The Homecoming', 'The Illustrated Man', 'Love in the Time of Cholera', 'El amor en los tiempos del cólera', \"Ender's Game (Ender's Saga  #1)\", 'The Art of War', 'The God of Small Things', 'A Walk in the Woods: Rediscovering America on the Appalachian Trail', 'Invisible Cities', 'Blind Willow  Sleeping Woman', 'Glamorama', 'The Wall', 'River of Blue Fire (Otherland  #2)', 'The Namesake', 'Jane Eyre', 'The Far Pavilions', \"Foucault's Pendulum\", 'How to Travel with a Salmon and Other Essays', 'Ulysses', 'The Three Musketeers', 'Dark Visions', 'The Stephen King Collection: Stories from Night Shift', 'Bag of Bones', 'The Shining', 'Cujo', 'Black House (The Talisman  #2)', 'The Eyes of the Dragon', 'Night Shift', 'Misery', 'Carrie', 'The Talisman', 'Kim', 'A Farewell to Arms', \"Charlotte's Web\", 'Shopgirl', 'Harvesting the Heart', 'The Pact', 'Cold Mountain', 'The Virgin Suicides', \"Sophie's World\", 'Light in August', 'The Portable James Joyce', 'Dubliners', 'Mere Christianity', 'The Screwtape Letters', \"One Flew Over the Cuckoo's Nest\", 'The Wind-Up Bird Chronicle', 'Carrion Comfort', 'Haruki Murakami and the Music of Words', 'Norwegian Wood', 'Jazz', 'Sula', 'The Guns of August', 'Main Street', 'Cathedral', 'Les Fils des ténèbres', 'Swan Song', 'Mine', \"Usher's Passing\", 'Skeleton Crew', 'The Dark Half', 'El umbral de la noche', \"Sabbath's Theater\", 'Snow', 'Selected Poems', 'Possession', 'The Hotel New Hampshire', 'Rape: A Love Story', \"L'Étranger\", 'Use of Weapons', 'The Player of Games (Culture  #2)', 'Excession (Culture  #5)', 'Twilight (Twilight  #1)', 'Good Omens: The Nice and Accurate Prophecies of Agnes Nutter  Witch', 'Philosophical Investigations', 'Watership Down', 'A Streetcar Named Desire', 'The Scarlet Letter', 'The Scarlet Letter and Other Writings', 'Europe Central', 'Stiff: The Curious Lives of Human Cadavers', \"The Bonesetter's Daughter\", 'The Guardian', 'Sometimes A Great Notion', \"Swann's Way (In Search of Lost Time  #1)\", \"Swann's Way (Remembrance of Things Past  #1)\", 'The Crazed', 'The Twenty-Seventh City', 'Death of a Salesman', 'The Aeneid', 'The Castle of Otranto', 'King Lear', 'The Turn of the Screw', 'Much Ado About Nothing', 'Much Ado about Nothing', 'Othello', 'Julius Caesar', \"Alice's Adventures in Wonderland and Through the Looking Glass\", 'Flush', 'The Celestine Prophecy', \"3rd Degree (Women's Murder Club  #3)\", 'Roses Are Red (Alex Cross  #6)', 'Runaway Ralph', 'The House of the Scorpion (Matteo Alacran  #1)', 'The Presocratic Philosophers', 'Different Seasons', 'Demian', 'Tehanu (Earthsea Cycle  #4)', 'The Farthest Shore', 'The Farthest Shore (Earthsea Cycle  #3)', 'Magician: Apprentice (The Riftwar Saga  #1)', 'Shards of a Broken Crown (The Serpentwar Saga  #4)', 'In the Hand of the Goddess (Song of the Lioness  #2)', \"The Botany of Desire: A Plant's-Eye View of the World\", 'Geek Love', 'A Beautiful Mind', 'The Dark Mirror (The Bridei Chronicles  #1)', 'Foxmask (Saga of the Light Isles  #2)', 'The Noonday Demon: An Atlas of Depression', \"The Time Traveler's Wife\", 'The Little Friend', 'The Art of Loving', 'Jonathan Strange & Mr Norrell', 'Gilead', 'Hunger', \"The Impostor (Liar's Club  #2)\", 'English Passengers', 'Runaway', 'Neverwhere', 'El Perfume: Historia De Un Asesino', 'The Red and the Black', 'The Charterhouse of Parma', 'Faust  Part Two', 'War Trash', 'Neuromancer', 'Last Man Standing', 'Plain Truth', 'The Outsiders', 'Joy in the Morning', 'Sense and Sensibility', 'To the Lighthouse', 'Mrs. Dalloway', \"A Room of One's Own\", 'Five Quarters of the Orange', 'Blackberry Wine', 'Chocolat (Chocolat  #1)', 'The Two Towers (The Lord of the Rings  #2)', 'The Return of the King (The Lord of the Rings  #3)', 'Magic Kingdom for Sale—Sold! (Magic Kingdom of Landover #1)', \"Armageddon's Children (Genesis of Shannara  #1)\", 'The Voyage of the Jerle Shannara Trilogy (Voyage of the Jerle Shannara  #1-3)', 'The Heritage of Shannara (Heritage of Shannara  #1-4)', 'A Knight of the Word (Word & Void  #2)', 'Angel Fire East (Word & Void  #3)', 'Ilse Witch (Voyage of the Jerle Shannara #1)', 'Billy Budd  Sailor', 'Billy Budd', 'The Outsider', 'Cyrano de Bergerac', 'The Possessed', 'One Door Away from Heaven', 'Hour Game (Sean King & Michelle Maxwell  #2)', 'Harry Potter y la Orden del Fénix (Harry Potter  #5)', 'An Instance of the Fingerpost', 'Paradise Lost', 'The Awakening', 'Tales of the City (Tales of the City  #1)', 'A Murder Is Announced (Miss Marple  #5)', 'And Then There Were None', 'Murder on the Orient Express (Hercule Poirot  #10)', \"Dead Man's Folly (Hercule Poirot  #33)\", 'The Mating Season (Jeeves  #9)', 'Paula', 'Ficciones', 'Democracy in America', 'The Sorrows of Young Werther', 'Roverandom', 'Prey', 'Marvels', 'Coraline', 'The Stranger', 'Marie Antoinette: The Journey', 'The Sound and the Fury', 'Friday', 'Starship Troopers', 'Dracula', 'The Mystery of the Disappearing Cat (The Five Find-Outers  #2)', 'Democracy Matters: Winning the Fight Against Imperialism', 'Dancing Girls and Other Stories', 'Oryx and Crake (MaddAddam  #1)', 'The Trial', 'This Side of Paradise', \"The Dirt: Confessions of the World's Most Notorious Rock Band\", \"Alice's Adventures in Wonderland & Through the Looking-Glass\", 'South of the Border  West of the Sun', 'The Eternity Code (Artemis Fowl  #3)', 'The Subtle Knife (His Dark Materials  #2)', 'The Amber Spyglass (His Dark Materials  #3)', 'Romeo and Juliet', 'Oliver Twist', 'Gargantua and Pantagruel', 'Introduction to Phenomenology', 'Critique of Pure Reason', 'Fire: From A Journal of Love - The Unexpurgated Diary of Anaïs Nin (1934-1937)', 'Flowers for Algernon', 'Utopia', 'The Rule of Four', 'Frankenstein', 'Summer of my German Soldier', 'Civilization and Its Discontents', 'Sodom and Gomorrah (In Search of Lost Time  #4)', 'Orlando', 'Mistress of Magic (The Mists of Avalon  #1)', 'The Book Thief', 'Nicomachean Ethics', 'Middlemarch', 'Dead Souls', 'Beowulf', 'Seamus Heaney', 'Pippi Longstocking', 'The Brothers Lionheart', 'The Epic of Gilgamesh', 'Candide', 'The Decline and Fall of the Roman Empire', 'Absolutely Normal Chaos', 'Ready or Not (All-American Girl  #2)', 'Where the Wild Things Are', 'Ghost Story', 'Red Rabbit (Jack Ryan  #2)', 'The Echo Maker', 'The Mill on the Floss', \"Aesop's Fables\", 'Phantoms', 'Shakespeare: The Invention of the Human', 'Icebound', 'The Good Guy', 'The Black Echo (Harry Bosch  #1; Harry Bosch Universe  #1)', 'The Closers (Harry Bosch  #11; Harry Bosch Universe  #14)', 'The Best American Mystery Stories 2004', 'Mystic River', 'Blindsighted (Grant County  #1)', 'The Enemy (Jack Reacher  #8)', 'The Visitor (Jack Reacher  #4)', 'Tripwire (Jack Reacher  #3)', 'Echo Burning (Jack Reacher  #5)', 'Heat', 'La princesa prometida', 'The Last Kingdom (The Saxon Stories  #1)', 'The Wheel of Darkness (Pendergast  #8)', 'The Godfather', 'Jurassic Park', 'Stargirl (Stargirl  #1)', 'Haunted', 'Fantasmas', 'Miss Wyoming', 'The Day I Swapped My Dad for Two Goldfish', 'The Fabric of the Cosmos: Space  Time and the Texture of Reality', 'The Origin of Species', 'The Origin of Consciousness in the Breakdown of the Bicameral Mind', 'JPod', 'Bookends', 'The Other Woman', '¿Quién te lo ha contado?', 'Rachel se va de viaje (La familia Walsh  #2)', 'The One Tree (The Second Chronicles of Thomas Covenant  #2)', 'The Gap Into Madness: Chaos and Order (Gap  #4)', 'Are We There Yet?', 'Running from the Deity (Pip & Flinx #11)', 'The Consolations of Philosophy', 'Something Borrowed (Darcy & Rachel  #1)', 'Bargaining for Advantage: Negotiation Strategies for Reasonable People', 'The Abandoned (Harrow House  #4)', 'La increíble y triste historia de la cándida Eréndira y de su abuela desalmada', 'The Complete Poems', 'Trainspotting', 'Filth', 'Gödel  Escher  Bach: An Eternal Golden Braid', 'The Merchant of Venice', 'The Runaway Jury', 'Boys Against Girls (Sweet Valley Twins  #17)', \"Alice's Adventures in Wonderland\", 'Les Misérables', 'Ella Enchanted', 'His Dark Materials', 'Scary Stories 3: More Tales to Chill Your Bones', \"Trickster's Choice (Daughter of the Lioness  #1)\", 'The Pythons Autobiography by The Pythons', 'The Gangs of New York', 'The Adventures of Tom Sawyer', 'Mrs. Frisby and the Rats of NIMH', 'Riven Rock', 'City of God', 'Ragtime', 'A Confederacy of Dunces', 'Tuck Everlasting', 'The Philosophy of History', 'Malinche', 'The Wealth of Nations', 'Selected Writings', 'The Book of Five Rings', 'Beneath the Wheel', 'A Random Walk Down Wall Street', 'Identity', 'Act of Treason (Mitch Rapp  #9)', 'Quicksand', 'Their Eyes Were Watching God', 'The Eyre Affair (Thursday Next  #1)', 'The Twentieth Wife (Taj Mahal Trilogy  #1)', 'The Lost Painting', 'The Art of the Personal Essay: An Anthology from the Classical Era to the Present', 'Bury the Chains', 'Eugene Onegin', 'Data Structures and Algorithms in C++', \"The Titan's Curse (Percy Jackson and the Olympians  #3)\", 'The Sea of Monsters (Percy Jackson and the Olympians  #2)', 'The Lightning Thief (Percy Jackson and the Olympians  #1)', 'Dark Star Safari: Overland from Cairo to Cape Town', \"The Magicians' Guild (Black Magician Trilogy  #1)\", 'In the Shadow of Young Girls in Flower (In Search of Lost Time  #2)', 'Taxi Driver', 'Well of Darkness (Sovereign Stone  #1)', 'Elven Star (The Death Gate Cycle  #2)', 'The Last Herald-Mage (Valdemar: The Last Herald-Mage  #1-3)', 'The Unconsoled', 'The Last Unicorn', 'Candy', '20 000 Leagues Under the Sea', 'Twenty Thousand Leagues Under the Sea', 'Republic', 'The Republic', 'Falling Up', 'Cerulean Sins (Anita Blake  Vampire Hunter  #11)', 'A Secret Splendor', 'The Communist Manifesto', 'Paddy Clarke Ha Ha Ha', 'The Hunchback of Notre-Dame', 'Darkness at Noon', 'The Other Boleyn Girl', 'Babyville', \"Hart's Hope\", 'Far from the Madding Crowd', 'Far From the Madding Crowd', 'The Consolation of Philosophy', 'Horse Heaven', \"The Family That Couldn't Sleep: A Medical Mystery\", 'Hannibal', 'Sonnets', 'Mysteries', 'The Return of the Native', 'Tales of the Cthulhu Mythos', 'Around the World in Eighty Days', 'King Richard II', 'The Tempest', 'How to Win Friends and Influence People', 'Call of Cthulhu: Horror Roleplaying (Call of Cthulhu RPG)', 'The Elements of Style', 'The Bridegroom', \"Girls' Night In\", 'The Talbot Odyssey', 'Before Night Falls', 'The Visual Arts: A History', 'The Glass Lake', 'Doctor Faustus', 'The Damnation Game', 'Trevayne', 'Sahara (Dirk Pitt  #11)', \"A Hard Day's Write: The Stories Behind Every Beatles Song\", 'The Beatles', 'Love Smart: Find the One You Want--Fix the One You Got', 'First Things First', 'Narrative of the Life of Frederick Douglass', 'Narrative of the Life of Frederick Douglass: An American Slave  Written by Himself', 'The Pure in Heart (Simon Serrailler  #2)', 'The Shell Seekers', \"The Prime of Miss Jean Brodie / The Girls of Slender Means / The Driver's Seat / The Only Problem\", 'The Martian Chronicles', 'The Arctic Incident (Artemis Fowl  #2)', 'Artemis Fowl (Artemis Fowl  #1)', 'Encuentro en el Ártico (Artemis Fowl  #2)', 'Alas  Babylon', 'Australia', 'Moll Flanders', 'The Curious Sofa', 'The Actor in You: Sixteen Simple Steps to Understanding the Art of Acting', 'Pedro Páramo', \"I Don't Know How She Does It (Kate Reddy  #1)\", 'The Damned (Vampire Huntress  #6)', 'How to Be a Domestic Goddess: Baking and the Art of Comfort Cooking', 'A Year in Provence', 'Love Overboard', 'Metro Girl (Alex Barnaby  #1)', 'Beauty: A Retelling of the Story of Beauty and the Beast', 'The Jungle', 'Harry Potter und der Gefangene von Askaban (Harry Potter  #3)', 'Life Is a Dream', 'As You Like It', 'Nimitz Class (Admiral Arnold Morgan  #1)', 'All Quiet on the Western Front', 'White Fang', 'Unacknowledged Legislation: Writers in the Public Sphere', 'Something Borrowed', 'Chainfire (Sword of Truth  #9)', 'Naked Empire (Sword of Truth  #8)', 'Magician (The Riftwar Saga  #1-2)', 'Shield of Thunder (Troy  #2)', 'The Silver Pigs (Marcus Didius Falco  #1)', 'The Portable Dorothy Parker', 'Todo está iluminado', 'Wide Sargasso Sea', 'Mansfield Park', 'Agnes Grey', 'A Passage to India', 'I Never Promised You a Rose Garden', 'La Tía Julia y el Escribidor', 'Whores for Gloria', 'Las aventuras de Tom Sawyer', 'The Canterville Ghost', 'The Canterville Ghost and Other Stories', 'La niña del pelo raro', \"Feynman's Rainbow: A Search for Beauty in Physics and in Life\", 'La tabla de Flandes', 'Quo Vadis', 'The Book of Disquiet', \"Uncle Tom's Cabin\", 'Go Ask Alice', 'The Taming of the Shrew', 'Courtesans and Fishcakes: The Consuming Passions of Classical Athens', 'La hierba del diablo (La Torre Oscura  #1)', 'Lirael (Abhorsen  #2)']\n"
          ],
          "name": "stdout"
        }
      ]
    },
    {
      "cell_type": "code",
      "metadata": {
        "id": "RJWzgk28UYQp",
        "colab_type": "code",
        "colab": {}
      },
      "source": [
        "# Option Three\n",
        "seen = {}\n",
        "dupes = []\n",
        "\n",
        "for x in a_list:\n",
        "    if x not in seen:\n",
        "        seen[x] = 1\n",
        "    else:\n",
        "        if seen[x] == 1:\n",
        "            dupes.append(x)\n",
        "        seen[x] += 1"
      ],
      "execution_count": 0,
      "outputs": []
    },
    {
      "cell_type": "code",
      "metadata": {
        "id": "uCEnqShyUYQs",
        "colab_type": "code",
        "colab": {},
        "outputId": "cacd74b9-67b3-4784-e5b5-d3906436c5e4"
      },
      "source": [
        "pd.DataFrame(dupes)"
      ],
      "execution_count": 0,
      "outputs": [
        {
          "output_type": "execute_result",
          "data": {
            "text/html": [
              "<div>\n",
              "<style scoped>\n",
              "    .dataframe tbody tr th:only-of-type {\n",
              "        vertical-align: middle;\n",
              "    }\n",
              "\n",
              "    .dataframe tbody tr th {\n",
              "        vertical-align: top;\n",
              "    }\n",
              "\n",
              "    .dataframe thead th {\n",
              "        text-align: right;\n",
              "    }\n",
              "</style>\n",
              "<table border=\"1\" class=\"dataframe\">\n",
              "  <thead>\n",
              "    <tr style=\"text-align: right;\">\n",
              "      <th></th>\n",
              "      <th>0</th>\n",
              "    </tr>\n",
              "  </thead>\n",
              "  <tbody>\n",
              "    <tr>\n",
              "      <th>0</th>\n",
              "      <td>The Hitchhiker's Guide to the Galaxy (Hitchhik...</td>\n",
              "    </tr>\n",
              "    <tr>\n",
              "      <th>1</th>\n",
              "      <td>The Lord of the Rings (The Lord of the Rings  ...</td>\n",
              "    </tr>\n",
              "    <tr>\n",
              "      <th>2</th>\n",
              "      <td>The Changeling</td>\n",
              "    </tr>\n",
              "    <tr>\n",
              "      <th>3</th>\n",
              "      <td>The Known World</td>\n",
              "    </tr>\n",
              "    <tr>\n",
              "      <th>4</th>\n",
              "      <td>The Power of One (The Power of One  #1)</td>\n",
              "    </tr>\n",
              "    <tr>\n",
              "      <th>...</th>\n",
              "      <td>...</td>\n",
              "    </tr>\n",
              "    <tr>\n",
              "      <th>761</th>\n",
              "      <td>Courtesans and Fishcakes: The Consuming Passio...</td>\n",
              "    </tr>\n",
              "    <tr>\n",
              "      <th>762</th>\n",
              "      <td>La hierba del diablo (La Torre Oscura  #1)</td>\n",
              "    </tr>\n",
              "    <tr>\n",
              "      <th>763</th>\n",
              "      <td>The Curious Sofa</td>\n",
              "    </tr>\n",
              "    <tr>\n",
              "      <th>764</th>\n",
              "      <td>Lirael (Abhorsen  #2)</td>\n",
              "    </tr>\n",
              "    <tr>\n",
              "      <th>765</th>\n",
              "      <td>The Day I Swapped My Dad for Two Goldfish</td>\n",
              "    </tr>\n",
              "  </tbody>\n",
              "</table>\n",
              "<p>766 rows × 1 columns</p>\n",
              "</div>"
            ],
            "text/plain": [
              "                                                     0\n",
              "0    The Hitchhiker's Guide to the Galaxy (Hitchhik...\n",
              "1    The Lord of the Rings (The Lord of the Rings  ...\n",
              "2                                       The Changeling\n",
              "3                                      The Known World\n",
              "4              The Power of One (The Power of One  #1)\n",
              "..                                                 ...\n",
              "761  Courtesans and Fishcakes: The Consuming Passio...\n",
              "762         La hierba del diablo (La Torre Oscura  #1)\n",
              "763                                   The Curious Sofa\n",
              "764                              Lirael (Abhorsen  #2)\n",
              "765          The Day I Swapped My Dad for Two Goldfish\n",
              "\n",
              "[766 rows x 1 columns]"
            ]
          },
          "metadata": {
            "tags": []
          },
          "execution_count": 13
        }
      ]
    },
    {
      "cell_type": "markdown",
      "metadata": {
        "id": "a2LBgWsXUYQu",
        "colab_type": "text"
      },
      "source": [
        "# conclusion for duplicate problem:(Not achieve)\n",
        "trying to find out duplicates by 'title', but failed.\n",
        "Goal: print out a dataframe with the duplicate title and counts as columns."
      ]
    },
    {
      "cell_type": "markdown",
      "metadata": {
        "id": "o7vuD_L3UYQy",
        "colab_type": "text"
      },
      "source": [
        "# feature engineering -- create new column 'text_rev_ratio' and Visualization: text_rev_ratio\tVS average rating"
      ]
    },
    {
      "cell_type": "code",
      "metadata": {
        "id": "tVIV346nUYQy",
        "colab_type": "code",
        "colab": {}
      },
      "source": [
        "temp = books"
      ],
      "execution_count": 0,
      "outputs": []
    },
    {
      "cell_type": "code",
      "metadata": {
        "id": "h2Cl26X_UYQ2",
        "colab_type": "code",
        "colab": {}
      },
      "source": [
        "# remove 0s in rating_count\n",
        "temp = temp[(temp['ratings_count'] != 0)]"
      ],
      "execution_count": 0,
      "outputs": []
    },
    {
      "cell_type": "code",
      "metadata": {
        "id": "C7G5socLUYQ5",
        "colab_type": "code",
        "colab": {},
        "outputId": "642e1302-eec8-4e15-e6bd-b62082319a91"
      },
      "source": [
        "# create new column with 'text_v_count / rating_count'\n",
        "temp['text_rev_ratio'] = temp['text_reviews_count']/temp['ratings_count']"
      ],
      "execution_count": 0,
      "outputs": [
        {
          "output_type": "stream",
          "text": [
            "C:\\Users\\MIN-Mark\\.conda\\envs\\mark\\lib\\site-packages\\ipykernel_launcher.py:2: SettingWithCopyWarning: \n",
            "A value is trying to be set on a copy of a slice from a DataFrame.\n",
            "Try using .loc[row_indexer,col_indexer] = value instead\n",
            "\n",
            "See the caveats in the documentation: https://pandas.pydata.org/pandas-docs/stable/user_guide/indexing.html#returning-a-view-versus-a-copy\n",
            "  \n"
          ],
          "name": "stderr"
        }
      ]
    },
    {
      "cell_type": "code",
      "metadata": {
        "id": "ho9eUYJlUYQ8",
        "colab_type": "code",
        "colab": {},
        "outputId": "22c5ed6c-eff1-414e-dad7-154a70871135"
      },
      "source": [
        "# take a look\n",
        "temp.sort_values(by = 'text_rev_ratio', ascending = False) # good"
      ],
      "execution_count": 0,
      "outputs": [
        {
          "output_type": "execute_result",
          "data": {
            "text/html": [
              "<div>\n",
              "<style scoped>\n",
              "    .dataframe tbody tr th:only-of-type {\n",
              "        vertical-align: middle;\n",
              "    }\n",
              "\n",
              "    .dataframe tbody tr th {\n",
              "        vertical-align: top;\n",
              "    }\n",
              "\n",
              "    .dataframe thead th {\n",
              "        text-align: right;\n",
              "    }\n",
              "</style>\n",
              "<table border=\"1\" class=\"dataframe\">\n",
              "  <thead>\n",
              "    <tr style=\"text-align: right;\">\n",
              "      <th></th>\n",
              "      <th>title</th>\n",
              "      <th>authors</th>\n",
              "      <th>average_rating</th>\n",
              "      <th>language_code</th>\n",
              "      <th>num_pages</th>\n",
              "      <th>ratings_count</th>\n",
              "      <th>text_reviews_count</th>\n",
              "      <th>text_rev_ratio</th>\n",
              "    </tr>\n",
              "    <tr>\n",
              "      <th>isbn</th>\n",
              "      <th></th>\n",
              "      <th></th>\n",
              "      <th></th>\n",
              "      <th></th>\n",
              "      <th></th>\n",
              "      <th></th>\n",
              "      <th></th>\n",
              "      <th></th>\n",
              "    </tr>\n",
              "  </thead>\n",
              "  <tbody>\n",
              "    <tr>\n",
              "      <th>0862921473</th>\n",
              "      <td>Theocritus: Select Poems: Select Poems</td>\n",
              "      <td>Theocritus-Kenneth James Dover</td>\n",
              "      <td>3.00</td>\n",
              "      <td>grc</td>\n",
              "      <td>395</td>\n",
              "      <td>1</td>\n",
              "      <td>1</td>\n",
              "      <td>1.0</td>\n",
              "    </tr>\n",
              "    <tr>\n",
              "      <th>3485009601</th>\n",
              "      <td>Ein Koch für Mma Ramotswe (No. 1 Ladies' Detec...</td>\n",
              "      <td>Alexander McCall Smith</td>\n",
              "      <td>3.98</td>\n",
              "      <td>ger</td>\n",
              "      <td>240</td>\n",
              "      <td>2</td>\n",
              "      <td>2</td>\n",
              "      <td>1.0</td>\n",
              "    </tr>\n",
              "    <tr>\n",
              "      <th>0689118449</th>\n",
              "      <td>The Illustrated Garden Book: A New Anthology</td>\n",
              "      <td>Robin Lane  Fox-Vita Sackville-West-Freda Titf...</td>\n",
              "      <td>4.19</td>\n",
              "      <td>eng</td>\n",
              "      <td>192</td>\n",
              "      <td>1</td>\n",
              "      <td>1</td>\n",
              "      <td>1.0</td>\n",
              "    </tr>\n",
              "    <tr>\n",
              "      <th>0811832791</th>\n",
              "      <td>The Halloween Activity Book: Creepy  Crawly  H...</td>\n",
              "      <td>Mymi Doinet-Benjamin Chaud</td>\n",
              "      <td>2.00</td>\n",
              "      <td>eng</td>\n",
              "      <td>32</td>\n",
              "      <td>1</td>\n",
              "      <td>1</td>\n",
              "      <td>1.0</td>\n",
              "    </tr>\n",
              "    <tr>\n",
              "      <th>0091895812</th>\n",
              "      <td>The Toy Maker: The Life and Times of Inventor ...</td>\n",
              "      <td>Anthony Mcreavy</td>\n",
              "      <td>3.00</td>\n",
              "      <td>eng</td>\n",
              "      <td>352</td>\n",
              "      <td>1</td>\n",
              "      <td>1</td>\n",
              "      <td>1.0</td>\n",
              "    </tr>\n",
              "    <tr>\n",
              "      <th>...</th>\n",
              "      <td>...</td>\n",
              "      <td>...</td>\n",
              "      <td>...</td>\n",
              "      <td>...</td>\n",
              "      <td>...</td>\n",
              "      <td>...</td>\n",
              "      <td>...</td>\n",
              "      <td>...</td>\n",
              "    </tr>\n",
              "    <tr>\n",
              "      <th>3446187499</th>\n",
              "      <td>Norden</td>\n",
              "      <td>Seamus Heaney</td>\n",
              "      <td>4.09</td>\n",
              "      <td>ger</td>\n",
              "      <td>127</td>\n",
              "      <td>2</td>\n",
              "      <td>0</td>\n",
              "      <td>0.0</td>\n",
              "    </tr>\n",
              "    <tr>\n",
              "      <th>0571210910</th>\n",
              "      <td>Finders Keepers: Selected Prose  1971-2001</td>\n",
              "      <td>Seamus Heaney</td>\n",
              "      <td>4.15</td>\n",
              "      <td>en-GB</td>\n",
              "      <td>432</td>\n",
              "      <td>16</td>\n",
              "      <td>0</td>\n",
              "      <td>0.0</td>\n",
              "    </tr>\n",
              "    <tr>\n",
              "      <th>0812034112</th>\n",
              "      <td>Dante Alighieri's Divine Comedy  the Inferno</td>\n",
              "      <td>Dante Alighieri</td>\n",
              "      <td>4.00</td>\n",
              "      <td>en-US</td>\n",
              "      <td>101</td>\n",
              "      <td>5</td>\n",
              "      <td>0</td>\n",
              "      <td>0.0</td>\n",
              "    </tr>\n",
              "    <tr>\n",
              "      <th>047115847X</th>\n",
              "      <td>Could Do Better: Why Children Underachieve and...</td>\n",
              "      <td>Harvey P. Mandel-Sander I. Marcus-Loral Dean</td>\n",
              "      <td>3.80</td>\n",
              "      <td>eng</td>\n",
              "      <td>291</td>\n",
              "      <td>2</td>\n",
              "      <td>0</td>\n",
              "      <td>0.0</td>\n",
              "    </tr>\n",
              "    <tr>\n",
              "      <th>0563388323</th>\n",
              "      <td>The Goon Show  Volume 11: He's Fallen in the W...</td>\n",
              "      <td>NOT A BOOK</td>\n",
              "      <td>5.00</td>\n",
              "      <td>eng</td>\n",
              "      <td>2</td>\n",
              "      <td>2</td>\n",
              "      <td>0</td>\n",
              "      <td>0.0</td>\n",
              "    </tr>\n",
              "  </tbody>\n",
              "</table>\n",
              "<p>13600 rows × 8 columns</p>\n",
              "</div>"
            ],
            "text/plain": [
              "                                                        title  \\\n",
              "isbn                                                            \n",
              "0862921473             Theocritus: Select Poems: Select Poems   \n",
              "3485009601  Ein Koch für Mma Ramotswe (No. 1 Ladies' Detec...   \n",
              "0689118449       The Illustrated Garden Book: A New Anthology   \n",
              "0811832791  The Halloween Activity Book: Creepy  Crawly  H...   \n",
              "0091895812  The Toy Maker: The Life and Times of Inventor ...   \n",
              "...                                                       ...   \n",
              "3446187499                                             Norden   \n",
              "0571210910         Finders Keepers: Selected Prose  1971-2001   \n",
              "0812034112       Dante Alighieri's Divine Comedy  the Inferno   \n",
              "047115847X  Could Do Better: Why Children Underachieve and...   \n",
              "0563388323  The Goon Show  Volume 11: He's Fallen in the W...   \n",
              "\n",
              "                                                      authors  average_rating  \\\n",
              "isbn                                                                            \n",
              "0862921473                     Theocritus-Kenneth James Dover            3.00   \n",
              "3485009601                             Alexander McCall Smith            3.98   \n",
              "0689118449  Robin Lane  Fox-Vita Sackville-West-Freda Titf...            4.19   \n",
              "0811832791                         Mymi Doinet-Benjamin Chaud            2.00   \n",
              "0091895812                                    Anthony Mcreavy            3.00   \n",
              "...                                                       ...             ...   \n",
              "3446187499                                      Seamus Heaney            4.09   \n",
              "0571210910                                      Seamus Heaney            4.15   \n",
              "0812034112                                    Dante Alighieri            4.00   \n",
              "047115847X       Harvey P. Mandel-Sander I. Marcus-Loral Dean            3.80   \n",
              "0563388323                                         NOT A BOOK            5.00   \n",
              "\n",
              "           language_code  num_pages  ratings_count  text_reviews_count  \\\n",
              "isbn                                                                     \n",
              "0862921473           grc        395              1                   1   \n",
              "3485009601           ger        240              2                   2   \n",
              "0689118449           eng        192              1                   1   \n",
              "0811832791           eng         32              1                   1   \n",
              "0091895812           eng        352              1                   1   \n",
              "...                  ...        ...            ...                 ...   \n",
              "3446187499           ger        127              2                   0   \n",
              "0571210910         en-GB        432             16                   0   \n",
              "0812034112         en-US        101              5                   0   \n",
              "047115847X           eng        291              2                   0   \n",
              "0563388323           eng          2              2                   0   \n",
              "\n",
              "            text_rev_ratio  \n",
              "isbn                        \n",
              "0862921473             1.0  \n",
              "3485009601             1.0  \n",
              "0689118449             1.0  \n",
              "0811832791             1.0  \n",
              "0091895812             1.0  \n",
              "...                    ...  \n",
              "3446187499             0.0  \n",
              "0571210910             0.0  \n",
              "0812034112             0.0  \n",
              "047115847X             0.0  \n",
              "0563388323             0.0  \n",
              "\n",
              "[13600 rows x 8 columns]"
            ]
          },
          "metadata": {
            "tags": []
          },
          "execution_count": 159
        }
      ]
    },
    {
      "cell_type": "code",
      "metadata": {
        "id": "-gPCNKx_UYQ-",
        "colab_type": "code",
        "colab": {},
        "outputId": "bec2a2b3-1794-4ee7-bae5-b1ff11521f57"
      },
      "source": [
        "temp['ratings_count'].describe() # find a propor benchmark for visualization"
      ],
      "execution_count": 0,
      "outputs": [
        {
          "output_type": "execute_result",
          "data": {
            "text/plain": [
              "count    1.360000e+04\n",
              "mean     1.791431e+04\n",
              "std      1.134179e+05\n",
              "min      1.000000e+00\n",
              "25%      8.800000e+01\n",
              "50%      6.505000e+02\n",
              "75%      4.808250e+03\n",
              "max      5.629932e+06\n",
              "Name: ratings_count, dtype: float64"
            ]
          },
          "metadata": {
            "tags": []
          },
          "execution_count": 38
        }
      ]
    },
    {
      "cell_type": "code",
      "metadata": {
        "id": "OK35Obj8UYRB",
        "colab_type": "code",
        "colab": {},
        "outputId": "ef1e840b-7f40-44c0-bf43-7d3c26a2eab4"
      },
      "source": [
        "# create new categorical column. split 'ratings_count' into high or low.\n",
        "temp['rating_level'] = temp['ratings_count'].apply(lambda x: 'high' if x >= 5000 else 'low') \n",
        "             # tried different benchmark to define what is 'high' and 'low'\n",
        "             # tried 50, 200, 5000, 500000."
      ],
      "execution_count": 0,
      "outputs": [
        {
          "output_type": "stream",
          "text": [
            "C:\\Users\\MIN-Mark\\.conda\\envs\\mark\\lib\\site-packages\\ipykernel_launcher.py:1: SettingWithCopyWarning: \n",
            "A value is trying to be set on a copy of a slice from a DataFrame.\n",
            "Try using .loc[row_indexer,col_indexer] = value instead\n",
            "\n",
            "See the caveats in the documentation: https://pandas.pydata.org/pandas-docs/stable/user_guide/indexing.html#returning-a-view-versus-a-copy\n",
            "  \"\"\"Entry point for launching an IPython kernel.\n"
          ],
          "name": "stderr"
        }
      ]
    },
    {
      "cell_type": "code",
      "metadata": {
        "id": "74qtmU50UYRD",
        "colab_type": "code",
        "colab": {},
        "outputId": "f3d9d011-5776-4e50-9afe-2739a2a89a78"
      },
      "source": [
        "# visualization to see if the text_rev_ratio vs average_rating has any difference on high vs low.\n",
        "sns.pairplot(vars=['average_rating', 'text_rev_ratio', ], data = temp, hue='rating_level')\n",
        "\n",
        "# The answer is con't tell from the plot."
      ],
      "execution_count": 0,
      "outputs": [
        {
          "output_type": "execute_result",
          "data": {
            "text/plain": [
              "<seaborn.axisgrid.PairGrid at 0x123730a6c18>"
            ]
          },
          "metadata": {
            "tags": []
          },
          "execution_count": 131
        },
        {
          "output_type": "display_data",
          "data": {
            "image/png": "[encoded data removed]",
            "text/plain": [
              "<Figure size 426.625x360 with 6 Axes>"
            ]
          },
          "metadata": {
            "tags": [],
            "needs_background": "light"
          }
        }
      ]
    },
    {
      "cell_type": "code",
      "metadata": {
        "id": "ous4jYx3UYRG",
        "colab_type": "code",
        "colab": {},
        "outputId": "8fd9ba9c-3d7d-464c-b6d8-dd7076421137"
      },
      "source": [
        "ax2 = sns.scatterplot(y=\"text_reviews_count\", x=\"ratings_count\", data=temp)"
      ],
      "execution_count": 0,
      "outputs": [
        {
          "output_type": "display_data",
          "data": {
            "image/png": "[encoded data removed]",
            "text/plain": [
              "<Figure size 432x288 with 1 Axes>"
            ]
          },
          "metadata": {
            "tags": [],
            "needs_background": "light"
          }
        }
      ]
    },
    {
      "cell_type": "code",
      "metadata": {
        "id": "_1MdW0OsUYRK",
        "colab_type": "code",
        "colab": {},
        "outputId": "7f1d9309-86de-4a68-ee0d-387fbf8eb99a"
      },
      "source": [
        "temp[temp['language_code'] != 'eng'].sort_values(by = 'text_rev_ratio', ascending = False) # one recode, lang_code = 'spa'\n",
        "    # It is reasonable, other languages don't have enough people to make reviews, they are filtered out."
      ],
      "execution_count": 0,
      "outputs": [
        {
          "output_type": "execute_result",
          "data": {
            "text/html": [
              "<div>\n",
              "<style scoped>\n",
              "    .dataframe tbody tr th:only-of-type {\n",
              "        vertical-align: middle;\n",
              "    }\n",
              "\n",
              "    .dataframe tbody tr th {\n",
              "        vertical-align: top;\n",
              "    }\n",
              "\n",
              "    .dataframe thead th {\n",
              "        text-align: right;\n",
              "    }\n",
              "</style>\n",
              "<table border=\"1\" class=\"dataframe\">\n",
              "  <thead>\n",
              "    <tr style=\"text-align: right;\">\n",
              "      <th></th>\n",
              "      <th>title</th>\n",
              "      <th>authors</th>\n",
              "      <th>average_rating</th>\n",
              "      <th>language_code</th>\n",
              "      <th>num_pages</th>\n",
              "      <th>ratings_count</th>\n",
              "      <th>text_reviews_count</th>\n",
              "      <th>text_rev_ratio</th>\n",
              "    </tr>\n",
              "    <tr>\n",
              "      <th>isbn</th>\n",
              "      <th></th>\n",
              "      <th></th>\n",
              "      <th></th>\n",
              "      <th></th>\n",
              "      <th></th>\n",
              "      <th></th>\n",
              "      <th></th>\n",
              "      <th></th>\n",
              "    </tr>\n",
              "  </thead>\n",
              "  <tbody>\n",
              "    <tr>\n",
              "      <th>0307347974</th>\n",
              "      <td>Fahrenheit 451</td>\n",
              "      <td>Ray Bradbury-Alfredo Crespo</td>\n",
              "      <td>3.98</td>\n",
              "      <td>spa</td>\n",
              "      <td>175</td>\n",
              "      <td>690801</td>\n",
              "      <td>14489</td>\n",
              "      <td>0.020974</td>\n",
              "    </tr>\n",
              "  </tbody>\n",
              "</table>\n",
              "</div>"
            ],
            "text/plain": [
              "                     title                      authors  average_rating  \\\n",
              "isbn                                                                      \n",
              "0307347974  Fahrenheit 451  Ray Bradbury-Alfredo Crespo            3.98   \n",
              "\n",
              "           language_code  num_pages  ratings_count  text_reviews_count  \\\n",
              "isbn                                                                     \n",
              "0307347974           spa        175         690801               14489   \n",
              "\n",
              "            text_rev_ratio  \n",
              "isbn                        \n",
              "0307347974        0.020974  "
            ]
          },
          "metadata": {
            "tags": []
          },
          "execution_count": 8
        }
      ]
    },
    {
      "cell_type": "markdown",
      "metadata": {
        "id": "lbrOk7zjUYRM",
        "colab_type": "text"
      },
      "source": [
        "# Conclusion for EDA: we can define a new standard of popular, 0.006 ~ 0.06 text_rev_ratio is a popular book."
      ]
    },
    {
      "cell_type": "markdown",
      "metadata": {
        "id": "BxPUGZMJUYRP",
        "colab_type": "text"
      },
      "source": [
        "# EDA -- find out the key word of series books"
      ]
    },
    {
      "cell_type": "code",
      "metadata": {
        "id": "e_jR3nG_UYRP",
        "colab_type": "code",
        "colab": {},
        "outputId": "6c0ad606-492e-47fe-8e09-1af3d1b3ff06"
      },
      "source": [
        "df = books\n",
        "temp = df"
      ],
      "execution_count": 0,
      "outputs": [
        {
          "output_type": "stream",
          "text": [
            "C:\\Users\\MIN-Mark\\.conda\\envs\\mark\\lib\\site-packages\\ipykernel_launcher.py:3: SettingWithCopyWarning: \n",
            "A value is trying to be set on a copy of a slice from a DataFrame.\n",
            "Try using .loc[row_indexer,col_indexer] = value instead\n",
            "\n",
            "See the caveats in the documentation: https://pandas.pydata.org/pandas-docs/stable/user_guide/indexing.html#returning-a-view-versus-a-copy\n",
            "  This is separate from the ipykernel package so we can avoid doing imports until\n"
          ],
          "name": "stderr"
        }
      ]
    },
    {
      "cell_type": "code",
      "metadata": {
        "id": "cBk-HYB8UYRS",
        "colab_type": "code",
        "colab": {},
        "outputId": "bc86d91a-203d-422f-8727-472ddf48f3db"
      },
      "source": [
        "temp[temp['title'].str.contains(\"Boxed\")] # it shows some num_pages equals to 0.!!!!!"
      ],
      "execution_count": 0,
      "outputs": [
        {
          "output_type": "execute_result",
          "data": {
            "text/html": [
              "<div>\n",
              "<style scoped>\n",
              "    .dataframe tbody tr th:only-of-type {\n",
              "        vertical-align: middle;\n",
              "    }\n",
              "\n",
              "    .dataframe tbody tr th {\n",
              "        vertical-align: top;\n",
              "    }\n",
              "\n",
              "    .dataframe thead th {\n",
              "        text-align: right;\n",
              "    }\n",
              "</style>\n",
              "<table border=\"1\" class=\"dataframe\">\n",
              "  <thead>\n",
              "    <tr style=\"text-align: right;\">\n",
              "      <th></th>\n",
              "      <th>title</th>\n",
              "      <th>authors</th>\n",
              "      <th>average_rating</th>\n",
              "      <th>language_code</th>\n",
              "      <th>num_pages</th>\n",
              "      <th>ratings_count</th>\n",
              "      <th>text_reviews_count</th>\n",
              "    </tr>\n",
              "    <tr>\n",
              "      <th>isbn</th>\n",
              "      <th></th>\n",
              "      <th></th>\n",
              "      <th></th>\n",
              "      <th></th>\n",
              "      <th></th>\n",
              "      <th></th>\n",
              "      <th></th>\n",
              "    </tr>\n",
              "  </thead>\n",
              "  <tbody>\n",
              "    <tr>\n",
              "      <th>0439682584</th>\n",
              "      <td>Harry Potter Boxed Set  Books 1-5 (Harry Potte...</td>\n",
              "      <td>J.K. Rowling-Mary GrandPré</td>\n",
              "      <td>4.78</td>\n",
              "      <td>eng</td>\n",
              "      <td>2690</td>\n",
              "      <td>38872</td>\n",
              "      <td>154</td>\n",
              "    </tr>\n",
              "    <tr>\n",
              "      <th>0345538374</th>\n",
              "      <td>J.R.R. Tolkien 4-Book Boxed Set: The Hobbit an...</td>\n",
              "      <td>J.R.R. Tolkien</td>\n",
              "      <td>4.59</td>\n",
              "      <td>eng</td>\n",
              "      <td>1728</td>\n",
              "      <td>97731</td>\n",
              "      <td>1536</td>\n",
              "    </tr>\n",
              "    <tr>\n",
              "      <th>0553609416</th>\n",
              "      <td>The Complete Anne of Green Gables Boxed Set (A...</td>\n",
              "      <td>L.M. Montgomery</td>\n",
              "      <td>4.43</td>\n",
              "      <td>eng</td>\n",
              "      <td>2088</td>\n",
              "      <td>95486</td>\n",
              "      <td>1449</td>\n",
              "    </tr>\n",
              "    <tr>\n",
              "      <th>0439884764</th>\n",
              "      <td>Guardians of Ga'hoole Boxed Set (Guardians of ...</td>\n",
              "      <td>Kathryn Lasky</td>\n",
              "      <td>4.25</td>\n",
              "      <td>eng</td>\n",
              "      <td>865</td>\n",
              "      <td>595</td>\n",
              "      <td>31</td>\n",
              "    </tr>\n",
              "    <tr>\n",
              "      <th>0789488779</th>\n",
              "      <td>Touch &amp; Feel: Animals Boxed Set</td>\n",
              "      <td>Jennifer Quasha-Deni Brown-Dawn Sirett</td>\n",
              "      <td>4.05</td>\n",
              "      <td>eng</td>\n",
              "      <td>36</td>\n",
              "      <td>22</td>\n",
              "      <td>2</td>\n",
              "    </tr>\n",
              "    <tr>\n",
              "      <th>0765344955</th>\n",
              "      <td>Ender's Game Boxed Set: Ender's Game  Ender's ...</td>\n",
              "      <td>Orson Scott Card</td>\n",
              "      <td>4.49</td>\n",
              "      <td>en-US</td>\n",
              "      <td>1296</td>\n",
              "      <td>1755</td>\n",
              "      <td>60</td>\n",
              "    </tr>\n",
              "    <tr>\n",
              "      <th>0618037667</th>\n",
              "      <td>The Lord of the Rings Millennium Edition Boxed...</td>\n",
              "      <td>J.R.R. Tolkien</td>\n",
              "      <td>4.49</td>\n",
              "      <td>eng</td>\n",
              "      <td>1472</td>\n",
              "      <td>118</td>\n",
              "      <td>5</td>\n",
              "    </tr>\n",
              "    <tr>\n",
              "      <th>0590598872</th>\n",
              "      <td>Baby-Sitters Club Boxed Set #1 (The Baby-Sitte...</td>\n",
              "      <td>Ann M. Martin</td>\n",
              "      <td>3.85</td>\n",
              "      <td>en-US</td>\n",
              "      <td>0</td>\n",
              "      <td>5241</td>\n",
              "      <td>96</td>\n",
              "    </tr>\n",
              "    <tr>\n",
              "      <th>0812575601</th>\n",
              "      <td>The Sword of Truth  Boxed Set I: Wizard's Firs...</td>\n",
              "      <td>Terry Goodkind</td>\n",
              "      <td>4.29</td>\n",
              "      <td>en-US</td>\n",
              "      <td>2480</td>\n",
              "      <td>4110</td>\n",
              "      <td>81</td>\n",
              "    </tr>\n",
              "    <tr>\n",
              "      <th>0701125594</th>\n",
              "      <td>Remembrance of Things Past (Boxed Set)</td>\n",
              "      <td>Marcel Proust-C.K. Scott Moncrieff-Frederick A...</td>\n",
              "      <td>4.34</td>\n",
              "      <td>eng</td>\n",
              "      <td>3400</td>\n",
              "      <td>6</td>\n",
              "      <td>1</td>\n",
              "    </tr>\n",
              "    <tr>\n",
              "      <th>0345340442</th>\n",
              "      <td>The Belgariad Boxed Set: Pawn of Prophecy / Qu...</td>\n",
              "      <td>David Eddings</td>\n",
              "      <td>4.27</td>\n",
              "      <td>eng</td>\n",
              "      <td>1635</td>\n",
              "      <td>13225</td>\n",
              "      <td>232</td>\n",
              "    </tr>\n",
              "    <tr>\n",
              "      <th>0439434866</th>\n",
              "      <td>Harry Potter Boxed Set (Harry Potter  #1-4)</td>\n",
              "      <td>J.K. Rowling-Mary GrandPré</td>\n",
              "      <td>4.67</td>\n",
              "      <td>eng</td>\n",
              "      <td>1820</td>\n",
              "      <td>534</td>\n",
              "      <td>6</td>\n",
              "    </tr>\n",
              "  </tbody>\n",
              "</table>\n",
              "</div>"
            ],
            "text/plain": [
              "                                                        title  \\\n",
              "isbn                                                            \n",
              "0439682584  Harry Potter Boxed Set  Books 1-5 (Harry Potte...   \n",
              "0345538374  J.R.R. Tolkien 4-Book Boxed Set: The Hobbit an...   \n",
              "0553609416  The Complete Anne of Green Gables Boxed Set (A...   \n",
              "0439884764  Guardians of Ga'hoole Boxed Set (Guardians of ...   \n",
              "0789488779                    Touch & Feel: Animals Boxed Set   \n",
              "0765344955  Ender's Game Boxed Set: Ender's Game  Ender's ...   \n",
              "0618037667  The Lord of the Rings Millennium Edition Boxed...   \n",
              "0590598872  Baby-Sitters Club Boxed Set #1 (The Baby-Sitte...   \n",
              "0812575601  The Sword of Truth  Boxed Set I: Wizard's Firs...   \n",
              "0701125594             Remembrance of Things Past (Boxed Set)   \n",
              "0345340442  The Belgariad Boxed Set: Pawn of Prophecy / Qu...   \n",
              "0439434866        Harry Potter Boxed Set (Harry Potter  #1-4)   \n",
              "\n",
              "                                                      authors  average_rating  \\\n",
              "isbn                                                                            \n",
              "0439682584                         J.K. Rowling-Mary GrandPré            4.78   \n",
              "0345538374                                     J.R.R. Tolkien            4.59   \n",
              "0553609416                                    L.M. Montgomery            4.43   \n",
              "0439884764                                      Kathryn Lasky            4.25   \n",
              "0789488779             Jennifer Quasha-Deni Brown-Dawn Sirett            4.05   \n",
              "0765344955                                   Orson Scott Card            4.49   \n",
              "0618037667                                     J.R.R. Tolkien            4.49   \n",
              "0590598872                                      Ann M. Martin            3.85   \n",
              "0812575601                                     Terry Goodkind            4.29   \n",
              "0701125594  Marcel Proust-C.K. Scott Moncrieff-Frederick A...            4.34   \n",
              "0345340442                                      David Eddings            4.27   \n",
              "0439434866                         J.K. Rowling-Mary GrandPré            4.67   \n",
              "\n",
              "           language_code  num_pages  ratings_count  text_reviews_count  \n",
              "isbn                                                                    \n",
              "0439682584           eng       2690          38872                 154  \n",
              "0345538374           eng       1728          97731                1536  \n",
              "0553609416           eng       2088          95486                1449  \n",
              "0439884764           eng        865            595                  31  \n",
              "0789488779           eng         36             22                   2  \n",
              "0765344955         en-US       1296           1755                  60  \n",
              "0618037667           eng       1472            118                   5  \n",
              "0590598872         en-US          0           5241                  96  \n",
              "0812575601         en-US       2480           4110                  81  \n",
              "0701125594           eng       3400              6                   1  \n",
              "0345340442           eng       1635          13225                 232  \n",
              "0439434866           eng       1820            534                   6  "
            ]
          },
          "metadata": {
            "tags": []
          },
          "execution_count": 29
        }
      ]
    },
    {
      "cell_type": "markdown",
      "metadata": {
        "id": "ogfPSzr3UYRV",
        "colab_type": "text"
      },
      "source": [
        "First, Find out a way to add the box set sells into the individule book sells"
      ]
    },
    {
      "cell_type": "code",
      "metadata": {
        "id": "ilfbqC1yUYRV",
        "colab_type": "code",
        "colab": {},
        "outputId": "d670a2a4-780f-40fd-9b27-492ce27bced5"
      },
      "source": [
        "# find out the key words stands for series sells.-- try keyword 'Set'\n",
        "temp[temp['title'].str.contains(pat = \"Set\")]"
      ],
      "execution_count": 0,
      "outputs": [
        {
          "output_type": "execute_result",
          "data": {
            "text/html": [
              "<div>\n",
              "<style scoped>\n",
              "    .dataframe tbody tr th:only-of-type {\n",
              "        vertical-align: middle;\n",
              "    }\n",
              "\n",
              "    .dataframe tbody tr th {\n",
              "        vertical-align: top;\n",
              "    }\n",
              "\n",
              "    .dataframe thead th {\n",
              "        text-align: right;\n",
              "    }\n",
              "</style>\n",
              "<table border=\"1\" class=\"dataframe\">\n",
              "  <thead>\n",
              "    <tr style=\"text-align: right;\">\n",
              "      <th></th>\n",
              "      <th>title</th>\n",
              "      <th>authors</th>\n",
              "      <th>average_rating</th>\n",
              "      <th>language_code</th>\n",
              "      <th>num_pages</th>\n",
              "      <th>ratings_count</th>\n",
              "      <th>text_reviews_count</th>\n",
              "    </tr>\n",
              "    <tr>\n",
              "      <th>isbn</th>\n",
              "      <th></th>\n",
              "      <th></th>\n",
              "      <th></th>\n",
              "      <th></th>\n",
              "      <th></th>\n",
              "      <th></th>\n",
              "      <th></th>\n",
              "    </tr>\n",
              "  </thead>\n",
              "  <tbody>\n",
              "    <tr>\n",
              "      <th>0439682584</th>\n",
              "      <td>Harry Potter Boxed Set  Books 1-5 (Harry Potte...</td>\n",
              "      <td>J.K. Rowling-Mary GrandPré</td>\n",
              "      <td>4.78</td>\n",
              "      <td>eng</td>\n",
              "      <td>2690</td>\n",
              "      <td>38872</td>\n",
              "      <td>154</td>\n",
              "    </tr>\n",
              "    <tr>\n",
              "      <th>0345538374</th>\n",
              "      <td>J.R.R. Tolkien 4-Book Boxed Set: The Hobbit an...</td>\n",
              "      <td>J.R.R. Tolkien</td>\n",
              "      <td>4.59</td>\n",
              "      <td>eng</td>\n",
              "      <td>1728</td>\n",
              "      <td>97731</td>\n",
              "      <td>1536</td>\n",
              "    </tr>\n",
              "    <tr>\n",
              "      <th>0618153977</th>\n",
              "      <td>The Lord of the Rings Box Set</td>\n",
              "      <td>J.R.R. Tolkien</td>\n",
              "      <td>4.49</td>\n",
              "      <td>eng</td>\n",
              "      <td>1223</td>\n",
              "      <td>216</td>\n",
              "      <td>19</td>\n",
              "    </tr>\n",
              "    <tr>\n",
              "      <th>043932162X</th>\n",
              "      <td>Harry Potter Schoolbooks Box Set: Two Classic ...</td>\n",
              "      <td>J.K. Rowling</td>\n",
              "      <td>4.40</td>\n",
              "      <td>eng</td>\n",
              "      <td>240</td>\n",
              "      <td>11459</td>\n",
              "      <td>143</td>\n",
              "    </tr>\n",
              "    <tr>\n",
              "      <th>0553609416</th>\n",
              "      <td>The Complete Anne of Green Gables Boxed Set (A...</td>\n",
              "      <td>L.M. Montgomery</td>\n",
              "      <td>4.43</td>\n",
              "      <td>eng</td>\n",
              "      <td>2088</td>\n",
              "      <td>95486</td>\n",
              "      <td>1449</td>\n",
              "    </tr>\n",
              "    <tr>\n",
              "      <th>0345417984</th>\n",
              "      <td>Setting Free the Bears</td>\n",
              "      <td>John Irving</td>\n",
              "      <td>3.30</td>\n",
              "      <td>eng</td>\n",
              "      <td>304</td>\n",
              "      <td>8680</td>\n",
              "      <td>205</td>\n",
              "    </tr>\n",
              "    <tr>\n",
              "      <th>0439884764</th>\n",
              "      <td>Guardians of Ga'hoole Boxed Set (Guardians of ...</td>\n",
              "      <td>Kathryn Lasky</td>\n",
              "      <td>4.25</td>\n",
              "      <td>eng</td>\n",
              "      <td>865</td>\n",
              "      <td>595</td>\n",
              "      <td>31</td>\n",
              "    </tr>\n",
              "    <tr>\n",
              "      <th>0517146541</th>\n",
              "      <td>Setting Free the Bears / The Water-Method Man ...</td>\n",
              "      <td>John Irving</td>\n",
              "      <td>3.82</td>\n",
              "      <td>eng</td>\n",
              "      <td>718</td>\n",
              "      <td>296</td>\n",
              "      <td>7</td>\n",
              "    </tr>\n",
              "    <tr>\n",
              "      <th>0440360374</th>\n",
              "      <td>The Time Quartet Box Set (Time Quartet  #1-4)</td>\n",
              "      <td>Madeleine L'Engle-Peter Sís</td>\n",
              "      <td>4.35</td>\n",
              "      <td>eng</td>\n",
              "      <td>750</td>\n",
              "      <td>10728</td>\n",
              "      <td>168</td>\n",
              "    </tr>\n",
              "    <tr>\n",
              "      <th>0789488779</th>\n",
              "      <td>Touch &amp; Feel: Animals Boxed Set</td>\n",
              "      <td>Jennifer Quasha-Deni Brown-Dawn Sirett</td>\n",
              "      <td>4.05</td>\n",
              "      <td>eng</td>\n",
              "      <td>36</td>\n",
              "      <td>22</td>\n",
              "      <td>2</td>\n",
              "    </tr>\n",
              "    <tr>\n",
              "      <th>0765344955</th>\n",
              "      <td>Ender's Game Boxed Set: Ender's Game  Ender's ...</td>\n",
              "      <td>Orson Scott Card</td>\n",
              "      <td>4.49</td>\n",
              "      <td>en-US</td>\n",
              "      <td>1296</td>\n",
              "      <td>1755</td>\n",
              "      <td>60</td>\n",
              "    </tr>\n",
              "    <tr>\n",
              "      <th>0694524751</th>\n",
              "      <td>The Chronicles of Narnia CD Box Set</td>\n",
              "      <td>C.S. Lewis-Kenneth Branagh</td>\n",
              "      <td>4.26</td>\n",
              "      <td>eng</td>\n",
              "      <td>31</td>\n",
              "      <td>198</td>\n",
              "      <td>24</td>\n",
              "    </tr>\n",
              "    <tr>\n",
              "      <th>009928555X</th>\n",
              "      <td>Set This House On Fire</td>\n",
              "      <td>William Styron</td>\n",
              "      <td>3.70</td>\n",
              "      <td>eng</td>\n",
              "      <td>567</td>\n",
              "      <td>551</td>\n",
              "      <td>31</td>\n",
              "    </tr>\n",
              "    <tr>\n",
              "      <th>1885972105</th>\n",
              "      <td>Uncle Setnakt's Essential Guide to the Left Ha...</td>\n",
              "      <td>Don Webb</td>\n",
              "      <td>4.36</td>\n",
              "      <td>eng</td>\n",
              "      <td>128</td>\n",
              "      <td>106</td>\n",
              "      <td>8</td>\n",
              "    </tr>\n",
              "    <tr>\n",
              "      <th>0586066888</th>\n",
              "      <td>A Darkness At Sethanon (The Riftwar Saga  #4)</td>\n",
              "      <td>Raymond E. Feist</td>\n",
              "      <td>4.19</td>\n",
              "      <td>en-GB</td>\n",
              "      <td>527</td>\n",
              "      <td>49946</td>\n",
              "      <td>421</td>\n",
              "    </tr>\n",
              "    <tr>\n",
              "      <th>0618042202</th>\n",
              "      <td>The Ring Sets Out (The Lord of the Rings  #1)</td>\n",
              "      <td>J.R.R. Tolkien</td>\n",
              "      <td>4.31</td>\n",
              "      <td>eng</td>\n",
              "      <td>283</td>\n",
              "      <td>992</td>\n",
              "      <td>34</td>\n",
              "    </tr>\n",
              "    <tr>\n",
              "      <th>0618037667</th>\n",
              "      <td>The Lord of the Rings Millennium Edition Boxed...</td>\n",
              "      <td>J.R.R. Tolkien</td>\n",
              "      <td>4.49</td>\n",
              "      <td>eng</td>\n",
              "      <td>1472</td>\n",
              "      <td>118</td>\n",
              "      <td>5</td>\n",
              "    </tr>\n",
              "    <tr>\n",
              "      <th>0373250479</th>\n",
              "      <td>Slightly Settled (Slightly  #2)</td>\n",
              "      <td>Wendy Markham</td>\n",
              "      <td>3.66</td>\n",
              "      <td>en-US</td>\n",
              "      <td>312</td>\n",
              "      <td>4601</td>\n",
              "      <td>82</td>\n",
              "    </tr>\n",
              "    <tr>\n",
              "      <th>0439994799</th>\n",
              "      <td>His Dark Materials Gift Set: \"Northern Lights\"...</td>\n",
              "      <td>Philip Pullman</td>\n",
              "      <td>4.26</td>\n",
              "      <td>en-GB</td>\n",
              "      <td>1296</td>\n",
              "      <td>304</td>\n",
              "      <td>2</td>\n",
              "    </tr>\n",
              "    <tr>\n",
              "      <th>0470055545</th>\n",
              "      <td>Fundamentals of Heat and Mass Transfer [with I...</td>\n",
              "      <td>Frank P. Incropera-David P. DeWitt</td>\n",
              "      <td>4.00</td>\n",
              "      <td>en-US</td>\n",
              "      <td>997</td>\n",
              "      <td>6</td>\n",
              "      <td>0</td>\n",
              "    </tr>\n",
              "    <tr>\n",
              "      <th>0465045855</th>\n",
              "      <td>The Truth Will Set You Free: Overcoming Emotio...</td>\n",
              "      <td>Alice  Miller-Andrew Edwin Jenkins</td>\n",
              "      <td>4.07</td>\n",
              "      <td>eng</td>\n",
              "      <td>224</td>\n",
              "      <td>474</td>\n",
              "      <td>31</td>\n",
              "    </tr>\n",
              "    <tr>\n",
              "      <th>067077605X</th>\n",
              "      <td>Desperation / The Regulators: Box Set</td>\n",
              "      <td>Stephen King-Richard Bachman</td>\n",
              "      <td>4.06</td>\n",
              "      <td>eng</td>\n",
              "      <td>1075</td>\n",
              "      <td>3096</td>\n",
              "      <td>66</td>\n",
              "    </tr>\n",
              "    <tr>\n",
              "      <th>0448416735</th>\n",
              "      <td>Nancy Drew: #1-6 [Box Set]</td>\n",
              "      <td>Carolyn Keene</td>\n",
              "      <td>4.25</td>\n",
              "      <td>eng</td>\n",
              "      <td>0</td>\n",
              "      <td>2579</td>\n",
              "      <td>89</td>\n",
              "    </tr>\n",
              "    <tr>\n",
              "      <th>0590598872</th>\n",
              "      <td>Baby-Sitters Club Boxed Set #1 (The Baby-Sitte...</td>\n",
              "      <td>Ann M. Martin</td>\n",
              "      <td>3.85</td>\n",
              "      <td>en-US</td>\n",
              "      <td>0</td>\n",
              "      <td>5241</td>\n",
              "      <td>96</td>\n",
              "    </tr>\n",
              "    <tr>\n",
              "      <th>0446190721</th>\n",
              "      <td>Carl Hiaasen's South Florida Three Book Set</td>\n",
              "      <td>Carl Hiaasen</td>\n",
              "      <td>4.29</td>\n",
              "      <td>eng</td>\n",
              "      <td>1584</td>\n",
              "      <td>58</td>\n",
              "      <td>4</td>\n",
              "    </tr>\n",
              "    <tr>\n",
              "      <th>0883683237</th>\n",
              "      <td>He Came to Set the Captives Free</td>\n",
              "      <td>Rebecca  Brown</td>\n",
              "      <td>4.09</td>\n",
              "      <td>en-US</td>\n",
              "      <td>288</td>\n",
              "      <td>1523</td>\n",
              "      <td>159</td>\n",
              "    </tr>\n",
              "    <tr>\n",
              "      <th>1400049059</th>\n",
              "      <td>The Onion Platinum Prestige Encore Gold Premiu...</td>\n",
              "      <td>The Onion</td>\n",
              "      <td>4.49</td>\n",
              "      <td>eng</td>\n",
              "      <td>503</td>\n",
              "      <td>39</td>\n",
              "      <td>2</td>\n",
              "    </tr>\n",
              "    <tr>\n",
              "      <th>0142407925</th>\n",
              "      <td>The BFG: A Set of Plays</td>\n",
              "      <td>Roald Dahl-David Wood</td>\n",
              "      <td>4.26</td>\n",
              "      <td>eng</td>\n",
              "      <td>128</td>\n",
              "      <td>452</td>\n",
              "      <td>44</td>\n",
              "    </tr>\n",
              "    <tr>\n",
              "      <th>0380620006</th>\n",
              "      <td>The Boy Who Turned Into a TV Set</td>\n",
              "      <td>Stephen Manes-Michael  Bass</td>\n",
              "      <td>4.00</td>\n",
              "      <td>eng</td>\n",
              "      <td>10</td>\n",
              "      <td>8</td>\n",
              "      <td>3</td>\n",
              "    </tr>\n",
              "    <tr>\n",
              "      <th>1598530011</th>\n",
              "      <td>Writings and Selected Narratives of the Explor...</td>\n",
              "      <td>John  Smith</td>\n",
              "      <td>3.38</td>\n",
              "      <td>en-US</td>\n",
              "      <td>1327</td>\n",
              "      <td>26</td>\n",
              "      <td>3</td>\n",
              "    </tr>\n",
              "    <tr>\n",
              "      <th>1401202454</th>\n",
              "      <td>Hellblazer: Setting Sun</td>\n",
              "      <td>Warren Ellis-Frank Teran-Tim Bradstreet-Javier...</td>\n",
              "      <td>4.19</td>\n",
              "      <td>en-GB</td>\n",
              "      <td>96</td>\n",
              "      <td>2505</td>\n",
              "      <td>34</td>\n",
              "    </tr>\n",
              "    <tr>\n",
              "      <th>0812575601</th>\n",
              "      <td>The Sword of Truth  Boxed Set I: Wizard's Firs...</td>\n",
              "      <td>Terry Goodkind</td>\n",
              "      <td>4.29</td>\n",
              "      <td>en-US</td>\n",
              "      <td>2480</td>\n",
              "      <td>4110</td>\n",
              "      <td>81</td>\n",
              "    </tr>\n",
              "    <tr>\n",
              "      <th>0701125594</th>\n",
              "      <td>Remembrance of Things Past (Boxed Set)</td>\n",
              "      <td>Marcel Proust-C.K. Scott Moncrieff-Frederick A...</td>\n",
              "      <td>4.34</td>\n",
              "      <td>eng</td>\n",
              "      <td>3400</td>\n",
              "      <td>6</td>\n",
              "      <td>1</td>\n",
              "    </tr>\n",
              "    <tr>\n",
              "      <th>0345340442</th>\n",
              "      <td>The Belgariad Boxed Set: Pawn of Prophecy / Qu...</td>\n",
              "      <td>David Eddings</td>\n",
              "      <td>4.27</td>\n",
              "      <td>eng</td>\n",
              "      <td>1635</td>\n",
              "      <td>13225</td>\n",
              "      <td>232</td>\n",
              "    </tr>\n",
              "    <tr>\n",
              "      <th>0439434866</th>\n",
              "      <td>Harry Potter Boxed Set (Harry Potter  #1-4)</td>\n",
              "      <td>J.K. Rowling-Mary GrandPré</td>\n",
              "      <td>4.67</td>\n",
              "      <td>eng</td>\n",
              "      <td>1820</td>\n",
              "      <td>534</td>\n",
              "      <td>6</td>\n",
              "    </tr>\n",
              "    <tr>\n",
              "      <th>0060734191</th>\n",
              "      <td>The Abhorsen Trilogy Box Set (Abhorsen  #1-3)</td>\n",
              "      <td>Garth Nix</td>\n",
              "      <td>4.53</td>\n",
              "      <td>eng</td>\n",
              "      <td>850</td>\n",
              "      <td>7626</td>\n",
              "      <td>192</td>\n",
              "    </tr>\n",
              "  </tbody>\n",
              "</table>\n",
              "</div>"
            ],
            "text/plain": [
              "                                                        title  \\\n",
              "isbn                                                            \n",
              "0439682584  Harry Potter Boxed Set  Books 1-5 (Harry Potte...   \n",
              "0345538374  J.R.R. Tolkien 4-Book Boxed Set: The Hobbit an...   \n",
              "0618153977                      The Lord of the Rings Box Set   \n",
              "043932162X  Harry Potter Schoolbooks Box Set: Two Classic ...   \n",
              "0553609416  The Complete Anne of Green Gables Boxed Set (A...   \n",
              "0345417984                             Setting Free the Bears   \n",
              "0439884764  Guardians of Ga'hoole Boxed Set (Guardians of ...   \n",
              "0517146541  Setting Free the Bears / The Water-Method Man ...   \n",
              "0440360374      The Time Quartet Box Set (Time Quartet  #1-4)   \n",
              "0789488779                    Touch & Feel: Animals Boxed Set   \n",
              "0765344955  Ender's Game Boxed Set: Ender's Game  Ender's ...   \n",
              "0694524751                The Chronicles of Narnia CD Box Set   \n",
              "009928555X                             Set This House On Fire   \n",
              "1885972105  Uncle Setnakt's Essential Guide to the Left Ha...   \n",
              "0586066888      A Darkness At Sethanon (The Riftwar Saga  #4)   \n",
              "0618042202      The Ring Sets Out (The Lord of the Rings  #1)   \n",
              "0618037667  The Lord of the Rings Millennium Edition Boxed...   \n",
              "0373250479                    Slightly Settled (Slightly  #2)   \n",
              "0439994799  His Dark Materials Gift Set: \"Northern Lights\"...   \n",
              "0470055545  Fundamentals of Heat and Mass Transfer [with I...   \n",
              "0465045855  The Truth Will Set You Free: Overcoming Emotio...   \n",
              "067077605X              Desperation / The Regulators: Box Set   \n",
              "0448416735                         Nancy Drew: #1-6 [Box Set]   \n",
              "0590598872  Baby-Sitters Club Boxed Set #1 (The Baby-Sitte...   \n",
              "0446190721        Carl Hiaasen's South Florida Three Book Set   \n",
              "0883683237                   He Came to Set the Captives Free   \n",
              "1400049059  The Onion Platinum Prestige Encore Gold Premiu...   \n",
              "0142407925                            The BFG: A Set of Plays   \n",
              "0380620006                   The Boy Who Turned Into a TV Set   \n",
              "1598530011  Writings and Selected Narratives of the Explor...   \n",
              "1401202454                            Hellblazer: Setting Sun   \n",
              "0812575601  The Sword of Truth  Boxed Set I: Wizard's Firs...   \n",
              "0701125594             Remembrance of Things Past (Boxed Set)   \n",
              "0345340442  The Belgariad Boxed Set: Pawn of Prophecy / Qu...   \n",
              "0439434866        Harry Potter Boxed Set (Harry Potter  #1-4)   \n",
              "0060734191      The Abhorsen Trilogy Box Set (Abhorsen  #1-3)   \n",
              "\n",
              "                                                      authors  average_rating  \\\n",
              "isbn                                                                            \n",
              "0439682584                         J.K. Rowling-Mary GrandPré            4.78   \n",
              "0345538374                                     J.R.R. Tolkien            4.59   \n",
              "0618153977                                     J.R.R. Tolkien            4.49   \n",
              "043932162X                                       J.K. Rowling            4.40   \n",
              "0553609416                                    L.M. Montgomery            4.43   \n",
              "0345417984                                        John Irving            3.30   \n",
              "0439884764                                      Kathryn Lasky            4.25   \n",
              "0517146541                                        John Irving            3.82   \n",
              "0440360374                        Madeleine L'Engle-Peter Sís            4.35   \n",
              "0789488779             Jennifer Quasha-Deni Brown-Dawn Sirett            4.05   \n",
              "0765344955                                   Orson Scott Card            4.49   \n",
              "0694524751                         C.S. Lewis-Kenneth Branagh            4.26   \n",
              "009928555X                                     William Styron            3.70   \n",
              "1885972105                                           Don Webb            4.36   \n",
              "0586066888                                   Raymond E. Feist            4.19   \n",
              "0618042202                                     J.R.R. Tolkien            4.31   \n",
              "0618037667                                     J.R.R. Tolkien            4.49   \n",
              "0373250479                                      Wendy Markham            3.66   \n",
              "0439994799                                     Philip Pullman            4.26   \n",
              "0470055545                 Frank P. Incropera-David P. DeWitt            4.00   \n",
              "0465045855                 Alice  Miller-Andrew Edwin Jenkins            4.07   \n",
              "067077605X                       Stephen King-Richard Bachman            4.06   \n",
              "0448416735                                      Carolyn Keene            4.25   \n",
              "0590598872                                      Ann M. Martin            3.85   \n",
              "0446190721                                       Carl Hiaasen            4.29   \n",
              "0883683237                                     Rebecca  Brown            4.09   \n",
              "1400049059                                          The Onion            4.49   \n",
              "0142407925                              Roald Dahl-David Wood            4.26   \n",
              "0380620006                        Stephen Manes-Michael  Bass            4.00   \n",
              "1598530011                                        John  Smith            3.38   \n",
              "1401202454  Warren Ellis-Frank Teran-Tim Bradstreet-Javier...            4.19   \n",
              "0812575601                                     Terry Goodkind            4.29   \n",
              "0701125594  Marcel Proust-C.K. Scott Moncrieff-Frederick A...            4.34   \n",
              "0345340442                                      David Eddings            4.27   \n",
              "0439434866                         J.K. Rowling-Mary GrandPré            4.67   \n",
              "0060734191                                          Garth Nix            4.53   \n",
              "\n",
              "           language_code  num_pages  ratings_count  text_reviews_count  \n",
              "isbn                                                                    \n",
              "0439682584           eng       2690          38872                 154  \n",
              "0345538374           eng       1728          97731                1536  \n",
              "0618153977           eng       1223            216                  19  \n",
              "043932162X           eng        240          11459                 143  \n",
              "0553609416           eng       2088          95486                1449  \n",
              "0345417984           eng        304           8680                 205  \n",
              "0439884764           eng        865            595                  31  \n",
              "0517146541           eng        718            296                   7  \n",
              "0440360374           eng        750          10728                 168  \n",
              "0789488779           eng         36             22                   2  \n",
              "0765344955         en-US       1296           1755                  60  \n",
              "0694524751           eng         31            198                  24  \n",
              "009928555X           eng        567            551                  31  \n",
              "1885972105           eng        128            106                   8  \n",
              "0586066888         en-GB        527          49946                 421  \n",
              "0618042202           eng        283            992                  34  \n",
              "0618037667           eng       1472            118                   5  \n",
              "0373250479         en-US        312           4601                  82  \n",
              "0439994799         en-GB       1296            304                   2  \n",
              "0470055545         en-US        997              6                   0  \n",
              "0465045855           eng        224            474                  31  \n",
              "067077605X           eng       1075           3096                  66  \n",
              "0448416735           eng          0           2579                  89  \n",
              "0590598872         en-US          0           5241                  96  \n",
              "0446190721           eng       1584             58                   4  \n",
              "0883683237         en-US        288           1523                 159  \n",
              "1400049059           eng        503             39                   2  \n",
              "0142407925           eng        128            452                  44  \n",
              "0380620006           eng         10              8                   3  \n",
              "1598530011         en-US       1327             26                   3  \n",
              "1401202454         en-GB         96           2505                  34  \n",
              "0812575601         en-US       2480           4110                  81  \n",
              "0701125594           eng       3400              6                   1  \n",
              "0345340442           eng       1635          13225                 232  \n",
              "0439434866           eng       1820            534                   6  \n",
              "0060734191           eng        850           7626                 192  "
            ]
          },
          "metadata": {
            "tags": []
          },
          "execution_count": 30
        }
      ]
    },
    {
      "cell_type": "code",
      "metadata": {
        "id": "ai2lZKIOUYRc",
        "colab_type": "code",
        "colab": {},
        "outputId": "0017d092-fb36-4b00-dafc-e98a63920f3d"
      },
      "source": [
        "# find out the key words stands for series sells.-- try keyword 'Boxed'\n",
        "temp[temp['title'].str.contains(pat = \"Boxed\")].index.isin(temp[temp['title'].str.contains(pat = \"Set\")].index)\n",
        "    # all 'Boxed' rows have been selected by 'Set' rows"
      ],
      "execution_count": 0,
      "outputs": [
        {
          "output_type": "execute_result",
          "data": {
            "text/plain": [
              "array([ True,  True,  True,  True,  True,  True,  True,  True,  True,\n",
              "        True,  True,  True])"
            ]
          },
          "metadata": {
            "tags": []
          },
          "execution_count": 31
        }
      ]
    },
    {
      "cell_type": "code",
      "metadata": {
        "id": "_it-IsmDUYRf",
        "colab_type": "code",
        "colab": {},
        "outputId": "745a4afe-302c-4630-c875-da9789596955"
      },
      "source": [
        "# let's see if 'Boxed' index = 'Boxed Set' index\n",
        "(temp[temp['title'].str.contains(pat = \"Boxed\")].index == temp[temp['title'].str.contains(pat = \"Boxed Set\")].index).sum()\n",
        "    # so yes."
      ],
      "execution_count": 0,
      "outputs": [
        {
          "output_type": "execute_result",
          "data": {
            "text/plain": [
              "12"
            ]
          },
          "metadata": {
            "tags": []
          },
          "execution_count": 32
        }
      ]
    },
    {
      "cell_type": "code",
      "metadata": {
        "id": "HmBG-DO_UYRi",
        "colab_type": "code",
        "colab": {},
        "outputId": "c435d80a-b591-48a0-8e95-fd9ce569998c"
      },
      "source": [
        "# according to analysis above, if boxed and set happen together, it is a series of book set:\n",
        "temp[temp['title'].str.contains(pat = \"Boxed Set\")]"
      ],
      "execution_count": 0,
      "outputs": [
        {
          "output_type": "execute_result",
          "data": {
            "text/html": [
              "<div>\n",
              "<style scoped>\n",
              "    .dataframe tbody tr th:only-of-type {\n",
              "        vertical-align: middle;\n",
              "    }\n",
              "\n",
              "    .dataframe tbody tr th {\n",
              "        vertical-align: top;\n",
              "    }\n",
              "\n",
              "    .dataframe thead th {\n",
              "        text-align: right;\n",
              "    }\n",
              "</style>\n",
              "<table border=\"1\" class=\"dataframe\">\n",
              "  <thead>\n",
              "    <tr style=\"text-align: right;\">\n",
              "      <th></th>\n",
              "      <th>title</th>\n",
              "      <th>authors</th>\n",
              "      <th>average_rating</th>\n",
              "      <th>language_code</th>\n",
              "      <th>num_pages</th>\n",
              "      <th>ratings_count</th>\n",
              "      <th>text_reviews_count</th>\n",
              "    </tr>\n",
              "    <tr>\n",
              "      <th>isbn</th>\n",
              "      <th></th>\n",
              "      <th></th>\n",
              "      <th></th>\n",
              "      <th></th>\n",
              "      <th></th>\n",
              "      <th></th>\n",
              "      <th></th>\n",
              "    </tr>\n",
              "  </thead>\n",
              "  <tbody>\n",
              "    <tr>\n",
              "      <th>0439682584</th>\n",
              "      <td>Harry Potter Boxed Set  Books 1-5 (Harry Potte...</td>\n",
              "      <td>J.K. Rowling-Mary GrandPré</td>\n",
              "      <td>4.78</td>\n",
              "      <td>eng</td>\n",
              "      <td>2690</td>\n",
              "      <td>38872</td>\n",
              "      <td>154</td>\n",
              "    </tr>\n",
              "    <tr>\n",
              "      <th>0345538374</th>\n",
              "      <td>J.R.R. Tolkien 4-Book Boxed Set: The Hobbit an...</td>\n",
              "      <td>J.R.R. Tolkien</td>\n",
              "      <td>4.59</td>\n",
              "      <td>eng</td>\n",
              "      <td>1728</td>\n",
              "      <td>97731</td>\n",
              "      <td>1536</td>\n",
              "    </tr>\n",
              "    <tr>\n",
              "      <th>0553609416</th>\n",
              "      <td>The Complete Anne of Green Gables Boxed Set (A...</td>\n",
              "      <td>L.M. Montgomery</td>\n",
              "      <td>4.43</td>\n",
              "      <td>eng</td>\n",
              "      <td>2088</td>\n",
              "      <td>95486</td>\n",
              "      <td>1449</td>\n",
              "    </tr>\n",
              "    <tr>\n",
              "      <th>0439884764</th>\n",
              "      <td>Guardians of Ga'hoole Boxed Set (Guardians of ...</td>\n",
              "      <td>Kathryn Lasky</td>\n",
              "      <td>4.25</td>\n",
              "      <td>eng</td>\n",
              "      <td>865</td>\n",
              "      <td>595</td>\n",
              "      <td>31</td>\n",
              "    </tr>\n",
              "    <tr>\n",
              "      <th>0789488779</th>\n",
              "      <td>Touch &amp; Feel: Animals Boxed Set</td>\n",
              "      <td>Jennifer Quasha-Deni Brown-Dawn Sirett</td>\n",
              "      <td>4.05</td>\n",
              "      <td>eng</td>\n",
              "      <td>36</td>\n",
              "      <td>22</td>\n",
              "      <td>2</td>\n",
              "    </tr>\n",
              "    <tr>\n",
              "      <th>0765344955</th>\n",
              "      <td>Ender's Game Boxed Set: Ender's Game  Ender's ...</td>\n",
              "      <td>Orson Scott Card</td>\n",
              "      <td>4.49</td>\n",
              "      <td>en-US</td>\n",
              "      <td>1296</td>\n",
              "      <td>1755</td>\n",
              "      <td>60</td>\n",
              "    </tr>\n",
              "    <tr>\n",
              "      <th>0618037667</th>\n",
              "      <td>The Lord of the Rings Millennium Edition Boxed...</td>\n",
              "      <td>J.R.R. Tolkien</td>\n",
              "      <td>4.49</td>\n",
              "      <td>eng</td>\n",
              "      <td>1472</td>\n",
              "      <td>118</td>\n",
              "      <td>5</td>\n",
              "    </tr>\n",
              "    <tr>\n",
              "      <th>0590598872</th>\n",
              "      <td>Baby-Sitters Club Boxed Set #1 (The Baby-Sitte...</td>\n",
              "      <td>Ann M. Martin</td>\n",
              "      <td>3.85</td>\n",
              "      <td>en-US</td>\n",
              "      <td>0</td>\n",
              "      <td>5241</td>\n",
              "      <td>96</td>\n",
              "    </tr>\n",
              "    <tr>\n",
              "      <th>0812575601</th>\n",
              "      <td>The Sword of Truth  Boxed Set I: Wizard's Firs...</td>\n",
              "      <td>Terry Goodkind</td>\n",
              "      <td>4.29</td>\n",
              "      <td>en-US</td>\n",
              "      <td>2480</td>\n",
              "      <td>4110</td>\n",
              "      <td>81</td>\n",
              "    </tr>\n",
              "    <tr>\n",
              "      <th>0701125594</th>\n",
              "      <td>Remembrance of Things Past (Boxed Set)</td>\n",
              "      <td>Marcel Proust-C.K. Scott Moncrieff-Frederick A...</td>\n",
              "      <td>4.34</td>\n",
              "      <td>eng</td>\n",
              "      <td>3400</td>\n",
              "      <td>6</td>\n",
              "      <td>1</td>\n",
              "    </tr>\n",
              "    <tr>\n",
              "      <th>0345340442</th>\n",
              "      <td>The Belgariad Boxed Set: Pawn of Prophecy / Qu...</td>\n",
              "      <td>David Eddings</td>\n",
              "      <td>4.27</td>\n",
              "      <td>eng</td>\n",
              "      <td>1635</td>\n",
              "      <td>13225</td>\n",
              "      <td>232</td>\n",
              "    </tr>\n",
              "    <tr>\n",
              "      <th>0439434866</th>\n",
              "      <td>Harry Potter Boxed Set (Harry Potter  #1-4)</td>\n",
              "      <td>J.K. Rowling-Mary GrandPré</td>\n",
              "      <td>4.67</td>\n",
              "      <td>eng</td>\n",
              "      <td>1820</td>\n",
              "      <td>534</td>\n",
              "      <td>6</td>\n",
              "    </tr>\n",
              "  </tbody>\n",
              "</table>\n",
              "</div>"
            ],
            "text/plain": [
              "                                                        title  \\\n",
              "isbn                                                            \n",
              "0439682584  Harry Potter Boxed Set  Books 1-5 (Harry Potte...   \n",
              "0345538374  J.R.R. Tolkien 4-Book Boxed Set: The Hobbit an...   \n",
              "0553609416  The Complete Anne of Green Gables Boxed Set (A...   \n",
              "0439884764  Guardians of Ga'hoole Boxed Set (Guardians of ...   \n",
              "0789488779                    Touch & Feel: Animals Boxed Set   \n",
              "0765344955  Ender's Game Boxed Set: Ender's Game  Ender's ...   \n",
              "0618037667  The Lord of the Rings Millennium Edition Boxed...   \n",
              "0590598872  Baby-Sitters Club Boxed Set #1 (The Baby-Sitte...   \n",
              "0812575601  The Sword of Truth  Boxed Set I: Wizard's Firs...   \n",
              "0701125594             Remembrance of Things Past (Boxed Set)   \n",
              "0345340442  The Belgariad Boxed Set: Pawn of Prophecy / Qu...   \n",
              "0439434866        Harry Potter Boxed Set (Harry Potter  #1-4)   \n",
              "\n",
              "                                                      authors  average_rating  \\\n",
              "isbn                                                                            \n",
              "0439682584                         J.K. Rowling-Mary GrandPré            4.78   \n",
              "0345538374                                     J.R.R. Tolkien            4.59   \n",
              "0553609416                                    L.M. Montgomery            4.43   \n",
              "0439884764                                      Kathryn Lasky            4.25   \n",
              "0789488779             Jennifer Quasha-Deni Brown-Dawn Sirett            4.05   \n",
              "0765344955                                   Orson Scott Card            4.49   \n",
              "0618037667                                     J.R.R. Tolkien            4.49   \n",
              "0590598872                                      Ann M. Martin            3.85   \n",
              "0812575601                                     Terry Goodkind            4.29   \n",
              "0701125594  Marcel Proust-C.K. Scott Moncrieff-Frederick A...            4.34   \n",
              "0345340442                                      David Eddings            4.27   \n",
              "0439434866                         J.K. Rowling-Mary GrandPré            4.67   \n",
              "\n",
              "           language_code  num_pages  ratings_count  text_reviews_count  \n",
              "isbn                                                                    \n",
              "0439682584           eng       2690          38872                 154  \n",
              "0345538374           eng       1728          97731                1536  \n",
              "0553609416           eng       2088          95486                1449  \n",
              "0439884764           eng        865            595                  31  \n",
              "0789488779           eng         36             22                   2  \n",
              "0765344955         en-US       1296           1755                  60  \n",
              "0618037667           eng       1472            118                   5  \n",
              "0590598872         en-US          0           5241                  96  \n",
              "0812575601         en-US       2480           4110                  81  \n",
              "0701125594           eng       3400              6                   1  \n",
              "0345340442           eng       1635          13225                 232  \n",
              "0439434866           eng       1820            534                   6  "
            ]
          },
          "metadata": {
            "tags": []
          },
          "execution_count": 33
        }
      ]
    },
    {
      "cell_type": "code",
      "metadata": {
        "id": "KekAaSn5UYRk",
        "colab_type": "code",
        "colab": {}
      },
      "source": [
        "x = temp[temp['title'].str.contains(pat = \"Set\")]\n",
        "y = temp[temp['title'].str.contains(pat = \"Boxed\")]\n",
        "sign = pd.Series(x.index.isin(y.index)).values"
      ],
      "execution_count": 0,
      "outputs": []
    },
    {
      "cell_type": "code",
      "metadata": {
        "id": "zGjSNFycUYRl",
        "colab_type": "code",
        "colab": {},
        "outputId": "26f63501-9c54-4739-d30c-2a851c817471"
      },
      "source": [
        "x[sign == False] # well it's not too much so let take a look. (36 - 12 = 24)\n",
        "   \n",
        "    # the other possible way stands for a series of books include: 'Box Set', 'Book Set'"
      ],
      "execution_count": 0,
      "outputs": [
        {
          "output_type": "execute_result",
          "data": {
            "text/html": [
              "<div>\n",
              "<style scoped>\n",
              "    .dataframe tbody tr th:only-of-type {\n",
              "        vertical-align: middle;\n",
              "    }\n",
              "\n",
              "    .dataframe tbody tr th {\n",
              "        vertical-align: top;\n",
              "    }\n",
              "\n",
              "    .dataframe thead th {\n",
              "        text-align: right;\n",
              "    }\n",
              "</style>\n",
              "<table border=\"1\" class=\"dataframe\">\n",
              "  <thead>\n",
              "    <tr style=\"text-align: right;\">\n",
              "      <th></th>\n",
              "      <th>title</th>\n",
              "      <th>authors</th>\n",
              "      <th>average_rating</th>\n",
              "      <th>language_code</th>\n",
              "      <th>num_pages</th>\n",
              "      <th>ratings_count</th>\n",
              "      <th>text_reviews_count</th>\n",
              "    </tr>\n",
              "    <tr>\n",
              "      <th>isbn</th>\n",
              "      <th></th>\n",
              "      <th></th>\n",
              "      <th></th>\n",
              "      <th></th>\n",
              "      <th></th>\n",
              "      <th></th>\n",
              "      <th></th>\n",
              "    </tr>\n",
              "  </thead>\n",
              "  <tbody>\n",
              "    <tr>\n",
              "      <th>0618153977</th>\n",
              "      <td>The Lord of the Rings Box Set</td>\n",
              "      <td>J.R.R. Tolkien</td>\n",
              "      <td>4.49</td>\n",
              "      <td>eng</td>\n",
              "      <td>1223</td>\n",
              "      <td>216</td>\n",
              "      <td>19</td>\n",
              "    </tr>\n",
              "    <tr>\n",
              "      <th>043932162X</th>\n",
              "      <td>Harry Potter Schoolbooks Box Set: Two Classic ...</td>\n",
              "      <td>J.K. Rowling</td>\n",
              "      <td>4.40</td>\n",
              "      <td>eng</td>\n",
              "      <td>240</td>\n",
              "      <td>11459</td>\n",
              "      <td>143</td>\n",
              "    </tr>\n",
              "    <tr>\n",
              "      <th>0345417984</th>\n",
              "      <td>Setting Free the Bears</td>\n",
              "      <td>John Irving</td>\n",
              "      <td>3.30</td>\n",
              "      <td>eng</td>\n",
              "      <td>304</td>\n",
              "      <td>8680</td>\n",
              "      <td>205</td>\n",
              "    </tr>\n",
              "    <tr>\n",
              "      <th>0517146541</th>\n",
              "      <td>Setting Free the Bears / The Water-Method Man ...</td>\n",
              "      <td>John Irving</td>\n",
              "      <td>3.82</td>\n",
              "      <td>eng</td>\n",
              "      <td>718</td>\n",
              "      <td>296</td>\n",
              "      <td>7</td>\n",
              "    </tr>\n",
              "    <tr>\n",
              "      <th>0440360374</th>\n",
              "      <td>The Time Quartet Box Set (Time Quartet  #1-4)</td>\n",
              "      <td>Madeleine L'Engle-Peter Sís</td>\n",
              "      <td>4.35</td>\n",
              "      <td>eng</td>\n",
              "      <td>750</td>\n",
              "      <td>10728</td>\n",
              "      <td>168</td>\n",
              "    </tr>\n",
              "    <tr>\n",
              "      <th>0694524751</th>\n",
              "      <td>The Chronicles of Narnia CD Box Set</td>\n",
              "      <td>C.S. Lewis-Kenneth Branagh</td>\n",
              "      <td>4.26</td>\n",
              "      <td>eng</td>\n",
              "      <td>31</td>\n",
              "      <td>198</td>\n",
              "      <td>24</td>\n",
              "    </tr>\n",
              "    <tr>\n",
              "      <th>009928555X</th>\n",
              "      <td>Set This House On Fire</td>\n",
              "      <td>William Styron</td>\n",
              "      <td>3.70</td>\n",
              "      <td>eng</td>\n",
              "      <td>567</td>\n",
              "      <td>551</td>\n",
              "      <td>31</td>\n",
              "    </tr>\n",
              "    <tr>\n",
              "      <th>1885972105</th>\n",
              "      <td>Uncle Setnakt's Essential Guide to the Left Ha...</td>\n",
              "      <td>Don Webb</td>\n",
              "      <td>4.36</td>\n",
              "      <td>eng</td>\n",
              "      <td>128</td>\n",
              "      <td>106</td>\n",
              "      <td>8</td>\n",
              "    </tr>\n",
              "    <tr>\n",
              "      <th>0586066888</th>\n",
              "      <td>A Darkness At Sethanon (The Riftwar Saga  #4)</td>\n",
              "      <td>Raymond E. Feist</td>\n",
              "      <td>4.19</td>\n",
              "      <td>en-GB</td>\n",
              "      <td>527</td>\n",
              "      <td>49946</td>\n",
              "      <td>421</td>\n",
              "    </tr>\n",
              "    <tr>\n",
              "      <th>0618042202</th>\n",
              "      <td>The Ring Sets Out (The Lord of the Rings  #1)</td>\n",
              "      <td>J.R.R. Tolkien</td>\n",
              "      <td>4.31</td>\n",
              "      <td>eng</td>\n",
              "      <td>283</td>\n",
              "      <td>992</td>\n",
              "      <td>34</td>\n",
              "    </tr>\n",
              "    <tr>\n",
              "      <th>0373250479</th>\n",
              "      <td>Slightly Settled (Slightly  #2)</td>\n",
              "      <td>Wendy Markham</td>\n",
              "      <td>3.66</td>\n",
              "      <td>en-US</td>\n",
              "      <td>312</td>\n",
              "      <td>4601</td>\n",
              "      <td>82</td>\n",
              "    </tr>\n",
              "    <tr>\n",
              "      <th>0439994799</th>\n",
              "      <td>His Dark Materials Gift Set: \"Northern Lights\"...</td>\n",
              "      <td>Philip Pullman</td>\n",
              "      <td>4.26</td>\n",
              "      <td>en-GB</td>\n",
              "      <td>1296</td>\n",
              "      <td>304</td>\n",
              "      <td>2</td>\n",
              "    </tr>\n",
              "    <tr>\n",
              "      <th>0470055545</th>\n",
              "      <td>Fundamentals of Heat and Mass Transfer [with I...</td>\n",
              "      <td>Frank P. Incropera-David P. DeWitt</td>\n",
              "      <td>4.00</td>\n",
              "      <td>en-US</td>\n",
              "      <td>997</td>\n",
              "      <td>6</td>\n",
              "      <td>0</td>\n",
              "    </tr>\n",
              "    <tr>\n",
              "      <th>0465045855</th>\n",
              "      <td>The Truth Will Set You Free: Overcoming Emotio...</td>\n",
              "      <td>Alice  Miller-Andrew Edwin Jenkins</td>\n",
              "      <td>4.07</td>\n",
              "      <td>eng</td>\n",
              "      <td>224</td>\n",
              "      <td>474</td>\n",
              "      <td>31</td>\n",
              "    </tr>\n",
              "    <tr>\n",
              "      <th>067077605X</th>\n",
              "      <td>Desperation / The Regulators: Box Set</td>\n",
              "      <td>Stephen King-Richard Bachman</td>\n",
              "      <td>4.06</td>\n",
              "      <td>eng</td>\n",
              "      <td>1075</td>\n",
              "      <td>3096</td>\n",
              "      <td>66</td>\n",
              "    </tr>\n",
              "    <tr>\n",
              "      <th>0448416735</th>\n",
              "      <td>Nancy Drew: #1-6 [Box Set]</td>\n",
              "      <td>Carolyn Keene</td>\n",
              "      <td>4.25</td>\n",
              "      <td>eng</td>\n",
              "      <td>0</td>\n",
              "      <td>2579</td>\n",
              "      <td>89</td>\n",
              "    </tr>\n",
              "    <tr>\n",
              "      <th>0446190721</th>\n",
              "      <td>Carl Hiaasen's South Florida Three Book Set</td>\n",
              "      <td>Carl Hiaasen</td>\n",
              "      <td>4.29</td>\n",
              "      <td>eng</td>\n",
              "      <td>1584</td>\n",
              "      <td>58</td>\n",
              "      <td>4</td>\n",
              "    </tr>\n",
              "    <tr>\n",
              "      <th>0883683237</th>\n",
              "      <td>He Came to Set the Captives Free</td>\n",
              "      <td>Rebecca  Brown</td>\n",
              "      <td>4.09</td>\n",
              "      <td>en-US</td>\n",
              "      <td>288</td>\n",
              "      <td>1523</td>\n",
              "      <td>159</td>\n",
              "    </tr>\n",
              "    <tr>\n",
              "      <th>1400049059</th>\n",
              "      <td>The Onion Platinum Prestige Encore Gold Premiu...</td>\n",
              "      <td>The Onion</td>\n",
              "      <td>4.49</td>\n",
              "      <td>eng</td>\n",
              "      <td>503</td>\n",
              "      <td>39</td>\n",
              "      <td>2</td>\n",
              "    </tr>\n",
              "    <tr>\n",
              "      <th>0142407925</th>\n",
              "      <td>The BFG: A Set of Plays</td>\n",
              "      <td>Roald Dahl-David Wood</td>\n",
              "      <td>4.26</td>\n",
              "      <td>eng</td>\n",
              "      <td>128</td>\n",
              "      <td>452</td>\n",
              "      <td>44</td>\n",
              "    </tr>\n",
              "    <tr>\n",
              "      <th>0380620006</th>\n",
              "      <td>The Boy Who Turned Into a TV Set</td>\n",
              "      <td>Stephen Manes-Michael  Bass</td>\n",
              "      <td>4.00</td>\n",
              "      <td>eng</td>\n",
              "      <td>10</td>\n",
              "      <td>8</td>\n",
              "      <td>3</td>\n",
              "    </tr>\n",
              "    <tr>\n",
              "      <th>1598530011</th>\n",
              "      <td>Writings and Selected Narratives of the Explor...</td>\n",
              "      <td>John  Smith</td>\n",
              "      <td>3.38</td>\n",
              "      <td>en-US</td>\n",
              "      <td>1327</td>\n",
              "      <td>26</td>\n",
              "      <td>3</td>\n",
              "    </tr>\n",
              "    <tr>\n",
              "      <th>1401202454</th>\n",
              "      <td>Hellblazer: Setting Sun</td>\n",
              "      <td>Warren Ellis-Frank Teran-Tim Bradstreet-Javier...</td>\n",
              "      <td>4.19</td>\n",
              "      <td>en-GB</td>\n",
              "      <td>96</td>\n",
              "      <td>2505</td>\n",
              "      <td>34</td>\n",
              "    </tr>\n",
              "    <tr>\n",
              "      <th>0060734191</th>\n",
              "      <td>The Abhorsen Trilogy Box Set (Abhorsen  #1-3)</td>\n",
              "      <td>Garth Nix</td>\n",
              "      <td>4.53</td>\n",
              "      <td>eng</td>\n",
              "      <td>850</td>\n",
              "      <td>7626</td>\n",
              "      <td>192</td>\n",
              "    </tr>\n",
              "  </tbody>\n",
              "</table>\n",
              "</div>"
            ],
            "text/plain": [
              "                                                        title  \\\n",
              "isbn                                                            \n",
              "0618153977                      The Lord of the Rings Box Set   \n",
              "043932162X  Harry Potter Schoolbooks Box Set: Two Classic ...   \n",
              "0345417984                             Setting Free the Bears   \n",
              "0517146541  Setting Free the Bears / The Water-Method Man ...   \n",
              "0440360374      The Time Quartet Box Set (Time Quartet  #1-4)   \n",
              "0694524751                The Chronicles of Narnia CD Box Set   \n",
              "009928555X                             Set This House On Fire   \n",
              "1885972105  Uncle Setnakt's Essential Guide to the Left Ha...   \n",
              "0586066888      A Darkness At Sethanon (The Riftwar Saga  #4)   \n",
              "0618042202      The Ring Sets Out (The Lord of the Rings  #1)   \n",
              "0373250479                    Slightly Settled (Slightly  #2)   \n",
              "0439994799  His Dark Materials Gift Set: \"Northern Lights\"...   \n",
              "0470055545  Fundamentals of Heat and Mass Transfer [with I...   \n",
              "0465045855  The Truth Will Set You Free: Overcoming Emotio...   \n",
              "067077605X              Desperation / The Regulators: Box Set   \n",
              "0448416735                         Nancy Drew: #1-6 [Box Set]   \n",
              "0446190721        Carl Hiaasen's South Florida Three Book Set   \n",
              "0883683237                   He Came to Set the Captives Free   \n",
              "1400049059  The Onion Platinum Prestige Encore Gold Premiu...   \n",
              "0142407925                            The BFG: A Set of Plays   \n",
              "0380620006                   The Boy Who Turned Into a TV Set   \n",
              "1598530011  Writings and Selected Narratives of the Explor...   \n",
              "1401202454                            Hellblazer: Setting Sun   \n",
              "0060734191      The Abhorsen Trilogy Box Set (Abhorsen  #1-3)   \n",
              "\n",
              "                                                      authors  average_rating  \\\n",
              "isbn                                                                            \n",
              "0618153977                                     J.R.R. Tolkien            4.49   \n",
              "043932162X                                       J.K. Rowling            4.40   \n",
              "0345417984                                        John Irving            3.30   \n",
              "0517146541                                        John Irving            3.82   \n",
              "0440360374                        Madeleine L'Engle-Peter Sís            4.35   \n",
              "0694524751                         C.S. Lewis-Kenneth Branagh            4.26   \n",
              "009928555X                                     William Styron            3.70   \n",
              "1885972105                                           Don Webb            4.36   \n",
              "0586066888                                   Raymond E. Feist            4.19   \n",
              "0618042202                                     J.R.R. Tolkien            4.31   \n",
              "0373250479                                      Wendy Markham            3.66   \n",
              "0439994799                                     Philip Pullman            4.26   \n",
              "0470055545                 Frank P. Incropera-David P. DeWitt            4.00   \n",
              "0465045855                 Alice  Miller-Andrew Edwin Jenkins            4.07   \n",
              "067077605X                       Stephen King-Richard Bachman            4.06   \n",
              "0448416735                                      Carolyn Keene            4.25   \n",
              "0446190721                                       Carl Hiaasen            4.29   \n",
              "0883683237                                     Rebecca  Brown            4.09   \n",
              "1400049059                                          The Onion            4.49   \n",
              "0142407925                              Roald Dahl-David Wood            4.26   \n",
              "0380620006                        Stephen Manes-Michael  Bass            4.00   \n",
              "1598530011                                        John  Smith            3.38   \n",
              "1401202454  Warren Ellis-Frank Teran-Tim Bradstreet-Javier...            4.19   \n",
              "0060734191                                          Garth Nix            4.53   \n",
              "\n",
              "           language_code  num_pages  ratings_count  text_reviews_count  \n",
              "isbn                                                                    \n",
              "0618153977           eng       1223            216                  19  \n",
              "043932162X           eng        240          11459                 143  \n",
              "0345417984           eng        304           8680                 205  \n",
              "0517146541           eng        718            296                   7  \n",
              "0440360374           eng        750          10728                 168  \n",
              "0694524751           eng         31            198                  24  \n",
              "009928555X           eng        567            551                  31  \n",
              "1885972105           eng        128            106                   8  \n",
              "0586066888         en-GB        527          49946                 421  \n",
              "0618042202           eng        283            992                  34  \n",
              "0373250479         en-US        312           4601                  82  \n",
              "0439994799         en-GB       1296            304                   2  \n",
              "0470055545         en-US        997              6                   0  \n",
              "0465045855           eng        224            474                  31  \n",
              "067077605X           eng       1075           3096                  66  \n",
              "0448416735           eng          0           2579                  89  \n",
              "0446190721           eng       1584             58                   4  \n",
              "0883683237         en-US        288           1523                 159  \n",
              "1400049059           eng        503             39                   2  \n",
              "0142407925           eng        128            452                  44  \n",
              "0380620006           eng         10              8                   3  \n",
              "1598530011         en-US       1327             26                   3  \n",
              "1401202454         en-GB         96           2505                  34  \n",
              "0060734191           eng        850           7626                 192  "
            ]
          },
          "metadata": {
            "tags": []
          },
          "execution_count": 35
        }
      ]
    },
    {
      "cell_type": "code",
      "metadata": {
        "id": "ll5rCkXMUYRn",
        "colab_type": "code",
        "colab": {}
      },
      "source": [
        "# ok, so let's get this 'title --> series book' part a conclusion\n",
        "y1 = temp[temp['title'].str.contains(pat = \"Boxed\")].index\n",
        "y2 = y1.append(temp[temp['title'].str.contains(pat = \"Box Set\")].index)\n",
        "y3 = y2.append(temp[temp['title'].str.contains(pat = \"Book Set\")].index)\n",
        "y4 = y3.append(temp[temp['title'].str.contains(pat = \"Volumes\")].index)"
      ],
      "execution_count": 0,
      "outputs": []
    },
    {
      "cell_type": "code",
      "metadata": {
        "id": "rlQGnZfyUYRr",
        "colab_type": "code",
        "colab": {}
      },
      "source": [
        "z = temp[temp.index.isin(y4)] # this do the trick\n",
        "    # Here, z stands for all box set books."
      ],
      "execution_count": 0,
      "outputs": []
    },
    {
      "cell_type": "code",
      "metadata": {
        "id": "D6uMHnECUYRv",
        "colab_type": "code",
        "colab": {},
        "outputId": "10c4d2b3-c94e-4552-9647-300c436dc53d"
      },
      "source": [
        "z.shape # before y4, it is 21."
      ],
      "execution_count": 0,
      "outputs": [
        {
          "output_type": "execute_result",
          "data": {
            "text/plain": [
              "(25, 7)"
            ]
          },
          "metadata": {
            "tags": []
          },
          "execution_count": 155
        }
      ]
    },
    {
      "cell_type": "markdown",
      "metadata": {
        "id": "eKAt6YMBUYR0",
        "colab_type": "text"
      },
      "source": [
        "# Conclusion for EDA: in a way they are duplicates. \n",
        "# the key words are: 'Boxed', 'Box Set','Book Set', 'Volumes'"
      ]
    },
    {
      "cell_type": "markdown",
      "metadata": {
        "id": "qhUHk7JpUYR2",
        "colab_type": "text"
      },
      "source": [
        "# EDA -- if number of pages of the book affect the rating."
      ]
    },
    {
      "cell_type": "code",
      "metadata": {
        "id": "iSYm_ZeXUYR2",
        "colab_type": "code",
        "colab": {},
        "outputId": "f5da6ce3-5443-4659-cf0a-1895e548bfc0"
      },
      "source": [
        "temp = books"
      ],
      "execution_count": 0,
      "outputs": [
        {
          "output_type": "stream",
          "text": [
            "C:\\Users\\MIN-Mark\\.conda\\envs\\mark\\lib\\site-packages\\ipykernel_launcher.py:3: SettingWithCopyWarning: \n",
            "A value is trying to be set on a copy of a slice from a DataFrame.\n",
            "Try using .loc[row_indexer,col_indexer] = value instead\n",
            "\n",
            "See the caveats in the documentation: https://pandas.pydata.org/pandas-docs/stable/user_guide/indexing.html#returning-a-view-versus-a-copy\n",
            "  This is separate from the ipykernel package so we can avoid doing imports until\n"
          ],
          "name": "stderr"
        }
      ]
    },
    {
      "cell_type": "code",
      "metadata": {
        "id": "Fe_bMzfIUYR4",
        "colab_type": "code",
        "colab": {},
        "outputId": "d244a176-61f0-4bab-e095-7c99bc7d840e"
      },
      "source": [
        "# take a look\n",
        "temp[temp['num_pages'] == 0]\n",
        "    # This could be a problem because you can't bin it. short, mediate or long. "
      ],
      "execution_count": 0,
      "outputs": [
        {
          "output_type": "execute_result",
          "data": {
            "text/html": [
              "<div>\n",
              "<style scoped>\n",
              "    .dataframe tbody tr th:only-of-type {\n",
              "        vertical-align: middle;\n",
              "    }\n",
              "\n",
              "    .dataframe tbody tr th {\n",
              "        vertical-align: top;\n",
              "    }\n",
              "\n",
              "    .dataframe thead th {\n",
              "        text-align: right;\n",
              "    }\n",
              "</style>\n",
              "<table border=\"1\" class=\"dataframe\">\n",
              "  <thead>\n",
              "    <tr style=\"text-align: right;\">\n",
              "      <th></th>\n",
              "      <th>title</th>\n",
              "      <th>authors</th>\n",
              "      <th>average_rating</th>\n",
              "      <th>language_code</th>\n",
              "      <th>num_pages</th>\n",
              "      <th>ratings_count</th>\n",
              "      <th>text_reviews_count</th>\n",
              "    </tr>\n",
              "    <tr>\n",
              "      <th>isbn</th>\n",
              "      <th></th>\n",
              "      <th></th>\n",
              "      <th></th>\n",
              "      <th></th>\n",
              "      <th></th>\n",
              "      <th></th>\n",
              "      <th></th>\n",
              "    </tr>\n",
              "  </thead>\n",
              "  <tbody>\n",
              "    <tr>\n",
              "      <th>0802415318</th>\n",
              "      <td>The 5 Love Languages / The 5 Love Languages Jo...</td>\n",
              "      <td>Gary Chapman</td>\n",
              "      <td>4.71</td>\n",
              "      <td>eng</td>\n",
              "      <td>0</td>\n",
              "      <td>20</td>\n",
              "      <td>4</td>\n",
              "    </tr>\n",
              "    <tr>\n",
              "      <th>0736606378</th>\n",
              "      <td>The Clan of the Cave Bear  Part 1 of 2 (Earth'...</td>\n",
              "      <td>Jean M. Auel-Donada  Peters</td>\n",
              "      <td>4.43</td>\n",
              "      <td>eng</td>\n",
              "      <td>0</td>\n",
              "      <td>611</td>\n",
              "      <td>34</td>\n",
              "    </tr>\n",
              "    <tr>\n",
              "      <th>140015068X</th>\n",
              "      <td>The Tragedy of Pudd'nhead Wilson</td>\n",
              "      <td>Mark Twain-Michael Prichard</td>\n",
              "      <td>3.79</td>\n",
              "      <td>eng</td>\n",
              "      <td>0</td>\n",
              "      <td>3</td>\n",
              "      <td>0</td>\n",
              "    </tr>\n",
              "    <tr>\n",
              "      <th>0965903532</th>\n",
              "      <td>The Lady and the Unicorn</td>\n",
              "      <td>Tracy Chevalier</td>\n",
              "      <td>3.68</td>\n",
              "      <td>eng</td>\n",
              "      <td>0</td>\n",
              "      <td>303</td>\n",
              "      <td>24</td>\n",
              "    </tr>\n",
              "    <tr>\n",
              "      <th>0739339788</th>\n",
              "      <td>The Da Vinci Code (Robert Langdon  #2)</td>\n",
              "      <td>Dan Brown-Paul Michael</td>\n",
              "      <td>3.82</td>\n",
              "      <td>eng</td>\n",
              "      <td>0</td>\n",
              "      <td>90</td>\n",
              "      <td>16</td>\n",
              "    </tr>\n",
              "    <tr>\n",
              "      <th>...</th>\n",
              "      <td>...</td>\n",
              "      <td>...</td>\n",
              "      <td>...</td>\n",
              "      <td>...</td>\n",
              "      <td>...</td>\n",
              "      <td>...</td>\n",
              "      <td>...</td>\n",
              "    </tr>\n",
              "    <tr>\n",
              "      <th>0517164353</th>\n",
              "      <td>Fine Lines (One-Eyed Mack  #6)</td>\n",
              "      <td>Jim Lehrer</td>\n",
              "      <td>3.23</td>\n",
              "      <td>eng</td>\n",
              "      <td>0</td>\n",
              "      <td>17</td>\n",
              "      <td>3</td>\n",
              "    </tr>\n",
              "    <tr>\n",
              "      <th>0671046241</th>\n",
              "      <td>Stowaway and Milk Run: Two Unabridged Stories ...</td>\n",
              "      <td>Mary Higgins Clark-Jan Maxwell</td>\n",
              "      <td>3.40</td>\n",
              "      <td>eng</td>\n",
              "      <td>0</td>\n",
              "      <td>55</td>\n",
              "      <td>0</td>\n",
              "    </tr>\n",
              "    <tr>\n",
              "      <th>0449210847</th>\n",
              "      <td>The Mask of the Enchantress</td>\n",
              "      <td>Victoria Holt</td>\n",
              "      <td>3.84</td>\n",
              "      <td>eng</td>\n",
              "      <td>0</td>\n",
              "      <td>20</td>\n",
              "      <td>1</td>\n",
              "    </tr>\n",
              "    <tr>\n",
              "      <th>0739336509</th>\n",
              "      <td>Treasury of American Tall Tales: Volume 1: Dav...</td>\n",
              "      <td>David Bromberg-Jay Ungar-Molly Mason-Garrison ...</td>\n",
              "      <td>3.86</td>\n",
              "      <td>eng</td>\n",
              "      <td>0</td>\n",
              "      <td>36</td>\n",
              "      <td>9</td>\n",
              "    </tr>\n",
              "    <tr>\n",
              "      <th>0786113340</th>\n",
              "      <td>Appetite for Life: The Biography of Julia Child</td>\n",
              "      <td>Noël Riley Fitch-Nadia May</td>\n",
              "      <td>4.06</td>\n",
              "      <td>eng</td>\n",
              "      <td>0</td>\n",
              "      <td>37</td>\n",
              "      <td>5</td>\n",
              "    </tr>\n",
              "  </tbody>\n",
              "</table>\n",
              "<p>85 rows × 7 columns</p>\n",
              "</div>"
            ],
            "text/plain": [
              "                                                        title  \\\n",
              "isbn                                                            \n",
              "0802415318  The 5 Love Languages / The 5 Love Languages Jo...   \n",
              "0736606378  The Clan of the Cave Bear  Part 1 of 2 (Earth'...   \n",
              "140015068X                   The Tragedy of Pudd'nhead Wilson   \n",
              "0965903532                           The Lady and the Unicorn   \n",
              "0739339788             The Da Vinci Code (Robert Langdon  #2)   \n",
              "...                                                       ...   \n",
              "0517164353                     Fine Lines (One-Eyed Mack  #6)   \n",
              "0671046241  Stowaway and Milk Run: Two Unabridged Stories ...   \n",
              "0449210847                        The Mask of the Enchantress   \n",
              "0739336509  Treasury of American Tall Tales: Volume 1: Dav...   \n",
              "0786113340    Appetite for Life: The Biography of Julia Child   \n",
              "\n",
              "                                                      authors  average_rating  \\\n",
              "isbn                                                                            \n",
              "0802415318                                       Gary Chapman            4.71   \n",
              "0736606378                        Jean M. Auel-Donada  Peters            4.43   \n",
              "140015068X                        Mark Twain-Michael Prichard            3.79   \n",
              "0965903532                                    Tracy Chevalier            3.68   \n",
              "0739339788                             Dan Brown-Paul Michael            3.82   \n",
              "...                                                       ...             ...   \n",
              "0517164353                                         Jim Lehrer            3.23   \n",
              "0671046241                     Mary Higgins Clark-Jan Maxwell            3.40   \n",
              "0449210847                                      Victoria Holt            3.84   \n",
              "0739336509  David Bromberg-Jay Ungar-Molly Mason-Garrison ...            3.86   \n",
              "0786113340                         Noël Riley Fitch-Nadia May            4.06   \n",
              "\n",
              "           language_code  num_pages  ratings_count  text_reviews_count  \n",
              "isbn                                                                    \n",
              "0802415318           eng          0             20                   4  \n",
              "0736606378           eng          0            611                  34  \n",
              "140015068X           eng          0              3                   0  \n",
              "0965903532           eng          0            303                  24  \n",
              "0739339788           eng          0             90                  16  \n",
              "...                  ...        ...            ...                 ...  \n",
              "0517164353           eng          0             17                   3  \n",
              "0671046241           eng          0             55                   0  \n",
              "0449210847           eng          0             20                   1  \n",
              "0739336509           eng          0             36                   9  \n",
              "0786113340           eng          0             37                   5  \n",
              "\n",
              "[85 rows x 7 columns]"
            ]
          },
          "metadata": {
            "tags": []
          },
          "execution_count": 21
        }
      ]
    },
    {
      "cell_type": "code",
      "metadata": {
        "id": "4QvkV5uBUYR5",
        "colab_type": "code",
        "colab": {}
      },
      "source": [
        "# get rid of the series books\n",
        "temp_new = temp.drop(z.index) "
      ],
      "execution_count": 0,
      "outputs": []
    },
    {
      "cell_type": "code",
      "metadata": {
        "id": "g9jekB1WUYR7",
        "colab_type": "code",
        "colab": {}
      },
      "source": [
        "# get rid of the 0 pages books\n",
        "temp_new = temp_new[temp_new['num_pages'] != 0]"
      ],
      "execution_count": 0,
      "outputs": []
    },
    {
      "cell_type": "code",
      "metadata": {
        "id": "6W0z2Q3fUYR8",
        "colab_type": "code",
        "colab": {},
        "outputId": "379f6535-4451-4495-9b0c-479a92a3e72a"
      },
      "source": [
        "temp_new # ok, it's good"
      ],
      "execution_count": 0,
      "outputs": [
        {
          "output_type": "execute_result",
          "data": {
            "text/html": [
              "<div>\n",
              "<style scoped>\n",
              "    .dataframe tbody tr th:only-of-type {\n",
              "        vertical-align: middle;\n",
              "    }\n",
              "\n",
              "    .dataframe tbody tr th {\n",
              "        vertical-align: top;\n",
              "    }\n",
              "\n",
              "    .dataframe thead th {\n",
              "        text-align: right;\n",
              "    }\n",
              "</style>\n",
              "<table border=\"1\" class=\"dataframe\">\n",
              "  <thead>\n",
              "    <tr style=\"text-align: right;\">\n",
              "      <th></th>\n",
              "      <th>title</th>\n",
              "      <th>authors</th>\n",
              "      <th>average_rating</th>\n",
              "      <th>language_code</th>\n",
              "      <th>num_pages</th>\n",
              "      <th>ratings_count</th>\n",
              "      <th>text_reviews_count</th>\n",
              "    </tr>\n",
              "    <tr>\n",
              "      <th>isbn</th>\n",
              "      <th></th>\n",
              "      <th></th>\n",
              "      <th></th>\n",
              "      <th></th>\n",
              "      <th></th>\n",
              "      <th></th>\n",
              "      <th></th>\n",
              "    </tr>\n",
              "  </thead>\n",
              "  <tbody>\n",
              "    <tr>\n",
              "      <th>0439785960</th>\n",
              "      <td>Harry Potter and the Half-Blood Prince (Harry ...</td>\n",
              "      <td>J.K. Rowling-Mary GrandPré</td>\n",
              "      <td>4.56</td>\n",
              "      <td>eng</td>\n",
              "      <td>652</td>\n",
              "      <td>1944099</td>\n",
              "      <td>26249</td>\n",
              "    </tr>\n",
              "    <tr>\n",
              "      <th>0439358078</th>\n",
              "      <td>Harry Potter and the Order of the Phoenix (Har...</td>\n",
              "      <td>J.K. Rowling-Mary GrandPré</td>\n",
              "      <td>4.49</td>\n",
              "      <td>eng</td>\n",
              "      <td>870</td>\n",
              "      <td>1996446</td>\n",
              "      <td>27613</td>\n",
              "    </tr>\n",
              "    <tr>\n",
              "      <th>0439554934</th>\n",
              "      <td>Harry Potter and the Sorcerer's Stone (Harry P...</td>\n",
              "      <td>J.K. Rowling-Mary GrandPré</td>\n",
              "      <td>4.47</td>\n",
              "      <td>eng</td>\n",
              "      <td>320</td>\n",
              "      <td>5629932</td>\n",
              "      <td>70390</td>\n",
              "    </tr>\n",
              "    <tr>\n",
              "      <th>0439554896</th>\n",
              "      <td>Harry Potter and the Chamber of Secrets (Harry...</td>\n",
              "      <td>J.K. Rowling</td>\n",
              "      <td>4.41</td>\n",
              "      <td>eng</td>\n",
              "      <td>352</td>\n",
              "      <td>6267</td>\n",
              "      <td>272</td>\n",
              "    </tr>\n",
              "    <tr>\n",
              "      <th>043965548X</th>\n",
              "      <td>Harry Potter and the Prisoner of Azkaban (Harr...</td>\n",
              "      <td>J.K. Rowling-Mary GrandPré</td>\n",
              "      <td>4.55</td>\n",
              "      <td>eng</td>\n",
              "      <td>435</td>\n",
              "      <td>2149872</td>\n",
              "      <td>33964</td>\n",
              "    </tr>\n",
              "    <tr>\n",
              "      <th>...</th>\n",
              "      <td>...</td>\n",
              "      <td>...</td>\n",
              "      <td>...</td>\n",
              "      <td>...</td>\n",
              "      <td>...</td>\n",
              "      <td>...</td>\n",
              "      <td>...</td>\n",
              "    </tr>\n",
              "    <tr>\n",
              "      <th>0061186422</th>\n",
              "      <td>M Is for Magic</td>\n",
              "      <td>Neil Gaiman-Teddy Kristiansen</td>\n",
              "      <td>3.82</td>\n",
              "      <td>eng</td>\n",
              "      <td>260</td>\n",
              "      <td>11317</td>\n",
              "      <td>1060</td>\n",
              "    </tr>\n",
              "    <tr>\n",
              "      <th>0930289552</th>\n",
              "      <td>Black Orchid</td>\n",
              "      <td>Neil Gaiman-Dave McKean</td>\n",
              "      <td>3.72</td>\n",
              "      <td>eng</td>\n",
              "      <td>160</td>\n",
              "      <td>8710</td>\n",
              "      <td>361</td>\n",
              "    </tr>\n",
              "    <tr>\n",
              "      <th>0061238961</th>\n",
              "      <td>InterWorld (InterWorld  #1)</td>\n",
              "      <td>Neil Gaiman-Michael Reaves</td>\n",
              "      <td>3.53</td>\n",
              "      <td>en-US</td>\n",
              "      <td>239</td>\n",
              "      <td>14334</td>\n",
              "      <td>1485</td>\n",
              "    </tr>\n",
              "    <tr>\n",
              "      <th>0743201116</th>\n",
              "      <td>The Faeries' Oracle</td>\n",
              "      <td>Brian Froud-Jessica Macbeth</td>\n",
              "      <td>4.43</td>\n",
              "      <td>eng</td>\n",
              "      <td>224</td>\n",
              "      <td>1550</td>\n",
              "      <td>38</td>\n",
              "    </tr>\n",
              "    <tr>\n",
              "      <th>1862056242</th>\n",
              "      <td>The World of The Dark Crystal</td>\n",
              "      <td>Brian Froud</td>\n",
              "      <td>4.29</td>\n",
              "      <td>eng</td>\n",
              "      <td>132</td>\n",
              "      <td>3572</td>\n",
              "      <td>33</td>\n",
              "    </tr>\n",
              "  </tbody>\n",
              "</table>\n",
              "<p>13606 rows × 7 columns</p>\n",
              "</div>"
            ],
            "text/plain": [
              "                                                        title  \\\n",
              "isbn                                                            \n",
              "0439785960  Harry Potter and the Half-Blood Prince (Harry ...   \n",
              "0439358078  Harry Potter and the Order of the Phoenix (Har...   \n",
              "0439554934  Harry Potter and the Sorcerer's Stone (Harry P...   \n",
              "0439554896  Harry Potter and the Chamber of Secrets (Harry...   \n",
              "043965548X  Harry Potter and the Prisoner of Azkaban (Harr...   \n",
              "...                                                       ...   \n",
              "0061186422                                     M Is for Magic   \n",
              "0930289552                                       Black Orchid   \n",
              "0061238961                        InterWorld (InterWorld  #1)   \n",
              "0743201116                                The Faeries' Oracle   \n",
              "1862056242                      The World of The Dark Crystal   \n",
              "\n",
              "                                  authors  average_rating language_code  \\\n",
              "isbn                                                                      \n",
              "0439785960     J.K. Rowling-Mary GrandPré            4.56           eng   \n",
              "0439358078     J.K. Rowling-Mary GrandPré            4.49           eng   \n",
              "0439554934     J.K. Rowling-Mary GrandPré            4.47           eng   \n",
              "0439554896                   J.K. Rowling            4.41           eng   \n",
              "043965548X     J.K. Rowling-Mary GrandPré            4.55           eng   \n",
              "...                                   ...             ...           ...   \n",
              "0061186422  Neil Gaiman-Teddy Kristiansen            3.82           eng   \n",
              "0930289552        Neil Gaiman-Dave McKean            3.72           eng   \n",
              "0061238961     Neil Gaiman-Michael Reaves            3.53         en-US   \n",
              "0743201116    Brian Froud-Jessica Macbeth            4.43           eng   \n",
              "1862056242                    Brian Froud            4.29           eng   \n",
              "\n",
              "            num_pages  ratings_count  text_reviews_count  \n",
              "isbn                                                      \n",
              "0439785960        652        1944099               26249  \n",
              "0439358078        870        1996446               27613  \n",
              "0439554934        320        5629932               70390  \n",
              "0439554896        352           6267                 272  \n",
              "043965548X        435        2149872               33964  \n",
              "...               ...            ...                 ...  \n",
              "0061186422        260          11317                1060  \n",
              "0930289552        160           8710                 361  \n",
              "0061238961        239          14334                1485  \n",
              "0743201116        224           1550                  38  \n",
              "1862056242        132           3572                  33  \n",
              "\n",
              "[13606 rows x 7 columns]"
            ]
          },
          "metadata": {
            "tags": []
          },
          "execution_count": 42
        }
      ]
    },
    {
      "cell_type": "code",
      "metadata": {
        "id": "CTtW0zk2UYR9",
        "colab_type": "code",
        "colab": {},
        "outputId": "6e6ef58a-69ff-4de8-f00f-07fa3a8d5cdc"
      },
      "source": [
        "temp_new.describe()\n",
        "    # to column 'num_pages', min = 1, 25% = 198, 50% = 302, 75% = 421, max = 6576."
      ],
      "execution_count": 0,
      "outputs": [
        {
          "output_type": "execute_result",
          "data": {
            "text/html": [
              "<div>\n",
              "<style scoped>\n",
              "    .dataframe tbody tr th:only-of-type {\n",
              "        vertical-align: middle;\n",
              "    }\n",
              "\n",
              "    .dataframe tbody tr th {\n",
              "        vertical-align: top;\n",
              "    }\n",
              "\n",
              "    .dataframe thead th {\n",
              "        text-align: right;\n",
              "    }\n",
              "</style>\n",
              "<table border=\"1\" class=\"dataframe\">\n",
              "  <thead>\n",
              "    <tr style=\"text-align: right;\">\n",
              "      <th></th>\n",
              "      <th>average_rating</th>\n",
              "      <th>num_pages</th>\n",
              "      <th>ratings_count</th>\n",
              "      <th>text_reviews_count</th>\n",
              "    </tr>\n",
              "  </thead>\n",
              "  <tbody>\n",
              "    <tr>\n",
              "      <th>count</th>\n",
              "      <td>13606.000000</td>\n",
              "      <td>13606.000000</td>\n",
              "      <td>1.360600e+04</td>\n",
              "      <td>13606.000000</td>\n",
              "    </tr>\n",
              "    <tr>\n",
              "      <th>mean</th>\n",
              "      <td>3.929816</td>\n",
              "      <td>342.359841</td>\n",
              "      <td>1.787981e+04</td>\n",
              "      <td>537.376672</td>\n",
              "    </tr>\n",
              "    <tr>\n",
              "      <th>std</th>\n",
              "      <td>0.357521</td>\n",
              "      <td>239.021957</td>\n",
              "      <td>1.133908e+05</td>\n",
              "      <td>2538.603871</td>\n",
              "    </tr>\n",
              "    <tr>\n",
              "      <th>min</th>\n",
              "      <td>0.000000</td>\n",
              "      <td>1.000000</td>\n",
              "      <td>0.000000e+00</td>\n",
              "      <td>0.000000</td>\n",
              "    </tr>\n",
              "    <tr>\n",
              "      <th>25%</th>\n",
              "      <td>3.770000</td>\n",
              "      <td>198.000000</td>\n",
              "      <td>8.500000e+01</td>\n",
              "      <td>7.000000</td>\n",
              "    </tr>\n",
              "    <tr>\n",
              "      <th>50%</th>\n",
              "      <td>3.960000</td>\n",
              "      <td>302.000000</td>\n",
              "      <td>6.440000e+02</td>\n",
              "      <td>41.000000</td>\n",
              "    </tr>\n",
              "    <tr>\n",
              "      <th>75%</th>\n",
              "      <td>4.130000</td>\n",
              "      <td>421.000000</td>\n",
              "      <td>4.764500e+03</td>\n",
              "      <td>224.000000</td>\n",
              "    </tr>\n",
              "    <tr>\n",
              "      <th>max</th>\n",
              "      <td>5.000000</td>\n",
              "      <td>4736.000000</td>\n",
              "      <td>5.629932e+06</td>\n",
              "      <td>93619.000000</td>\n",
              "    </tr>\n",
              "  </tbody>\n",
              "</table>\n",
              "</div>"
            ],
            "text/plain": [
              "       average_rating     num_pages  ratings_count  text_reviews_count\n",
              "count    13606.000000  13606.000000   1.360600e+04        13606.000000\n",
              "mean         3.929816    342.359841   1.787981e+04          537.376672\n",
              "std          0.357521    239.021957   1.133908e+05         2538.603871\n",
              "min          0.000000      1.000000   0.000000e+00            0.000000\n",
              "25%          3.770000    198.000000   8.500000e+01            7.000000\n",
              "50%          3.960000    302.000000   6.440000e+02           41.000000\n",
              "75%          4.130000    421.000000   4.764500e+03          224.000000\n",
              "max          5.000000   4736.000000   5.629932e+06        93619.000000"
            ]
          },
          "metadata": {
            "tags": []
          },
          "execution_count": 43
        }
      ]
    },
    {
      "cell_type": "code",
      "metadata": {
        "id": "mgWsUYcUUYSB",
        "colab_type": "code",
        "colab": {},
        "outputId": "32f34069-cbda-4788-95fc-c7a30399af10"
      },
      "source": [
        "# the longest 'num_pages' looks fishy, let's take a look:\n",
        "\n",
        "temp_new[temp_new['num_pages'] == 4736] # well, it just a long book, so I think I get rid of all the series of books."
      ],
      "execution_count": 0,
      "outputs": [
        {
          "output_type": "execute_result",
          "data": {
            "text/html": [
              "<div>\n",
              "<style scoped>\n",
              "    .dataframe tbody tr th:only-of-type {\n",
              "        vertical-align: middle;\n",
              "    }\n",
              "\n",
              "    .dataframe tbody tr th {\n",
              "        vertical-align: top;\n",
              "    }\n",
              "\n",
              "    .dataframe thead th {\n",
              "        text-align: right;\n",
              "    }\n",
              "</style>\n",
              "<table border=\"1\" class=\"dataframe\">\n",
              "  <thead>\n",
              "    <tr style=\"text-align: right;\">\n",
              "      <th></th>\n",
              "      <th>title</th>\n",
              "      <th>authors</th>\n",
              "      <th>average_rating</th>\n",
              "      <th>language_code</th>\n",
              "      <th>num_pages</th>\n",
              "      <th>ratings_count</th>\n",
              "      <th>text_reviews_count</th>\n",
              "      <th>cate_num_pag</th>\n",
              "    </tr>\n",
              "    <tr>\n",
              "      <th>isbn</th>\n",
              "      <th></th>\n",
              "      <th></th>\n",
              "      <th></th>\n",
              "      <th></th>\n",
              "      <th></th>\n",
              "      <th></th>\n",
              "      <th></th>\n",
              "      <th></th>\n",
              "    </tr>\n",
              "  </thead>\n",
              "  <tbody>\n",
              "    <tr>\n",
              "      <th>039541685X</th>\n",
              "      <td>The Second World War</td>\n",
              "      <td>Winston S. Churchill-John Keegan</td>\n",
              "      <td>4.44</td>\n",
              "      <td>eng</td>\n",
              "      <td>4736</td>\n",
              "      <td>1437</td>\n",
              "      <td>94</td>\n",
              "      <td>long</td>\n",
              "    </tr>\n",
              "  </tbody>\n",
              "</table>\n",
              "</div>"
            ],
            "text/plain": [
              "                           title                           authors  \\\n",
              "isbn                                                                 \n",
              "039541685X  The Second World War  Winston S. Churchill-John Keegan   \n",
              "\n",
              "            average_rating language_code  num_pages  ratings_count  \\\n",
              "isbn                                                                 \n",
              "039541685X            4.44           eng       4736           1437   \n",
              "\n",
              "            text_reviews_count cate_num_pag  \n",
              "isbn                                         \n",
              "039541685X                  94         long  "
            ]
          },
          "metadata": {
            "tags": []
          },
          "execution_count": 55
        }
      ]
    },
    {
      "cell_type": "code",
      "metadata": {
        "id": "5Zk2vxNdUYSD",
        "colab_type": "code",
        "colab": {}
      },
      "source": [
        "# let's bin the 'num_pages'\n",
        "bins = [1, 10, 200, 500, 6600]\n",
        "labels =['micro','short','medium','long']\n",
        "temp_new['cate_num_pag'] = pd.cut(temp_new['num_pages'], bins, labels = labels) #ok, it looks good."
      ],
      "execution_count": 0,
      "outputs": []
    },
    {
      "cell_type": "code",
      "metadata": {
        "id": "DdrHYBeJUYSF",
        "colab_type": "code",
        "colab": {},
        "outputId": "8bfb782b-cf57-431b-855a-0c9708113238"
      },
      "source": [
        "# Maybe later we can beased on the relationship between ave_rating and num_pages(s,m,l) to fill the 0s.\n",
        "ax = sns.boxplot(x=\"cate_num_pag\", y=\"average_rating\", data=temp_new)\n",
        "    \n",
        "    # the plot didnt show significant difference, it is hard to fill up the 0 num_pages based on ava_rating."
      ],
      "execution_count": 0,
      "outputs": [
        {
          "output_type": "display_data",
          "data": {
            "image/png": "[encoded data removed]",
            "text/plain": [
              "<Figure size 432x288 with 1 Axes>"
            ]
          },
          "metadata": {
            "tags": [],
            "needs_background": "light"
          }
        }
      ]
    },
    {
      "cell_type": "markdown",
      "metadata": {
        "id": "m2I1wu8OUYSH",
        "colab_type": "text"
      },
      "source": [
        "# EDA -- num_pages = 0 problem\n",
        "\n",
        "#Goal of this part: trying to use a Tree model to anticipate the number of pages that equals to 0. \n",
        "\n",
        "# num_pages ~ average_rating + ratings_count + text_rev_ratio"
      ]
    },
    {
      "cell_type": "code",
      "metadata": {
        "id": "d13V-YfxUYSI",
        "colab_type": "code",
        "colab": {}
      },
      "source": [
        "# get the data.\n",
        "temp = books_trr"
      ],
      "execution_count": 0,
      "outputs": []
    },
    {
      "cell_type": "code",
      "metadata": {
        "id": "zpTP-JgGUYSJ",
        "colab_type": "code",
        "colab": {}
      },
      "source": [
        "# Define train and test dataset.\n",
        "Train = books_trr[books_trr['num_pages'] != 0]\n",
        "Test = books_trr[books_trr['num_pages'] == 0]"
      ],
      "execution_count": 0,
      "outputs": []
    },
    {
      "cell_type": "code",
      "metadata": {
        "id": "fOIebIwNUYSL",
        "colab_type": "code",
        "colab": {}
      },
      "source": [
        "# create a regressor object \n",
        "regressor = DecisionTreeRegressor(random_state = 0)  \n",
        "\n",
        "# define x and y\n",
        "X = Train.iloc[:,[2, 5, 7]].astype(float).values\n",
        "y = Train.num_pages.astype(int).values"
      ],
      "execution_count": 0,
      "outputs": []
    },
    {
      "cell_type": "code",
      "metadata": {
        "id": "zyDq0vjOUYSM",
        "colab_type": "code",
        "colab": {},
        "outputId": "138f7f4a-1feb-4aff-e22f-2246d5c65d66"
      },
      "source": [
        "# check the potential problems.\n",
        "np.any(np.isnan(X)) # this is good"
      ],
      "execution_count": 0,
      "outputs": [
        {
          "output_type": "execute_result",
          "data": {
            "text/plain": [
              "False"
            ]
          },
          "metadata": {
            "tags": []
          },
          "execution_count": 167
        }
      ]
    },
    {
      "cell_type": "code",
      "metadata": {
        "id": "27lM0kE1UYSO",
        "colab_type": "code",
        "colab": {},
        "outputId": "87299acd-da18-4b58-ae38-43fbc9df552e"
      },
      "source": [
        "np.any(np.isnan(y)) # this is good"
      ],
      "execution_count": 0,
      "outputs": [
        {
          "output_type": "execute_result",
          "data": {
            "text/plain": [
              "False"
            ]
          },
          "metadata": {
            "tags": []
          },
          "execution_count": 168
        }
      ]
    },
    {
      "cell_type": "code",
      "metadata": {
        "id": "_OIh7918UYSQ",
        "colab_type": "code",
        "colab": {},
        "outputId": "e376e66d-8b97-43cf-8aa6-b0873609ceb4"
      },
      "source": [
        "np.all(np.isfinite(X)) # If it is False, use:\n",
        "\n",
        "            # np.where(np.isfinite(X) == False)   Very useful\n",
        "# anyway, this is good"
      ],
      "execution_count": 0,
      "outputs": [
        {
          "output_type": "execute_result",
          "data": {
            "text/plain": [
              "True"
            ]
          },
          "metadata": {
            "tags": []
          },
          "execution_count": 171
        }
      ]
    },
    {
      "cell_type": "code",
      "metadata": {
        "id": "2OWHhdapUYST",
        "colab_type": "code",
        "colab": {},
        "outputId": "44dfa5b0-f4f3-46c2-a934-044079d8f3ad"
      },
      "source": [
        "# fit the regressor with X and Y data \n",
        "regressor.fit(X, y)"
      ],
      "execution_count": 0,
      "outputs": [
        {
          "output_type": "execute_result",
          "data": {
            "text/plain": [
              "DecisionTreeRegressor(ccp_alpha=0.0, criterion='mse', max_depth=None,\n",
              "                      max_features=None, max_leaf_nodes=None,\n",
              "                      min_impurity_decrease=0.0, min_impurity_split=None,\n",
              "                      min_samples_leaf=1, min_samples_split=2,\n",
              "                      min_weight_fraction_leaf=0.0, presort='deprecated',\n",
              "                      random_state=0, splitter='best')"
            ]
          },
          "metadata": {
            "tags": []
          },
          "execution_count": 172
        }
      ]
    },
    {
      "cell_type": "code",
      "metadata": {
        "id": "EFbciH-vUYSV",
        "colab_type": "code",
        "colab": {}
      },
      "source": [
        "# define test dataset\n",
        "Test_X = Test.iloc[:,[2, 5, 7]].astype(float).values"
      ],
      "execution_count": 0,
      "outputs": []
    },
    {
      "cell_type": "code",
      "metadata": {
        "id": "5yeMGeAXUYSY",
        "colab_type": "code",
        "colab": {},
        "outputId": "d77e838b-d379-46c9-dffc-0935cd7c6e05"
      },
      "source": [
        "# predicting a new value \n",
        "y_pred = regressor.predict(Test_X) \n",
        "  \n",
        "# print the predicted price \n",
        "y_pred"
      ],
      "execution_count": 0,
      "outputs": [
        {
          "output_type": "execute_result",
          "data": {
            "text/plain": [
              "array([4.80000000e+01, 4.16000000e+02, 9.60000000e+01, 5.76000000e+02,\n",
              "       1.50000000e+01, 2.40000000e+02, 7.43000000e+02, 3.20000000e+01,\n",
              "       1.89000000e+02, 6.56000000e+02, 1.00000000e+00, 8.00000000e+01,\n",
              "       8.33000000e+02, 6.99000000e+02, 5.25666667e+02, 2.24000000e+02,\n",
              "       1.28000000e+02, 3.36000000e+02, 7.44000000e+02, 2.58000000e+02,\n",
              "       8.40000000e+02, 1.54000000e+02, 4.66000000e+02, 1.96000000e+02,\n",
              "       4.00000000e+01, 2.40000000e+02, 2.64000000e+02, 4.10000000e+02,\n",
              "       1.20000000e+02, 9.69000000e+02, 1.41600000e+03, 4.65000000e+02,\n",
              "       4.00000000e+02, 2.56000000e+02, 1.28000000e+02, 7.20000000e+01,\n",
              "       1.97333333e+02, 4.80000000e+02, 3.47000000e+02, 3.20000000e+02,\n",
              "       4.40000000e+02, 4.32000000e+02, 9.03000000e+02, 1.92000000e+02,\n",
              "       2.49400000e+02, 1.92000000e+02, 5.04000000e+02, 2.85000000e+02,\n",
              "       6.70000000e+02, 3.70000000e+02, 5.44000000e+02, 6.24000000e+02,\n",
              "       3.52000000e+02, 4.80000000e+01, 2.56000000e+02, 8.00000000e+01,\n",
              "       2.17000000e+02, 2.56000000e+02, 7.92000000e+02, 3.20000000e+01,\n",
              "       2.40000000e+01, 2.56000000e+02, 2.82666667e+02, 4.27000000e+02,\n",
              "       1.32000000e+02, 2.58000000e+02, 3.55000000e+02, 2.61000000e+02,\n",
              "       3.71400000e+02, 3.25000000e+02, 5.42000000e+02, 2.32750000e+02,\n",
              "       1.92000000e+02, 3.20000000e+02, 4.53000000e+02, 5.76000000e+02,\n",
              "       2.72000000e+02, 2.02000000e+02, 3.26000000e+02, 2.86000000e+02,\n",
              "       3.17000000e+02, 9.60000000e+01, 3.92000000e+02, 1.60000000e+02])"
            ]
          },
          "metadata": {
            "tags": []
          },
          "execution_count": 179
        }
      ]
    },
    {
      "cell_type": "code",
      "metadata": {
        "id": "uOiblz45eyT9",
        "colab_type": "code",
        "colab": {
          "base_uri": "https://localhost:8080/",
          "height": 168
        },
        "outputId": "be05c790-1bf5-4b8d-8be2-710b92918132"
      },
      "source": [
        "sum(y_test - y_pred)^2"
      ],
      "execution_count": 1,
      "outputs": [
        {
          "output_type": "error",
          "ename": "NameError",
          "evalue": "ignored",
          "traceback": [
            "\u001b[0;31m---------------------------------------------------------------------------\u001b[0m",
            "\u001b[0;31mNameError\u001b[0m                                 Traceback (most recent call last)",
            "\u001b[0;32m<ipython-input-1-184f7ef5439b>\u001b[0m in \u001b[0;36m<module>\u001b[0;34m()\u001b[0m\n\u001b[0;32m----> 1\u001b[0;31m \u001b[0msum\u001b[0m\u001b[0;34m(\u001b[0m\u001b[0my_test\u001b[0m \u001b[0;34m-\u001b[0m \u001b[0my_pred\u001b[0m\u001b[0;34m)\u001b[0m\u001b[0;34m^\u001b[0m\u001b[0;36m2\u001b[0m\u001b[0;34m\u001b[0m\u001b[0;34m\u001b[0m\u001b[0m\n\u001b[0m",
            "\u001b[0;31mNameError\u001b[0m: name 'y_test' is not defined"
          ]
        }
      ]
    },
    {
      "cell_type": "code",
      "metadata": {
        "id": "cXYN9JB9UYSa",
        "colab_type": "code",
        "colab": {}
      },
      "source": [
        ""
      ],
      "execution_count": 0,
      "outputs": []
    },
    {
      "cell_type": "markdown",
      "metadata": {
        "id": "ysxMBRIwUYSd",
        "colab_type": "text"
      },
      "source": [
        "# Conclusion for the model: It works but mae is large. another way. "
      ]
    }
  ]
}